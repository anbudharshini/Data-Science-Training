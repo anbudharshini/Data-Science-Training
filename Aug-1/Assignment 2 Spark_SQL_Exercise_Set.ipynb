{
  "nbformat": 4,
  "nbformat_minor": 0,
  "metadata": {
    "colab": {
      "provenance": []
    },
    "kernelspec": {
      "name": "python3",
      "display_name": "Python 3"
    },
    "language_info": {
      "name": "python"
    }
  },
  "cells": [
    {
      "cell_type": "markdown",
      "source": [
        "# E-Commerce Orders"
      ],
      "metadata": {
        "id": "TMd1azynoYXB"
      }
    },
    {
      "cell_type": "code",
      "execution_count": 2,
      "metadata": {
        "id": "kW_95cn1oWNC"
      },
      "outputs": [],
      "source": [
        "from pyspark.sql import SparkSession\n",
        "from pyspark.sql.functions import col, expr, to_date, month, avg, max, count, dense_rank, row_number\n",
        "from pyspark.sql.window import Window\n",
        "\n",
        "# create spark session\n",
        "spark = SparkSession.builder.appName(\"orders_analysis\").getOrCreate()\n",
        "\n",
        "# sample data\n",
        "data = [\n",
        "    (1, \"alice\", \"laptop\", \"electronics\", 2, 50000, \"2023-01-15\"),\n",
        "    (2, \"bob\", \"t-shirt\", \"clothing\", 1, 800, \"2023-01-20\"),\n",
        "    (3, \"carol\", \"bookshelf\", \"furniture\", 1, 7000, \"2023-02-10\"),\n",
        "    (4, \"dave\", \"novel\", \"books\", 3, 300, \"2023-01-05\"),\n",
        "    (5, \"eve\", \"sofa\", \"furniture\", 2, 15000, \"2023-03-12\"),\n",
        "    (6, \"frank\", \"tv\", \"electronics\", 1, 40000, \"2023-01-25\"),\n",
        "    (7, \"grace\", \"jeans\", \"clothing\", 4, 1200, \"2023-02-18\"),\n",
        "    (8, \"heidi\", \"desk\", \"furniture\", 1, 9000, \"2023-03-05\"),\n",
        "    (9, \"ivan\", \"textbook\", \"books\", 2, 500, \"2023-04-10\"),\n",
        "    (10, \"judy\", \"headphones\", \"electronics\", 2, 2500, \"2023-01-11\"),\n",
        "    (11, \"mallory\", \"jacket\", \"clothing\", 2, 2500, \"2023-04-15\"),\n",
        "    (12, \"oscar\", \"lamp\", \"furniture\", 5, 1000, \"2023-01-18\"),\n",
        "]\n",
        "\n",
        "# define schema\n",
        "columns = [\"orderid\", \"customername\", \"product\", \"category\", \"quantity\", \"unitprice\", \"orderdate\"]\n",
        "\n",
        "# create dataframe\n",
        "df = spark.createDataFrame(data, columns)\n",
        "\n",
        "# convert orderdate to date type\n",
        "df = df.withColumn(\"orderdate\", to_date(\"orderdate\"))\n",
        "\n",
        "# create local and global views\n",
        "df.createOrReplaceTempView(\"orders_local\")\n",
        "df.createGlobalTempView(\"orders_global\")"
      ]
    },
    {
      "cell_type": "markdown",
      "source": [
        "#Part A: Local View – orders_local\n",
        "##1. List all orders placed for \"Electronics\" with a Quantity of 2 or more."
      ],
      "metadata": {
        "id": "tWt1h2VwpUoN"
      }
    },
    {
      "cell_type": "code",
      "source": [
        "spark.sql(\"\"\"\n",
        "    select *\n",
        "    from orders_local\n",
        "    where category = 'electronics' and quantity >= 2\n",
        "\"\"\").show()"
      ],
      "metadata": {
        "colab": {
          "base_uri": "https://localhost:8080/"
        },
        "id": "ULob3VMopQgH",
        "outputId": "922af366-0708-4343-8ca6-0140772501e6"
      },
      "execution_count": 11,
      "outputs": [
        {
          "output_type": "stream",
          "name": "stdout",
          "text": [
            "+-------+------------+----------+-----------+--------+---------+----------+\n",
            "|orderid|customername|   product|   category|quantity|unitprice| orderdate|\n",
            "+-------+------------+----------+-----------+--------+---------+----------+\n",
            "|      1|       alice|    laptop|electronics|       2|    50000|2023-01-15|\n",
            "|     10|        judy|headphones|electronics|       2|     2500|2023-01-11|\n",
            "+-------+------------+----------+-----------+--------+---------+----------+\n",
            "\n"
          ]
        }
      ]
    },
    {
      "cell_type": "markdown",
      "source": [
        "## 2. Calculate TotalAmount (Quantity × UnitPrice) for each order."
      ],
      "metadata": {
        "id": "qN7b_pDup0gm"
      }
    },
    {
      "cell_type": "code",
      "source": [
        "spark.sql(\"\"\"\n",
        "    select *,\n",
        "           quantity * unitprice as totalamount\n",
        "    from orders_local\n",
        "\"\"\").show()"
      ],
      "metadata": {
        "colab": {
          "base_uri": "https://localhost:8080/"
        },
        "id": "PZL1ZJS_p4OT",
        "outputId": "af4d6dae-fbc2-4f4b-88a4-adf6fcd0be95"
      },
      "execution_count": 10,
      "outputs": [
        {
          "output_type": "stream",
          "name": "stdout",
          "text": [
            "+-------+------------+----------+-----------+--------+---------+----------+-----------+\n",
            "|orderid|customername|   product|   category|quantity|unitprice| orderdate|totalamount|\n",
            "+-------+------------+----------+-----------+--------+---------+----------+-----------+\n",
            "|      1|       alice|    laptop|electronics|       2|    50000|2023-01-15|     100000|\n",
            "|      2|         bob|   t-shirt|   clothing|       1|      800|2023-01-20|        800|\n",
            "|      3|       carol| bookshelf|  furniture|       1|     7000|2023-02-10|       7000|\n",
            "|      4|        dave|     novel|      books|       3|      300|2023-01-05|        900|\n",
            "|      5|         eve|      sofa|  furniture|       2|    15000|2023-03-12|      30000|\n",
            "|      6|       frank|        tv|electronics|       1|    40000|2023-01-25|      40000|\n",
            "|      7|       grace|     jeans|   clothing|       4|     1200|2023-02-18|       4800|\n",
            "|      8|       heidi|      desk|  furniture|       1|     9000|2023-03-05|       9000|\n",
            "|      9|        ivan|  textbook|      books|       2|      500|2023-04-10|       1000|\n",
            "|     10|        judy|headphones|electronics|       2|     2500|2023-01-11|       5000|\n",
            "|     11|     mallory|    jacket|   clothing|       2|     2500|2023-04-15|       5000|\n",
            "|     12|       oscar|      lamp|  furniture|       5|     1000|2023-01-18|       5000|\n",
            "+-------+------------+----------+-----------+--------+---------+----------+-----------+\n",
            "\n"
          ]
        }
      ]
    },
    {
      "cell_type": "markdown",
      "source": [
        "## 3. Show the total number of orders per Category ."
      ],
      "metadata": {
        "id": "WBkggb8OqIj_"
      }
    },
    {
      "cell_type": "code",
      "source": [
        "spark.sql(\"\"\"\n",
        "    select category,\n",
        "           count(*) as total_orders\n",
        "    from orders_local\n",
        "    group by category\n",
        "\"\"\").show()"
      ],
      "metadata": {
        "colab": {
          "base_uri": "https://localhost:8080/"
        },
        "id": "kwP_MVbvqLTX",
        "outputId": "3baffe90-505d-4002-ae65-c31b0781f2e3"
      },
      "execution_count": 9,
      "outputs": [
        {
          "output_type": "stream",
          "name": "stdout",
          "text": [
            "+-----------+------------+\n",
            "|   category|total_orders|\n",
            "+-----------+------------+\n",
            "|      books|           2|\n",
            "|  furniture|           4|\n",
            "|electronics|           3|\n",
            "|   clothing|           3|\n",
            "+-----------+------------+\n",
            "\n"
          ]
        }
      ]
    },
    {
      "cell_type": "markdown",
      "source": [
        "## 4. List orders placed in \"January 2023\" only."
      ],
      "metadata": {
        "id": "3kD17tWqrl8O"
      }
    },
    {
      "cell_type": "code",
      "source": [
        "spark.sql(\"\"\"\n",
        "    select *\n",
        "    from orders_local\n",
        "    where date_format(orderdate, 'yyyy-MM') = '2023-01'\n",
        "\"\"\").show()"
      ],
      "metadata": {
        "colab": {
          "base_uri": "https://localhost:8080/"
        },
        "id": "yV1lKQXWrqwf",
        "outputId": "07a31623-d41d-422e-84c7-c9cebfd69e61"
      },
      "execution_count": 12,
      "outputs": [
        {
          "output_type": "stream",
          "name": "stdout",
          "text": [
            "+-------+------------+----------+-----------+--------+---------+----------+\n",
            "|orderid|customername|   product|   category|quantity|unitprice| orderdate|\n",
            "+-------+------------+----------+-----------+--------+---------+----------+\n",
            "|      1|       alice|    laptop|electronics|       2|    50000|2023-01-15|\n",
            "|      2|         bob|   t-shirt|   clothing|       1|      800|2023-01-20|\n",
            "|      4|        dave|     novel|      books|       3|      300|2023-01-05|\n",
            "|      6|       frank|        tv|electronics|       1|    40000|2023-01-25|\n",
            "|     10|        judy|headphones|electronics|       2|     2500|2023-01-11|\n",
            "|     12|       oscar|      lamp|  furniture|       5|     1000|2023-01-18|\n",
            "+-------+------------+----------+-----------+--------+---------+----------+\n",
            "\n"
          ]
        }
      ]
    },
    {
      "cell_type": "markdown",
      "source": [
        "## 5. Show the average UnitPrice per category."
      ],
      "metadata": {
        "id": "GIyNmKLBr0KE"
      }
    },
    {
      "cell_type": "code",
      "source": [
        "spark.sql(\"\"\"\n",
        "    select category,\n",
        "           round(avg(unitprice), 2) as avg_unitprice\n",
        "    from orders_local\n",
        "    group by category\n",
        "\"\"\").show()"
      ],
      "metadata": {
        "colab": {
          "base_uri": "https://localhost:8080/"
        },
        "id": "FD1Mthscr5ay",
        "outputId": "5e3be53e-2039-4c04-d41b-4571f770e8ec"
      },
      "execution_count": 13,
      "outputs": [
        {
          "output_type": "stream",
          "name": "stdout",
          "text": [
            "+-----------+-------------+\n",
            "|   category|avg_unitprice|\n",
            "+-----------+-------------+\n",
            "|      books|        400.0|\n",
            "|  furniture|       8000.0|\n",
            "|electronics|     30833.33|\n",
            "|   clothing|       1500.0|\n",
            "+-----------+-------------+\n",
            "\n"
          ]
        }
      ]
    },
    {
      "cell_type": "markdown",
      "source": [
        "## 6. Find the order with the highest total amount."
      ],
      "metadata": {
        "id": "VOj9IXznr8zT"
      }
    },
    {
      "cell_type": "code",
      "source": [
        "spark.sql(\"\"\"\n",
        "    select *,\n",
        "           quantity * unitprice as totalamount\n",
        "    from orders_local\n",
        "    order by totalamount desc\n",
        "    limit 1\n",
        "\"\"\").show()"
      ],
      "metadata": {
        "colab": {
          "base_uri": "https://localhost:8080/"
        },
        "id": "48ES1VdMsBEk",
        "outputId": "b3ffa13a-6b57-4bdb-8e2b-c49143b98d2e"
      },
      "execution_count": 14,
      "outputs": [
        {
          "output_type": "stream",
          "name": "stdout",
          "text": [
            "+-------+------------+-------+-----------+--------+---------+----------+-----------+\n",
            "|orderid|customername|product|   category|quantity|unitprice| orderdate|totalamount|\n",
            "+-------+------------+-------+-----------+--------+---------+----------+-----------+\n",
            "|      1|       alice| laptop|electronics|       2|    50000|2023-01-15|     100000|\n",
            "+-------+------------+-------+-----------+--------+---------+----------+-----------+\n",
            "\n"
          ]
        }
      ]
    },
    {
      "cell_type": "markdown",
      "source": [
        "## 7. Drop the local view"
      ],
      "metadata": {
        "id": "CY7J1TjNsEPO"
      }
    },
    {
      "cell_type": "code",
      "source": [
        "spark.catalog.dropTempView(\"orders_local\")"
      ],
      "metadata": {
        "colab": {
          "base_uri": "https://localhost:8080/"
        },
        "id": "KaNhTG11sLux",
        "outputId": "919b9bf5-c56c-42fc-8822-22b4727a8fe8"
      },
      "execution_count": 16,
      "outputs": [
        {
          "output_type": "execute_result",
          "data": {
            "text/plain": [
              "False"
            ]
          },
          "metadata": {},
          "execution_count": 16
        }
      ]
    },
    {
      "cell_type": "markdown",
      "source": [
        "#Part B: Global View – orders_global\n",
        "##1. Display all \"Furniture\" orders with TotalAmount above 10,000."
      ],
      "metadata": {
        "id": "CmVEOT9lsQIm"
      }
    },
    {
      "cell_type": "code",
      "source": [
        "spark.sql(\"\"\"\n",
        "    select *,\n",
        "           quantity * unitprice as totalamount\n",
        "    from global_temp.orders_global\n",
        "    where category = 'furniture' and (quantity * unitprice) > 10000\n",
        "\"\"\").show()"
      ],
      "metadata": {
        "colab": {
          "base_uri": "https://localhost:8080/"
        },
        "id": "pVOq55MCsWUH",
        "outputId": "aa8b4709-1315-4f85-ae0f-67dcab82317b"
      },
      "execution_count": 17,
      "outputs": [
        {
          "output_type": "stream",
          "name": "stdout",
          "text": [
            "+-------+------------+-------+---------+--------+---------+----------+-----------+\n",
            "|orderid|customername|product| category|quantity|unitprice| orderdate|totalamount|\n",
            "+-------+------------+-------+---------+--------+---------+----------+-----------+\n",
            "|      5|         eve|   sofa|furniture|       2|    15000|2023-03-12|      30000|\n",
            "+-------+------------+-------+---------+--------+---------+----------+-----------+\n",
            "\n"
          ]
        }
      ]
    },
    {
      "cell_type": "markdown",
      "source": [
        "#2. Create a column called DiscountFlag :\n",
        "##Mark \"Yes\" if Quantity > 3\n",
        "##Otherwise \"No\""
      ],
      "metadata": {
        "id": "emaMYiidsZOC"
      }
    },
    {
      "cell_type": "code",
      "source": [
        "spark.sql(\"\"\"\n",
        "    select *,\n",
        "           case when quantity > 3 then 'yes' else 'no' end as discountflag\n",
        "    from global_temp.orders_global\n",
        "\"\"\").show()"
      ],
      "metadata": {
        "colab": {
          "base_uri": "https://localhost:8080/"
        },
        "id": "JUictOj9se_M",
        "outputId": "019f54f7-7096-46e0-b75d-7cf6474fb4fe"
      },
      "execution_count": 18,
      "outputs": [
        {
          "output_type": "stream",
          "name": "stdout",
          "text": [
            "+-------+------------+----------+-----------+--------+---------+----------+------------+\n",
            "|orderid|customername|   product|   category|quantity|unitprice| orderdate|discountflag|\n",
            "+-------+------------+----------+-----------+--------+---------+----------+------------+\n",
            "|      1|       alice|    laptop|electronics|       2|    50000|2023-01-15|          no|\n",
            "|      2|         bob|   t-shirt|   clothing|       1|      800|2023-01-20|          no|\n",
            "|      3|       carol| bookshelf|  furniture|       1|     7000|2023-02-10|          no|\n",
            "|      4|        dave|     novel|      books|       3|      300|2023-01-05|          no|\n",
            "|      5|         eve|      sofa|  furniture|       2|    15000|2023-03-12|          no|\n",
            "|      6|       frank|        tv|electronics|       1|    40000|2023-01-25|          no|\n",
            "|      7|       grace|     jeans|   clothing|       4|     1200|2023-02-18|         yes|\n",
            "|      8|       heidi|      desk|  furniture|       1|     9000|2023-03-05|          no|\n",
            "|      9|        ivan|  textbook|      books|       2|      500|2023-04-10|          no|\n",
            "|     10|        judy|headphones|electronics|       2|     2500|2023-01-11|          no|\n",
            "|     11|     mallory|    jacket|   clothing|       2|     2500|2023-04-15|          no|\n",
            "|     12|       oscar|      lamp|  furniture|       5|     1000|2023-01-18|         yes|\n",
            "+-------+------------+----------+-----------+--------+---------+----------+------------+\n",
            "\n"
          ]
        }
      ]
    },
    {
      "cell_type": "markdown",
      "source": [
        "## 3. List customers who ordered more than 1 product type"
      ],
      "metadata": {
        "id": "6zJEUOP2sh6v"
      }
    },
    {
      "cell_type": "code",
      "source": [
        "spark.sql(\"\"\"\n",
        "    select customername\n",
        "    from global_temp.orders_global\n",
        "    group by customername\n",
        "    having count(distinct category) > 1\n",
        "\"\"\").show()"
      ],
      "metadata": {
        "colab": {
          "base_uri": "https://localhost:8080/"
        },
        "id": "T17t0yi6sm9w",
        "outputId": "1d389506-4ba5-408e-dd4c-d836696e626d"
      },
      "execution_count": 19,
      "outputs": [
        {
          "output_type": "stream",
          "name": "stdout",
          "text": [
            "+------------+\n",
            "|customername|\n",
            "+------------+\n",
            "+------------+\n",
            "\n"
          ]
        }
      ]
    },
    {
      "cell_type": "markdown",
      "source": [
        "## 4. Count number of orders per month across the dataset."
      ],
      "metadata": {
        "id": "vU_-0MJYsp5l"
      }
    },
    {
      "cell_type": "code",
      "source": [
        "spark.sql(\"\"\"\n",
        "    select date_format(orderdate, 'yyyy-MM') as month,\n",
        "           count(*) as order_count\n",
        "    from global_temp.orders_global\n",
        "    group by date_format(orderdate, 'yyyy-MM')\n",
        "    order by month\n",
        "\"\"\").show()"
      ],
      "metadata": {
        "colab": {
          "base_uri": "https://localhost:8080/"
        },
        "id": "xSSsEuvmstKF",
        "outputId": "2a7d2c68-2360-4d20-ee56-3d0fa0ef6ee2"
      },
      "execution_count": 20,
      "outputs": [
        {
          "output_type": "stream",
          "name": "stdout",
          "text": [
            "+-------+-----------+\n",
            "|  month|order_count|\n",
            "+-------+-----------+\n",
            "|2023-01|          6|\n",
            "|2023-02|          2|\n",
            "|2023-03|          2|\n",
            "|2023-04|          2|\n",
            "+-------+-----------+\n",
            "\n"
          ]
        }
      ]
    },
    {
      "cell_type": "markdown",
      "source": [
        "## 5. Rank all products by total quantity sold across all orders using a window\n",
        "##function."
      ],
      "metadata": {
        "id": "bwoAYZUOswBk"
      }
    },
    {
      "cell_type": "code",
      "source": [
        "spark.sql(\"\"\"\n",
        "    select product,\n",
        "           sum(quantity) as total_quantity,\n",
        "           rank() over (order by sum(quantity) desc) as product_rank\n",
        "    from global_temp.orders_global\n",
        "    group by product\n",
        "\"\"\").show()"
      ],
      "metadata": {
        "colab": {
          "base_uri": "https://localhost:8080/"
        },
        "id": "7mIaRRWws0zn",
        "outputId": "790b47a4-9065-4264-85ad-93fd5481184a"
      },
      "execution_count": 22,
      "outputs": [
        {
          "output_type": "stream",
          "name": "stdout",
          "text": [
            "+----------+--------------+------------+\n",
            "|   product|total_quantity|product_rank|\n",
            "+----------+--------------+------------+\n",
            "|      lamp|             5|           1|\n",
            "|     jeans|             4|           2|\n",
            "|     novel|             3|           3|\n",
            "|    laptop|             2|           4|\n",
            "|      sofa|             2|           4|\n",
            "|  textbook|             2|           4|\n",
            "|    jacket|             2|           4|\n",
            "|headphones|             2|           4|\n",
            "| bookshelf|             1|           9|\n",
            "|        tv|             1|           9|\n",
            "|   t-shirt|             1|           9|\n",
            "|      desk|             1|           9|\n",
            "+----------+--------------+------------+\n",
            "\n"
          ]
        }
      ]
    },
    {
      "cell_type": "markdown",
      "source": [
        "## 6. Run a query using a new SparkSession and the global view."
      ],
      "metadata": {
        "id": "kvT3AFU3tSwX"
      }
    },
    {
      "cell_type": "code",
      "source": [
        "from pyspark.sql import SparkSession\n",
        "\n",
        "new_spark = SparkSession.builder.getOrCreate()\n",
        "\n",
        "new_spark.sql(\"\"\"\n",
        "    select *\n",
        "    from global_temp.orders_global\n",
        "    where category = 'books'\n",
        "\"\"\").show()"
      ],
      "metadata": {
        "colab": {
          "base_uri": "https://localhost:8080/"
        },
        "id": "z3yZTyY-tVkn",
        "outputId": "9ce8d8d2-0261-4de0-e797-36dd68dbecf9"
      },
      "execution_count": 23,
      "outputs": [
        {
          "output_type": "stream",
          "name": "stdout",
          "text": [
            "+-------+------------+--------+--------+--------+---------+----------+\n",
            "|orderid|customername| product|category|quantity|unitprice| orderdate|\n",
            "+-------+------------+--------+--------+--------+---------+----------+\n",
            "|      4|        dave|   novel|   books|       3|      300|2023-01-05|\n",
            "|      9|        ivan|textbook|   books|       2|      500|2023-04-10|\n",
            "+-------+------------+--------+--------+--------+---------+----------+\n",
            "\n"
          ]
        }
      ]
    },
    {
      "cell_type": "markdown",
      "source": [
        "#Bonus Challenges\n",
        "## 1. Save a filtered subset (only \"Books\" category) as a new global temp view."
      ],
      "metadata": {
        "id": "B4s713bXtZXq"
      }
    },
    {
      "cell_type": "code",
      "source": [
        "spark.sql(\"\"\"\n",
        "    select *\n",
        "    from global_temp.orders_global\n",
        "    where category = 'books'\n",
        "\"\"\").createOrReplaceGlobalTempView(\"books_only\")"
      ],
      "metadata": {
        "id": "yUvHpWLetd8F"
      },
      "execution_count": 24,
      "outputs": []
    },
    {
      "cell_type": "markdown",
      "source": [
        "## 2. Find the most purchased product per category."
      ],
      "metadata": {
        "id": "AemhrV74tg6w"
      }
    },
    {
      "cell_type": "code",
      "source": [
        "spark.sql(\"\"\"\n",
        "    select *\n",
        "    from (\n",
        "        select category,\n",
        "               product,\n",
        "               sum(quantity) as total_sold,\n",
        "               dense_rank() over (partition by category order by sum(quantity) desc) as rnk\n",
        "        from global_temp.orders_global\n",
        "        group by category, product\n",
        "    ) where rnk = 1\n",
        "\"\"\").show()"
      ],
      "metadata": {
        "colab": {
          "base_uri": "https://localhost:8080/"
        },
        "id": "Zz6o2pDgtjpV",
        "outputId": "2dea1eaf-31cb-4f94-eccd-5c222ec4d01c"
      },
      "execution_count": 26,
      "outputs": [
        {
          "output_type": "stream",
          "name": "stdout",
          "text": [
            "+-----------+----------+----------+---+\n",
            "|   category|   product|total_sold|rnk|\n",
            "+-----------+----------+----------+---+\n",
            "|      books|     novel|         3|  1|\n",
            "|   clothing|     jeans|         4|  1|\n",
            "|electronics|    laptop|         2|  1|\n",
            "|electronics|headphones|         2|  1|\n",
            "|  furniture|      lamp|         5|  1|\n",
            "+-----------+----------+----------+---+\n",
            "\n"
          ]
        }
      ]
    },
    {
      "cell_type": "markdown",
      "source": [
        "## 3. Create a view that excludes all \"Clothing\" orders and call it\n",
        "##\"filtered_orders\" ."
      ],
      "metadata": {
        "id": "zCaeEoF7tu24"
      }
    },
    {
      "cell_type": "code",
      "source": [
        "spark.sql(\"\"\"\n",
        "    select *\n",
        "    from global_temp.orders_global\n",
        "    where category != 'clothing'\n",
        "\"\"\").createOrReplaceGlobalTempView(\"filtered_orders\")"
      ],
      "metadata": {
        "id": "4jFpgGFhtysN"
      },
      "execution_count": 27,
      "outputs": []
    }
  ]
}