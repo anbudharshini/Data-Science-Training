{
  "nbformat": 4,
  "nbformat_minor": 0,
  "metadata": {
    "colab": {
      "provenance": []
    },
    "kernelspec": {
      "name": "python3",
      "display_name": "Python 3"
    },
    "language_info": {
      "name": "python"
    }
  },
  "cells": [
    {
      "cell_type": "code",
      "execution_count": 2,
      "metadata": {
        "id": "s-OZU4y21aHx"
      },
      "outputs": [],
      "source": [
        "from pyspark.sql import SparkSession\n",
        "\n",
        "spark = SparkSession.builder \\\n",
        "    .appName(\"SparkSQLExample\") \\\n",
        "    .getOrCreate()"
      ]
    },
    {
      "cell_type": "code",
      "source": [
        "from pyspark.sql import Row\n",
        "\n",
        "# Sample employee data\n",
        "data = [\n",
        "    Row(EmpID=101, Name=\"Ravi\", Department=\"Sales\", Salary=50000),\n",
        "    Row(EmpID=102, Name=\"Sneha\", Department=\"Engineering\", Salary=80000),\n",
        "    Row(EmpID=103, Name=\"Kabir\", Department=\"HR\", Salary=45000),\n",
        "    Row(EmpID=104, Name=\"Anita\", Department=\"Engineering\", Salary=85000),\n",
        "    Row(EmpID=105, Name=\"Amit\", Department=\"Sales\", Salary=55000),\n",
        "]\n",
        "\n",
        "df = spark.createDataFrame(data)\n",
        "df.show()"
      ],
      "metadata": {
        "colab": {
          "base_uri": "https://localhost:8080/"
        },
        "id": "r7fCPP8q2lRB",
        "outputId": "12b7d4fe-4cb0-4c8d-ed03-b4d9e2d08839"
      },
      "execution_count": 10,
      "outputs": [
        {
          "output_type": "stream",
          "name": "stdout",
          "text": [
            "+-----+-----+-----------+------+\n",
            "|EmpID| Name| Department|Salary|\n",
            "+-----+-----+-----------+------+\n",
            "|  101| Ravi|      Sales| 50000|\n",
            "|  102|Sneha|Engineering| 80000|\n",
            "|  103|Kabir|         HR| 45000|\n",
            "|  104|Anita|Engineering| 85000|\n",
            "|  105| Amit|      Sales| 55000|\n",
            "+-----+-----+-----------+------+\n",
            "\n"
          ]
        }
      ]
    },
    {
      "cell_type": "code",
      "source": [
        "df.createOrReplaceTempView(\"employees\")"
      ],
      "metadata": {
        "id": "pK3CpeY93EGB"
      },
      "execution_count": 11,
      "outputs": []
    },
    {
      "cell_type": "code",
      "source": [
        "spark.sql(\"SELECT * FROM employees\").show()"
      ],
      "metadata": {
        "colab": {
          "base_uri": "https://localhost:8080/"
        },
        "id": "LmaZq9UZ3QJO",
        "outputId": "7452ab3f-4f15-4167-8239-6348a6087514"
      },
      "execution_count": 12,
      "outputs": [
        {
          "output_type": "stream",
          "name": "stdout",
          "text": [
            "+-----+-----+-----------+------+\n",
            "|EmpID| Name| Department|Salary|\n",
            "+-----+-----+-----------+------+\n",
            "|  101| Ravi|      Sales| 50000|\n",
            "|  102|Sneha|Engineering| 80000|\n",
            "|  103|Kabir|         HR| 45000|\n",
            "|  104|Anita|Engineering| 85000|\n",
            "|  105| Amit|      Sales| 55000|\n",
            "+-----+-----+-----------+------+\n",
            "\n"
          ]
        }
      ]
    },
    {
      "cell_type": "code",
      "source": [
        "spark.sql(\"SELECT Name, Salary FROM employees WHERE Salary > 60000\").show()"
      ],
      "metadata": {
        "colab": {
          "base_uri": "https://localhost:8080/"
        },
        "id": "tcIsHtEl3Vht",
        "outputId": "4c5298cc-4fe9-4453-f7ef-bbe955c97200"
      },
      "execution_count": 13,
      "outputs": [
        {
          "output_type": "stream",
          "name": "stdout",
          "text": [
            "+-----+------+\n",
            "| Name|Salary|\n",
            "+-----+------+\n",
            "|Sneha| 80000|\n",
            "|Anita| 85000|\n",
            "+-----+------+\n",
            "\n"
          ]
        }
      ]
    },
    {
      "cell_type": "code",
      "source": [
        "spark.sql(\"SELECT Department, AVG(Salary) AS AvgSalary FROM employees GROUP BY Department\").show()"
      ],
      "metadata": {
        "colab": {
          "base_uri": "https://localhost:8080/"
        },
        "id": "qxYTso1h4Z0z",
        "outputId": "b3f578e1-61ef-471c-c831-2e3ce009035c"
      },
      "execution_count": 14,
      "outputs": [
        {
          "output_type": "stream",
          "name": "stdout",
          "text": [
            "+-----------+---------+\n",
            "| Department|AvgSalary|\n",
            "+-----------+---------+\n",
            "|      Sales|  52500.0|\n",
            "|Engineering|  82500.0|\n",
            "|         HR|  45000.0|\n",
            "+-----------+---------+\n",
            "\n"
          ]
        }
      ]
    },
    {
      "cell_type": "code",
      "source": [
        "spark.sql(\"select * from employees order by salary desc\").show()"
      ],
      "metadata": {
        "colab": {
          "base_uri": "https://localhost:8080/"
        },
        "id": "kHzDWN7J4g7y",
        "outputId": "df4e30a4-6ab8-4595-fdd8-43b823ad7655"
      },
      "execution_count": 15,
      "outputs": [
        {
          "output_type": "stream",
          "name": "stdout",
          "text": [
            "+-----+-----+-----------+------+\n",
            "|EmpID| Name| Department|Salary|\n",
            "+-----+-----+-----------+------+\n",
            "|  104|Anita|Engineering| 85000|\n",
            "|  102|Sneha|Engineering| 80000|\n",
            "|  105| Amit|      Sales| 55000|\n",
            "|  101| Ravi|      Sales| 50000|\n",
            "|  103|Kabir|         HR| 45000|\n",
            "+-----+-----+-----------+------+\n",
            "\n"
          ]
        }
      ]
    },
    {
      "cell_type": "markdown",
      "source": [
        "# Global temp view"
      ],
      "metadata": {
        "id": "swGj2Mjo6T-W"
      }
    },
    {
      "cell_type": "code",
      "source": [
        "df.createOrReplaceGlobalTempView(\"employees_global\")"
      ],
      "metadata": {
        "id": "u6TfCP8B5gLC"
      },
      "execution_count": 16,
      "outputs": []
    },
    {
      "cell_type": "code",
      "source": [
        "spark.sql(\"SELECT * FROM global_temp.employees_global where salary>60000\").show()"
      ],
      "metadata": {
        "colab": {
          "base_uri": "https://localhost:8080/"
        },
        "id": "pYw4ZZ4Y5wpw",
        "outputId": "a4ff7824-0911-4bb5-c849-f9c40eff1a4d"
      },
      "execution_count": 17,
      "outputs": [
        {
          "output_type": "stream",
          "name": "stdout",
          "text": [
            "+-----+-----+-----------+------+\n",
            "|EmpID| Name| Department|Salary|\n",
            "+-----+-----+-----------+------+\n",
            "|  102|Sneha|Engineering| 80000|\n",
            "|  104|Anita|Engineering| 85000|\n",
            "+-----+-----+-----------+------+\n",
            "\n"
          ]
        }
      ]
    },
    {
      "cell_type": "markdown",
      "source": [
        "# New Spark Session"
      ],
      "metadata": {
        "id": "OAsyPdmV6ZD9"
      }
    },
    {
      "cell_type": "code",
      "source": [
        "new_spark = SparkSession.builder.appName(\"NewSparkSession\").getOrCreate()\n",
        "new_spark.sql(\"SELECT * FROM global_temp.employees_global\").show()"
      ],
      "metadata": {
        "colab": {
          "base_uri": "https://localhost:8080/"
        },
        "id": "XpF3U-0R54M3",
        "outputId": "87593155-21c4-4c5a-889f-d2bcd173c1d2"
      },
      "execution_count": 18,
      "outputs": [
        {
          "output_type": "stream",
          "name": "stdout",
          "text": [
            "+-----+-----+-----------+------+\n",
            "|EmpID| Name| Department|Salary|\n",
            "+-----+-----+-----------+------+\n",
            "|  101| Ravi|      Sales| 50000|\n",
            "|  102|Sneha|Engineering| 80000|\n",
            "|  103|Kabir|         HR| 45000|\n",
            "|  104|Anita|Engineering| 85000|\n",
            "|  105| Amit|      Sales| 55000|\n",
            "+-----+-----+-----------+------+\n",
            "\n"
          ]
        }
      ]
    }
  ]
}