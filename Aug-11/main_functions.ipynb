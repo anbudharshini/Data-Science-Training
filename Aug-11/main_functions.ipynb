{
  "nbformat": 4,
  "nbformat_minor": 0,
  "metadata": {
    "colab": {
      "provenance": []
    },
    "kernelspec": {
      "name": "python3",
      "display_name": "Python 3"
    },
    "language_info": {
      "name": "python"
    }
  },
  "cells": [
    {
      "cell_type": "code",
      "execution_count": 7,
      "metadata": {
        "colab": {
          "base_uri": "https://localhost:8080/"
        },
        "id": "eSwgPzTw6bYj",
        "outputId": "3b5a9438-40d3-4999-d95f-882884a8ec80"
      },
      "outputs": [
        {
          "output_type": "stream",
          "name": "stdout",
          "text": [
            "Drive already mounted at /content/drive; to attempt to forcibly remount, call drive.mount(\"/content/drive\", force_remount=True).\n",
            "✅ calc_functions loaded successfully!\n",
            "Enter first number: 8\n",
            "Enter second number: 9\n",
            "Addition of 8 + 9 = 17\n",
            "Subtraction of 8 - 9 = -1\n",
            "Multiplication of 8 * 9 = 72\n",
            "Division of 8 / 9 = 0.8888888888888888\n"
          ]
        }
      ],
      "source": [
        "from google.colab import drive\n",
        "drive.mount('/content/drive')\n",
        "\n",
        "import sys\n",
        "sys.path.append('/content/drive/MyDrive/data engineering')\n",
        "\n",
        "import calc_functions\n",
        "%run \"/content/drive/MyDrive/data engineering/calc_functions.py\"\n",
        "\n",
        "\n",
        "num1 = int(input(\"Enter first number: \"))\n",
        "num2 = int(input(\"Enter second number: \"))\n",
        "\n",
        "\n",
        "print(f\"Addition of {num1} + {num2} = {add(num1, num2)}\")\n",
        "print(f\"Subtraction of {num1} - {num2} = {subtract(num1, num2)}\")\n",
        "print(f\"Multiplication of {num1} * {num2} = {multiply(num1, num2)}\")\n",
        "print(f\"Division of {num1} / {num2} = {divide(num1, num2)}\")"
      ]
    }
  ]
}