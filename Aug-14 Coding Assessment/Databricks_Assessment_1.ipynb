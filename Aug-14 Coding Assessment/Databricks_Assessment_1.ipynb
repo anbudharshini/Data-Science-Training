{
  "nbformat": 4,
  "nbformat_minor": 0,
  "metadata": {
    "colab": {
      "provenance": []
    },
    "kernelspec": {
      "name": "python3",
      "display_name": "Python 3"
    },
    "language_info": {
      "name": "python"
    }
  },
  "cells": [
    {
      "cell_type": "markdown",
      "source": [
        "#Dataset Creation"
      ],
      "metadata": {
        "id": "5E2Ph9KICQoZ"
      }
    },
    {
      "cell_type": "code",
      "execution_count": 1,
      "metadata": {
        "colab": {
          "base_uri": "https://localhost:8080/"
        },
        "id": "pkYHcotw6ZA6",
        "outputId": "106bfc9c-197d-439d-eda8-ca70309bdd34"
      },
      "outputs": [
        {
          "output_type": "stream",
          "name": "stdout",
          "text": [
            "Collecting pyspark==3.5.0\n",
            "  Downloading pyspark-3.5.0.tar.gz (316.9 MB)\n",
            "\u001b[2K     \u001b[90m━━━━━━━━━━━━━━━━━━━━━━━━━━━━━━━━━━━━━━━\u001b[0m \u001b[32m316.9/316.9 MB\u001b[0m \u001b[31m4.5 MB/s\u001b[0m eta \u001b[36m0:00:00\u001b[0m\n",
            "\u001b[?25h  Preparing metadata (setup.py) ... \u001b[?25l\u001b[?25hdone\n",
            "Collecting delta-spark==3.1.0\n",
            "  Downloading delta_spark-3.1.0-py3-none-any.whl.metadata (1.9 kB)\n",
            "Requirement already satisfied: py4j==0.10.9.7 in /usr/local/lib/python3.11/dist-packages (from pyspark==3.5.0) (0.10.9.7)\n",
            "Requirement already satisfied: importlib-metadata>=1.0.0 in /usr/local/lib/python3.11/dist-packages (from delta-spark==3.1.0) (8.7.0)\n",
            "Requirement already satisfied: zipp>=3.20 in /usr/local/lib/python3.11/dist-packages (from importlib-metadata>=1.0.0->delta-spark==3.1.0) (3.23.0)\n",
            "Downloading delta_spark-3.1.0-py3-none-any.whl (21 kB)\n",
            "Building wheels for collected packages: pyspark\n",
            "  Building wheel for pyspark (setup.py) ... \u001b[?25l\u001b[?25hdone\n",
            "  Created wheel for pyspark: filename=pyspark-3.5.0-py2.py3-none-any.whl size=317425346 sha256=efbf59843523be85b1586c6c72720369dab60b3d55bd1199b96796731d728de3\n",
            "  Stored in directory: /root/.cache/pip/wheels/38/df/61/8c121f50c3cffd77f8178180dd232d90b3b99d1bd61fb6d6be\n",
            "Successfully built pyspark\n",
            "Installing collected packages: pyspark, delta-spark\n",
            "  Attempting uninstall: pyspark\n",
            "    Found existing installation: pyspark 3.5.1\n",
            "    Uninstalling pyspark-3.5.1:\n",
            "      Successfully uninstalled pyspark-3.5.1\n",
            "\u001b[31mERROR: pip's dependency resolver does not currently take into account all the packages that are installed. This behaviour is the source of the following dependency conflicts.\n",
            "dataproc-spark-connect 0.8.3 requires pyspark[connect]~=3.5.1, but you have pyspark 3.5.0 which is incompatible.\u001b[0m\u001b[31m\n",
            "\u001b[0mSuccessfully installed delta-spark-3.1.0 pyspark-3.5.0\n"
          ]
        }
      ],
      "source": [
        "#Install dependencies\n",
        "!pip install pyspark==3.5.0 delta-spark==3.1.0\n",
        "from pyspark.sql import SparkSession\n",
        "from delta import configure_spark_with_delta_pip\n",
        "\n",
        "#Build Spark session with Delta enabled\n",
        "builder = (\n",
        "    SparkSession.builder.appName(\"DeltaDemo\")\n",
        "    .config(\"spark.sql.extensions\", \"io.delta.sql.DeltaSparkSessionExtension\")\n",
        "    .config(\"spark.sql.catalog.spark_catalog\", \"org.apache.spark.sql.delta.catalog.DeltaCatalog\"))\n",
        "spark = configure_spark_with_delta_pip(builder).getOrCreate()\n",
        "\n",
        "#Create sample DataFrame\n",
        "data = [\n",
        "    (1, \"John\", \"Electronics\", 2, 300),\n",
        "    (2, \"Sara\", \"Clothing\", 1, 50),\n",
        "    (3, \"Mike\", \"Electronics\", 4, 600),\n",
        "    (4, \"Nina\", \"Clothing\", 3, 150),]\n",
        "columns = [\"order_id\", \"customer_name\", \"category\", \"quantity\", \"amount\"]\n",
        "df = spark.createDataFrame(data, columns)\n",
        "\n",
        "#Save as Delta table in a given path\n",
        "delta_path = \"/tmp/orders_delta\"\n",
        "df.write.format(\"delta\").mode(\"overwrite\").save(delta_path)"
      ]
    },
    {
      "cell_type": "markdown",
      "source": [
        "# 1. Managed vs Unmanaged Tables"
      ],
      "metadata": {
        "id": "-oJt1Y4qCOyg"
      }
    },
    {
      "cell_type": "code",
      "source": [
        "#Create a Managed table (stored in Databricks warehouse location)\n",
        "spark.sql(f\"\"\"\n",
        "    CREATE TABLE orders_managed\n",
        "    USING DELTA\n",
        "    LOCATION '{delta_path}'\"\"\")\n",
        "\n",
        "#Create an Unmanaged table (points to the same location)\n",
        "spark.sql(f\"\"\"\n",
        "    CREATE TABLE orders_unmanaged\n",
        "    USING DELTA\n",
        "    LOCATION '{delta_path}'\"\"\")\n",
        "\n",
        "#Verify\n",
        "spark.sql(\"SHOW TABLES\").show()"
      ],
      "metadata": {
        "colab": {
          "base_uri": "https://localhost:8080/"
        },
        "id": "V3fLCd6ACFim",
        "outputId": "0511790c-53bc-4d90-ab25-215206975987"
      },
      "execution_count": 2,
      "outputs": [
        {
          "output_type": "stream",
          "name": "stdout",
          "text": [
            "+---------+----------------+-----------+\n",
            "|namespace|       tableName|isTemporary|\n",
            "+---------+----------------+-----------+\n",
            "|  default|  orders_managed|      false|\n",
            "|  default|orders_unmanaged|      false|\n",
            "+---------+----------------+-----------+\n",
            "\n"
          ]
        }
      ]
    },
    {
      "cell_type": "markdown",
      "source": [
        "#  2. CRUD Operations"
      ],
      "metadata": {
        "id": "_DmTQq4QD4by"
      }
    },
    {
      "cell_type": "code",
      "source": [
        "#Read table\n",
        "df_orders = spark.read.format(\"delta\").load(delta_path)\n",
        "df_orders.show()\n",
        "\n",
        "# UPDATE: Increase Clothing orders amount by 20\n",
        "spark.sql(f\"\"\"\n",
        "    UPDATE delta.`{delta_path}`\n",
        "    SET amount = amount + 20\n",
        "    WHERE category = 'Clothing'\"\"\")\n",
        "\n",
        "# DELETE: Remove orders with quantity < 2\n",
        "spark.sql(f\"\"\"\n",
        "    DELETE FROM delta.`{delta_path}`\n",
        "    WHERE quantity < 2\"\"\")\n",
        "\n",
        "# MERGE: New and updated data\n",
        "new_data = [\n",
        "    (3, \"Mike\", \"Electronics\", 4, 650),  # Updated order\n",
        "    (5, \"Liam\", \"Clothing\", 2, 80),]     # New order\n",
        "\n",
        "df_new = spark.createDataFrame(new_data, columns)\n",
        "df_new.createOrReplaceTempView(\"new_orders\")\n",
        "\n",
        "spark.sql(f\"\"\"\n",
        "    MERGE INTO delta.`{delta_path}` AS target\n",
        "    USING new_orders AS source\n",
        "    ON target.order_id = source.order_id\n",
        "    WHEN MATCHED THEN UPDATE SET *\n",
        "    WHEN NOT MATCHED THEN INSERT *\"\"\")"
      ],
      "metadata": {
        "colab": {
          "base_uri": "https://localhost:8080/"
        },
        "id": "mlKMEdBpCY7M",
        "outputId": "a7e3da61-5c03-45cc-cf48-866205cfabe9"
      },
      "execution_count": 3,
      "outputs": [
        {
          "output_type": "stream",
          "name": "stdout",
          "text": [
            "+--------+-------------+-----------+--------+------+\n",
            "|order_id|customer_name|   category|quantity|amount|\n",
            "+--------+-------------+-----------+--------+------+\n",
            "|       1|         John|Electronics|       2|   300|\n",
            "|       2|         Sara|   Clothing|       1|    50|\n",
            "|       3|         Mike|Electronics|       4|   600|\n",
            "|       4|         Nina|   Clothing|       3|   150|\n",
            "+--------+-------------+-----------+--------+------+\n",
            "\n"
          ]
        },
        {
          "output_type": "execute_result",
          "data": {
            "text/plain": [
              "DataFrame[num_affected_rows: bigint, num_updated_rows: bigint, num_deleted_rows: bigint, num_inserted_rows: bigint]"
            ]
          },
          "metadata": {},
          "execution_count": 3
        }
      ]
    },
    {
      "cell_type": "markdown",
      "source": [
        "# 3. History & Time Travel"
      ],
      "metadata": {
        "id": "GWWoz63WEIS8"
      }
    },
    {
      "cell_type": "code",
      "source": [
        "# Show change history\n",
        "spark.sql(f\"DESCRIBE HISTORY delta.`{delta_path}`\").show(truncate=False)\n",
        "\n",
        "# Read old version (version 0)\n",
        "old_df = spark.read.format(\"delta\").option(\"versionAsOf\", 0).load(delta_path)\n",
        "print(\"Version 0:\")\n",
        "old_df.show()\n",
        "\n",
        "# Read latest version\n",
        "latest_df = spark.read.format(\"delta\").load(delta_path)\n",
        "print(\"Latest version:\")\n",
        "latest_df.show()"
      ],
      "metadata": {
        "colab": {
          "base_uri": "https://localhost:8080/"
        },
        "id": "4HXGLH0bD7VX",
        "outputId": "a805d49d-2a06-4e6d-ea35-0714179b14cd"
      },
      "execution_count": 4,
      "outputs": [
        {
          "output_type": "stream",
          "name": "stdout",
          "text": [
            "+-------+-----------------------+------+--------+---------+-------------------------------------------------------------------------------------------------------------------------------------------------------------------------------------------+----+--------+---------+-----------+--------------+-------------+--------------------------------------------------------------------------------------------------------------------------------------------------------------------------------------------------------------------------------------------------------------------------------------------------------------------------------------------------------------------------------------------------------------------------------------------------------------------------------------------------------------------------------------------------------------------------------------------------------------------------------------------------------+------------+-----------------------------------+\n",
            "|version|timestamp              |userId|userName|operation|operationParameters                                                                                                                                                                        |job |notebook|clusterId|readVersion|isolationLevel|isBlindAppend|operationMetrics                                                                                                                                                                                                                                                                                                                                                                                                                                                                                                                                                                                                                                        |userMetadata|engineInfo                         |\n",
            "+-------+-----------------------+------+--------+---------+-------------------------------------------------------------------------------------------------------------------------------------------------------------------------------------------+----+--------+---------+-----------+--------------+-------------+--------------------------------------------------------------------------------------------------------------------------------------------------------------------------------------------------------------------------------------------------------------------------------------------------------------------------------------------------------------------------------------------------------------------------------------------------------------------------------------------------------------------------------------------------------------------------------------------------------------------------------------------------------+------------+-----------------------------------+\n",
            "|3      |2025-08-14 05:25:51.188|NULL  |NULL    |MERGE    |{predicate -> [\"(order_id#3575L = order_id#3565L)\"], matchedPredicates -> [{\"actionType\":\"update\"}], notMatchedPredicates -> [{\"actionType\":\"insert\"}], notMatchedBySourcePredicates -> []}|NULL|NULL    |NULL     |2          |Serializable  |false        |{numTargetRowsCopied -> 1, numTargetRowsDeleted -> 0, numTargetFilesAdded -> 1, numTargetBytesAdded -> 1627, numTargetBytesRemoved -> 1566, numTargetDeletionVectorsAdded -> 0, numTargetRowsMatchedUpdated -> 1, executionTimeMs -> 7443, numTargetRowsInserted -> 1, numTargetRowsMatchedDeleted -> 0, numTargetDeletionVectorsUpdated -> 0, scanTimeMs -> 4892, numTargetRowsUpdated -> 1, numOutputRows -> 3, numTargetDeletionVectorsRemoved -> 0, numTargetRowsNotMatchedBySourceUpdated -> 0, numTargetChangeFilesAdded -> 0, numSourceRows -> 2, numTargetFilesRemoved -> 1, numTargetRowsNotMatchedBySourceDeleted -> 0, rewriteTimeMs -> 1578}|NULL        |Apache-Spark/3.5.0 Delta-Lake/3.1.0|\n",
            "|2      |2025-08-14 05:25:35.303|NULL  |NULL    |DELETE   |{predicate -> [\"(quantity#2408L < 2)\"]}                                                                                                                                                    |NULL|NULL    |NULL     |1          |Serializable  |false        |{numRemovedFiles -> 1, numRemovedBytes -> 1565, numCopiedRows -> 1, numDeletionVectorsAdded -> 0, numDeletionVectorsRemoved -> 0, numAddedChangeFiles -> 0, executionTimeMs -> 5017, numDeletionVectorsUpdated -> 0, numDeletedRows -> 1, scanTimeMs -> 4260, numAddedFiles -> 1, numAddedBytes -> 1567, rewriteTimeMs -> 749}                                                                                                                                                                                                                                                                                                                          |NULL        |Apache-Spark/3.5.0 Delta-Lake/3.1.0|\n",
            "|1      |2025-08-14 05:25:21.682|NULL  |NULL    |UPDATE   |{predicate -> [\"(category#1291 = Clothing)\"]}                                                                                                                                              |NULL|NULL    |NULL     |0          |Serializable  |false        |{numRemovedFiles -> 2, numRemovedBytes -> 3130, numCopiedRows -> 2, numDeletionVectorsAdded -> 0, numDeletionVectorsRemoved -> 0, numAddedChangeFiles -> 0, executionTimeMs -> 4690, numDeletionVectorsUpdated -> 0, scanTimeMs -> 4033, numAddedFiles -> 2, numUpdatedRows -> 2, numAddedBytes -> 3131, rewriteTimeMs -> 652}                                                                                                                                                                                                                                                                                                                          |NULL        |Apache-Spark/3.5.0 Delta-Lake/3.1.0|\n",
            "|0      |2025-08-14 05:22:11.481|NULL  |NULL    |WRITE    |{mode -> Overwrite, partitionBy -> []}                                                                                                                                                     |NULL|NULL    |NULL     |NULL       |Serializable  |false        |{numFiles -> 2, numOutputRows -> 4, numOutputBytes -> 3130}                                                                                                                                                                                                                                                                                                                                                                                                                                                                                                                                                                                             |NULL        |Apache-Spark/3.5.0 Delta-Lake/3.1.0|\n",
            "+-------+-----------------------+------+--------+---------+-------------------------------------------------------------------------------------------------------------------------------------------------------------------------------------------+----+--------+---------+-----------+--------------+-------------+--------------------------------------------------------------------------------------------------------------------------------------------------------------------------------------------------------------------------------------------------------------------------------------------------------------------------------------------------------------------------------------------------------------------------------------------------------------------------------------------------------------------------------------------------------------------------------------------------------------------------------------------------------+------------+-----------------------------------+\n",
            "\n",
            "Version 0:\n",
            "+--------+-------------+-----------+--------+------+\n",
            "|order_id|customer_name|   category|quantity|amount|\n",
            "+--------+-------------+-----------+--------+------+\n",
            "|       1|         John|Electronics|       2|   300|\n",
            "|       2|         Sara|   Clothing|       1|    50|\n",
            "|       3|         Mike|Electronics|       4|   600|\n",
            "|       4|         Nina|   Clothing|       3|   150|\n",
            "+--------+-------------+-----------+--------+------+\n",
            "\n",
            "Latest version:\n",
            "+--------+-------------+-----------+--------+------+\n",
            "|order_id|customer_name|   category|quantity|amount|\n",
            "+--------+-------------+-----------+--------+------+\n",
            "|       3|         Mike|Electronics|       4|   650|\n",
            "|       4|         Nina|   Clothing|       3|   170|\n",
            "|       5|         Liam|   Clothing|       2|    80|\n",
            "|       1|         John|Electronics|       2|   300|\n",
            "+--------+-------------+-----------+--------+------+\n",
            "\n"
          ]
        }
      ]
    },
    {
      "cell_type": "markdown",
      "source": [
        "#  4. Incremental Load Pattern"
      ],
      "metadata": {
        "id": "Jvl4nlt7EJvY"
      }
    },
    {
      "cell_type": "code",
      "source": [
        "# Mini-batch with only new orders\n",
        "batch_new = [\n",
        "    (6, \"Sophia\", \"Electronics\", 1, 200),\n",
        "    (7, \"Emma\", \"Clothing\", 5, 300)]\n",
        "df_batch_new = spark.createDataFrame(batch_new, columns)\n",
        "\n",
        "# Append to Delta table\n",
        "df_batch_new.write.format(\"delta\").mode(\"append\").save(delta_path)\n",
        "\n",
        "# Show final result\n",
        "spark.read.format(\"delta\").load(delta_path).show()"
      ],
      "metadata": {
        "colab": {
          "base_uri": "https://localhost:8080/"
        },
        "id": "zTCc7r2SEMwJ",
        "outputId": "15b66eed-3a3c-4a2b-844a-98f2a99e428e"
      },
      "execution_count": 5,
      "outputs": [
        {
          "output_type": "stream",
          "name": "stdout",
          "text": [
            "+--------+-------------+-----------+--------+------+\n",
            "|order_id|customer_name|   category|quantity|amount|\n",
            "+--------+-------------+-----------+--------+------+\n",
            "|       3|         Mike|Electronics|       4|   650|\n",
            "|       4|         Nina|   Clothing|       3|   170|\n",
            "|       5|         Liam|   Clothing|       2|    80|\n",
            "|       6|       Sophia|Electronics|       1|   200|\n",
            "|       1|         John|Electronics|       2|   300|\n",
            "|       7|         Emma|   Clothing|       5|   300|\n",
            "+--------+-------------+-----------+--------+------+\n",
            "\n"
          ]
        }
      ]
    },
    {
      "cell_type": "markdown",
      "source": [
        "#  5. Simple Streaming Read"
      ],
      "metadata": {
        "id": "5_NMwt-sEYuQ"
      }
    },
    {
      "cell_type": "code",
      "source": [
        "from pyspark.sql.functions import *\n",
        "\n",
        "# Streaming read from delta table\n",
        "stream_df = (\n",
        "    spark.readStream.format(\"delta\")\n",
        "    .load(delta_path))\n",
        "\n",
        "query = (\n",
        "    stream_df.writeStream\n",
        "    .outputMode(\"append\")\n",
        "    .format(\"console\")\n",
        "    .trigger(processingTime=\"5 seconds\")\n",
        "    .start())\n",
        "\n",
        "# query.awaitTermination()  #Uncomment to run continuously"
      ],
      "metadata": {
        "id": "jkO777P3EbrA"
      },
      "execution_count": 9,
      "outputs": []
    },
    {
      "cell_type": "markdown",
      "source": [
        "# 6. Visualization"
      ],
      "metadata": {
        "id": "Ne7li7MzFkHI"
      }
    },
    {
      "cell_type": "code",
      "source": [
        "import pandas as pd\n",
        "import matplotlib.pyplot as plt\n",
        "\n",
        "pdf = spark.read.format(\"delta\").load(delta_path).toPandas()\n",
        "\n",
        "# Aggregate total amount by category\n",
        "category_sum = pdf.groupby(\"category\")[\"amount\"].sum().reset_index()\n",
        "\n",
        "# Plot\n",
        "plt.bar(category_sum[\"category\"], category_sum[\"amount\"], color=['blue', 'orange'])\n",
        "plt.xlabel(\"Category\")\n",
        "plt.ylabel(\"Total Amount\")\n",
        "plt.title(\"Category vs Total Amount\")\n",
        "plt.show()"
      ],
      "metadata": {
        "colab": {
          "base_uri": "https://localhost:8080/",
          "height": 472
        },
        "id": "1HJ9vVJoFv1z",
        "outputId": "9dfe85b0-1ff5-40ed-d6e1-f3a2e67d982a"
      },
      "execution_count": 10,
      "outputs": [
        {
          "output_type": "display_data",
          "data": {
            "text/plain": [
              "<Figure size 640x480 with 1 Axes>"
            ],
            "image/png": "[encoded data removed]"
          },
          "metadata": {}
        }
      ]
    }
  ]
}