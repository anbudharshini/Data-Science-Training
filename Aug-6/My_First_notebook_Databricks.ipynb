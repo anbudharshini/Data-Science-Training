{
 "cells": [
  {
   "cell_type": "code",
   "execution_count": 0,
   "metadata": {
    "application/vnd.databricks.v1+cell": {
     "cellMetadata": {
      "byteLimit": 2048000,
      "rowLimit": 10000
     },
     "inputWidgets": {},
     "nuid": "6b329771-6bbd-4993-87b2-1fa7c3080bea",
     "showTitle": false,
     "tableResultSettingsMap": {},
     "title": ""
    }
   },
   "outputs": [
    {
     "output_type": "stream",
     "name": "stdout",
     "output_type": "stream",
     "text": [
      "+---------+-----------+--------+-----+\n|ProductID|ProductName|Quantity|Price|\n+---------+-----------+--------+-----+\n|     P001|   Notebook|       3|45000|\n|     P002|   Keyboard|       2| 7000|\n|     P003|      Mouse|       5| 4000|\n|     P004|    Monitor|       1|15000|\n|     P005|      Chair|       4| 8000|\n+---------+-----------+--------+-----+\n\n"
     ]
    }
   ],
   "source": [
    "data = [\n",
    "    (\"P001\", \"Notebook\", 3, 45000),\n",
    "    (\"P002\", \"Keyboard\", 2, 7000),\n",
    "    (\"P003\", \"Mouse\", 5, 4000),\n",
    "    (\"P004\", \"Monitor\", 1, 15000),\n",
    "    (\"P005\", \"Chair\", 4, 8000)\n",
    "]\n",
    "columns = [\"ProductID\", \"ProductName\",\"Quantity\", \"Price\"]\n",
    "\n",
    "df= spark.createDataFrame(data, columns)\n",
    "df.show()"
   ]
  },
  {
   "cell_type": "code",
   "execution_count": 0,
   "metadata": {
    "application/vnd.databricks.v1+cell": {
     "cellMetadata": {
      "byteLimit": 2048000,
      "rowLimit": 10000
     },
     "inputWidgets": {},
     "nuid": "efc5661f-296f-4a29-9ce8-f3035f3acc4d",
     "showTitle": false,
     "tableResultSettingsMap": {},
     "title": ""
    }
   },
   "outputs": [
    {
     "output_type": "execute_result",
     "data": {
      "text/plain": [
       "5"
      ]
     },
     "execution_count": 3,
     "metadata": {},
     "output_type": "execute_result"
    }
   ],
   "source": [
    "df.count()"
   ]
  },
  {
   "cell_type": "code",
   "execution_count": 0,
   "metadata": {
    "application/vnd.databricks.v1+cell": {
     "cellMetadata": {
      "byteLimit": 2048000,
      "rowLimit": 10000
     },
     "inputWidgets": {},
     "nuid": "7b640f50-3af8-43ef-b6ad-c55cda5fc8cc",
     "showTitle": false,
     "tableResultSettingsMap": {},
     "title": ""
    }
   },
   "outputs": [
    {
     "output_type": "stream",
     "name": "stdout",
     "output_type": "stream",
     "text": [
      "+---------+-----------+--------+-----+-------+\n|ProductID|ProductName|Quantity|Price|Revenue|\n+---------+-----------+--------+-----+-------+\n|     P001|   Notebook|       3|45000| 135000|\n|     P002|   Keyboard|       2| 7000|  14000|\n|     P003|      Mouse|       5| 4000|  20000|\n|     P004|    Monitor|       1|15000|  15000|\n|     P005|      Chair|       4| 8000|  32000|\n+---------+-----------+--------+-----+-------+\n\n"
     ]
    }
   ],
   "source": [
    "from pyspark.sql.functions import col\n",
    "\n",
    "df_with_revenue = df.withColumn(\"Revenue\", col(\"Quantity\") * col(\"Price\"))\n",
    "df_with_revenue.select(\"ProductID\",\"ProductName\", \"Quantity\", \"Price\", \"Revenue\").show()"
   ]
  },
  {
   "cell_type": "code",
   "execution_count": 0,
   "metadata": {
    "application/vnd.databricks.v1+cell": {
     "cellMetadata": {
      "byteLimit": 2048000,
      "rowLimit": 10000
     },
     "inputWidgets": {},
     "nuid": "8fa607d4-f1f5-4029-b6e4-4196eb960e24",
     "showTitle": false,
     "tableResultSettingsMap": {},
     "title": ""
    }
   },
   "outputs": [
    {
     "output_type": "stream",
     "name": "stdout",
     "output_type": "stream",
     "text": [
      "+---------+-----------+--------+-----+\n|ProductID|ProductName|Quantity|Price|\n+---------+-----------+--------+-----+\n|     P001|   Notebook|       3|45000|\n|     P004|    Monitor|       1|15000|\n+---------+-----------+--------+-----+\n\n"
     ]
    }
   ],
   "source": [
    "df.filter(col(\"Price\") > 10000).show()"
   ]
  }
 ],
 "metadata": {
  "application/vnd.databricks.v1+notebook": {
   "computePreferences": null,
   "dashboards": [],
   "environmentMetadata": {
    "base_environment": "",
    "environment_version": "2"
   },
   "inputWidgetPreferences": null,
   "language": "python",
   "notebookMetadata": {
    "pythonIndentUnit": 4
   },
   "notebookName": "Untitled Notebook 2025-08-06 17:07:52",
   "widgets": {}
  },
  "language_info": {
   "name": "python"
  }
 },
 "nbformat": 4,
 "nbformat_minor": 0
}