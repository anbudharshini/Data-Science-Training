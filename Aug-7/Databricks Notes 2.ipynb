{
 "cells": [
  {
   "cell_type": "code",
   "execution_count": 0,
   "metadata": {
    "application/vnd.databricks.v1+cell": {
     "cellMetadata": {
      "byteLimit": 2048000,
      "rowLimit": 10000
     },
     "inputWidgets": {},
     "nuid": "7992cd10-87db-4e87-8d34-5c914d72c3fa",
     "showTitle": false,
     "tableResultSettingsMap": {},
     "title": ""
    }
   },
   "outputs": [
    {
     "output_type": "stream",
     "name": "stdout",
     "output_type": "stream",
     "text": [
      "Wrote 139 bytes.\n"
     ]
    },
    {
     "output_type": "execute_result",
     "data": {
      "text/plain": [
       "True"
      ]
     },
     "execution_count": 1,
     "metadata": {},
     "output_type": "execute_result"
    }
   ],
   "source": [
    "csv_data = \"\"\"id,name,category,price\n",
    "1,Amit,Electronics,50000\n",
    "2,Priya,Furniture,3000\n",
    "3,Rahul,Stationery,200\n",
    "4,Neha,Books,800\n",
    "5,Karthik,Electronics,45000\n",
    "\"\"\"\n",
    "# save to DBFS\n",
    "dbutils.fs.put(\"dbfs:/temp/products.csv\", csv_data, overwrite=True)"
   ]
  },
  {
   "cell_type": "code",
   "execution_count": 0,
   "metadata": {
    "application/vnd.databricks.v1+cell": {
     "cellMetadata": {
      "byteLimit": 2048000,
      "rowLimit": 10000
     },
     "inputWidgets": {},
     "nuid": "ef1e3e23-9129-4474-9615-c19c681b4480",
     "showTitle": false,
     "tableResultSettingsMap": {},
     "title": ""
    }
   },
   "outputs": [
    {
     "output_type": "stream",
     "name": "stdout",
     "output_type": "stream",
     "text": [
      "+---+-------+-----------+-----+\n| id|   name|   category|price|\n+---+-------+-----------+-----+\n|  1|   Amit|Electronics|50000|\n|  2|  Priya|  Furniture| 3000|\n|  3|  Rahul| Stationery|  200|\n|  4|   Neha|      Books|  800|\n|  5|Karthik|Electronics|45000|\n+---+-------+-----------+-----+\n\n"
     ]
    }
   ],
   "source": [
    "df = spark.read.option(\"header\", True).option(\"inferSchema\",True).csv(\"dbfs:/temp/products.csv\")\n",
    "df.show()"
   ]
  },
  {
   "cell_type": "markdown",
   "metadata": {
    "application/vnd.databricks.v1+cell": {
     "cellMetadata": {},
     "inputWidgets": {},
     "nuid": "346f1dca-4137-486e-8082-027885f89ac9",
     "showTitle": false,
     "tableResultSettingsMap": {},
     "title": ""
    }
   },
   "source": [
    "Write the data in the delta table"
   ]
  },
  {
   "cell_type": "code",
   "execution_count": 0,
   "metadata": {
    "application/vnd.databricks.v1+cell": {
     "cellMetadata": {
      "byteLimit": 2048000,
      "rowLimit": 10000
     },
     "inputWidgets": {},
     "nuid": "f38cad87-8410-46df-9250-35982ce3889e",
     "showTitle": false,
     "tableResultSettingsMap": {},
     "title": ""
    }
   },
   "outputs": [],
   "source": [
    "df.write.format(\"delta\").save(\"/tmp/delta/products\")"
   ]
  },
  {
   "cell_type": "code",
   "execution_count": 0,
   "metadata": {
    "application/vnd.databricks.v1+cell": {
     "cellMetadata": {
      "byteLimit": 2048000,
      "rowLimit": 10000
     },
     "inputWidgets": {},
     "nuid": "7a470256-060a-4d1b-9987-26bd12537414",
     "showTitle": false,
     "tableResultSettingsMap": {},
     "title": ""
    }
   },
   "outputs": [
    {
     "output_type": "stream",
     "name": "stdout",
     "output_type": "stream",
     "text": [
      "+---+-------+-----------+-----+\n| id|   name|   category|price|\n+---+-------+-----------+-----+\n|  1|   Amit|Electronics|50000|\n|  2|  Priya|  Furniture| 3000|\n|  3|  Rahul| Stationery|  200|\n|  4|   Neha|      Books|  800|\n|  5|Karthik|Electronics|45000|\n+---+-------+-----------+-----+\n\n"
     ]
    }
   ],
   "source": [
    "df_delta = spark.read.format(\"delta\").load(\"/tmp/delta/products\")\n",
    "df_delta.show()"
   ]
  },
  {
   "cell_type": "markdown",
   "metadata": {
    "application/vnd.databricks.v1+cell": {
     "cellMetadata": {},
     "inputWidgets": {},
     "nuid": "4f4148bd-9f58-4ac0-ace0-9382fe4265cf",
     "showTitle": false,
     "tableResultSettingsMap": {},
     "title": ""
    }
   },
   "source": [
    "### Update table"
   ]
  },
  {
   "cell_type": "code",
   "execution_count": 0,
   "metadata": {
    "application/vnd.databricks.v1+cell": {
     "cellMetadata": {
      "byteLimit": 2048000,
      "rowLimit": 10000
     },
     "inputWidgets": {},
     "nuid": "b099cb76-3c1e-42ab-99bc-22bf1df2f215",
     "showTitle": false,
     "tableResultSettingsMap": {},
     "title": ""
    }
   },
   "outputs": [
    {
     "output_type": "stream",
     "name": "stdout",
     "output_type": "stream",
     "text": [
      "+---+-------+-----------+-----+\n| id|   name|   category|price|\n+---+-------+-----------+-----+\n|  1|   Amit|Electronics|50000|\n|  3|  Rahul| Stationery|  200|\n|  4|   Neha|      Books|  800|\n|  5|Karthik|Electronics|45000|\n|  2|  Priya|  Furniture| 3500|\n+---+-------+-----------+-----+\n\n"
     ]
    }
   ],
   "source": [
    "from delta.tables import DeltaTable\n",
    "deltaTable = DeltaTable.forPath(spark, \"/tmp/delta/products\") \n",
    "\n",
    "# update price for product where id = 2\n",
    "deltaTable.update(\n",
    "  condition = \"id = 2\",\n",
    "  set = { \"price\": \"3500\" }\n",
    ")\n",
    "deltaTable.toDF().show()\n"
   ]
  },
  {
   "cell_type": "markdown",
   "metadata": {
    "application/vnd.databricks.v1+cell": {
     "cellMetadata": {},
     "inputWidgets": {},
     "nuid": "c270b8d2-0487-4368-8990-4f8ccf640953",
     "showTitle": false,
     "tableResultSettingsMap": {},
     "title": ""
    }
   },
   "source": [
    "### upsert"
   ]
  },
  {
   "cell_type": "code",
   "execution_count": 0,
   "metadata": {
    "application/vnd.databricks.v1+cell": {
     "cellMetadata": {
      "byteLimit": 2048000,
      "rowLimit": 10000
     },
     "inputWidgets": {},
     "nuid": "6c51ef20-c8d7-4706-947b-915a5eb5a6f6",
     "showTitle": false,
     "tableResultSettingsMap": {},
     "title": ""
    }
   },
   "outputs": [
    {
     "output_type": "stream",
     "name": "stdout",
     "output_type": "stream",
     "text": [
      "+---+-------+-----------+-----+\n| id|   name|   category|price|\n+---+-------+-----------+-----+\n|  1|   Amit|Electronics|50000|\n|  3|  Rahul| Stationery|  200|\n|  4|   Neha|      Books|  800|\n|  5|Karthik|Electronics|45000|\n|  2|  Priya|  Furniture| 4000|\n|  6|  Sneha|    Kitchen| 1200|\n+---+-------+-----------+-----+\n\n"
     ]
    }
   ],
   "source": [
    "new_data = [\n",
    "    (2, \"Priya\", \"Furniture\", 4000),     # Update\n",
    "    (6, \"Sneha\", \"Kitchen\", 1200)        # Insert\n",
    "]\n",
    "\n",
    "update_df = spark.createDataFrame(new_data, [\"id\", \"name\", \"category\", \"price\"])\n",
    "deltaTable.alias(\"target\").merge(\n",
    "  update_df.alias(\"source\"),\n",
    "  \"target.id = source.id\"\n",
    "  ).whenMatchedUpdateAll()\\\n",
    ".whenNotMatchedInsertAll().execute()\n",
    "deltaTable.toDF().show()\n"
   ]
  },
  {
   "cell_type": "markdown",
   "metadata": {
    "application/vnd.databricks.v1+cell": {
     "cellMetadata": {},
     "inputWidgets": {},
     "nuid": "53c5a061-38ca-4bbb-981b-50965ca0e11f",
     "showTitle": false,
     "tableResultSettingsMap": {},
     "title": ""
    }
   },
   "source": [
    "### Version"
   ]
  },
  {
   "cell_type": "code",
   "execution_count": 0,
   "metadata": {
    "application/vnd.databricks.v1+cell": {
     "cellMetadata": {
      "byteLimit": 2048000,
      "rowLimit": 10000
     },
     "inputWidgets": {},
     "nuid": "0176d5bd-5e3c-46fb-b0fc-a4897ec1f8e2",
     "showTitle": false,
     "tableResultSettingsMap": {},
     "title": ""
    }
   },
   "outputs": [
    {
     "output_type": "stream",
     "name": "stdout",
     "output_type": "stream",
     "text": [
      "+---+-------+-----------+-----+\n| id|   name|   category|price|\n+---+-------+-----------+-----+\n|  1|   Amit|Electronics|50000|\n|  3|  Rahul| Stationery|  200|\n|  4|   Neha|      Books|  800|\n|  5|Karthik|Electronics|45000|\n|  2|  Priya|  Furniture| 4000|\n|  6|  Sneha|    Kitchen| 1200|\n+---+-------+-----------+-----+\n\n+---+-------+-----------+-----+\n| id|   name|   category|price|\n+---+-------+-----------+-----+\n|  1|   Amit|Electronics|50000|\n|  2|  Priya|  Furniture| 3000|\n|  3|  Rahul| Stationery|  200|\n|  4|   Neha|      Books|  800|\n|  5|Karthik|Electronics|45000|\n+---+-------+-----------+-----+\n\n"
     ]
    }
   ],
   "source": [
    "# Current version\n",
    "deltaTable.toDF().show()\n",
    "\n",
    "# Read previous version\n",
    "previous_df = spark.read.format(\"delta\").option(\"versionAsOf\", 0).load(\"/tmp/delta/products\")\n",
    "previous_df.show()"
   ]
  },
  {
   "cell_type": "markdown",
   "metadata": {
    "application/vnd.databricks.v1+cell": {
     "cellMetadata": {},
     "inputWidgets": {},
     "nuid": "41150a73-2405-4bc8-99a9-cf1e3293e48c",
     "showTitle": false,
     "tableResultSettingsMap": {},
     "title": ""
    }
   },
   "source": [
    "### Partitioning"
   ]
  },
  {
   "cell_type": "code",
   "execution_count": 0,
   "metadata": {
    "application/vnd.databricks.v1+cell": {
     "cellMetadata": {
      "byteLimit": 2048000,
      "rowLimit": 10000
     },
     "inputWidgets": {},
     "nuid": "5a9836c4-139f-47ba-a031-7f151b2b50d8",
     "showTitle": false,
     "tableResultSettingsMap": {},
     "title": ""
    }
   },
   "outputs": [],
   "source": [
    "df.write.format(\"delta\").mode(\"overwrite\").partitionBy(\"category\").save(\"/tmp/delta/products_partitioned\")"
   ]
  },
  {
   "cell_type": "code",
   "execution_count": 0,
   "metadata": {
    "application/vnd.databricks.v1+cell": {
     "cellMetadata": {
      "byteLimit": 2048000,
      "rowLimit": 10000
     },
     "inputWidgets": {},
     "nuid": "66746e36-0460-4eac-bb19-2cb7bfa07ade",
     "showTitle": false,
     "tableResultSettingsMap": {},
     "title": ""
    }
   },
   "outputs": [
    {
     "output_type": "stream",
     "name": "stdout",
     "output_type": "stream",
     "text": [
      "+---+-------+-----------+-----+\n| id|   name|   category|price|\n+---+-------+-----------+-----+\n|  5|Karthik|Electronics|45000|\n|  1|   Amit|Electronics|50000|\n|  2|  Priya|  Furniture| 3000|\n|  4|   Neha|      Books|  800|\n|  3|  Rahul| Stationery|  200|\n+---+-------+-----------+-----+\n\n"
     ]
    }
   ],
   "source": [
    "spark.read.format(\"delta\").load(\"/tmp/delta/products_partitioned\").show()"
   ]
  }
 ],
 "metadata": {
  "application/vnd.databricks.v1+notebook": {
   "computePreferences": null,
   "dashboards": [],
   "environmentMetadata": {
    "base_environment": "",
    "environment_version": "2"
   },
   "inputWidgetPreferences": null,
   "language": "python",
   "notebookMetadata": {
    "pythonIndentUnit": 4
   },
   "notebookName": "Databricks Notes 2",
   "widgets": {}
  },
  "language_info": {
   "name": "python"
  }
 },
 "nbformat": 4,
 "nbformat_minor": 0
}