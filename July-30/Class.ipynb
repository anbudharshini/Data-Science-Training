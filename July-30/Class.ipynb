{
  "nbformat": 4,
  "nbformat_minor": 0,
  "metadata": {
    "colab": {
      "provenance": []
    },
    "kernelspec": {
      "name": "python3",
      "display_name": "Python 3"
    },
    "language_info": {
      "name": "python"
    }
  },
  "cells": [
    {
      "cell_type": "code",
      "execution_count": 2,
      "metadata": {
        "colab": {
          "base_uri": "https://localhost:8080/"
        },
        "id": "7evl1SJS4Tli",
        "outputId": "73931aa0-d1ca-4350-95d9-4539a39fc507"
      },
      "outputs": [
        {
          "output_type": "stream",
          "name": "stdout",
          "text": [
            "    Name   Age   Department   Salary\n",
            "0  Aarav  28.0        Sales  50000.0\n",
            "1  Sneha   NaN  Engineering  80000.0\n",
            "2  Kabir  25.0           HR      NaN\n",
            "3  Anaya  29.0          NaN  60000.0\n",
            "4  Rohan  35.0  Engineering  85000.0\n"
          ]
        }
      ],
      "source": [
        "import pandas as pd\n",
        "\n",
        "# Sample data with missing values\n",
        "csv_data = \"\"\"Name,Age,Department,Salary\n",
        "Aarav,28,Sales,50000\n",
        "Sneha,,Engineering,80000\n",
        "Kabir,25,HR,\n",
        "Anaya,29,,60000\n",
        "Rohan,35,Engineering,85000\n",
        "\"\"\"\n",
        "with open('employees_missing.csv','w') as file:\n",
        "  file.write(csv_data)\n",
        "\n",
        "df=pd.read_csv('employees_missing.csv')\n",
        "print(df)"
      ]
    },
    {
      "cell_type": "code",
      "source": [
        "print(df.isnull())\n",
        "print(df.isnull().sum())"
      ],
      "metadata": {
        "colab": {
          "base_uri": "https://localhost:8080/"
        },
        "id": "491UM_X95VDd",
        "outputId": "1cbc9b83-b271-4a6d-ef5e-36e51149af34"
      },
      "execution_count": 4,
      "outputs": [
        {
          "output_type": "stream",
          "name": "stdout",
          "text": [
            "    Name    Age  Department  Salary\n",
            "0  False  False       False   False\n",
            "1  False   True       False   False\n",
            "2  False  False       False    True\n",
            "3  False  False        True   False\n",
            "4  False  False       False   False\n",
            "Name          0\n",
            "Age           1\n",
            "Department    1\n",
            "Salary        1\n",
            "dtype: int64\n"
          ]
        }
      ]
    },
    {
      "cell_type": "code",
      "source": [
        "df_cleaned = df.dropna()\n",
        "print(df_cleaned)"
      ],
      "metadata": {
        "colab": {
          "base_uri": "https://localhost:8080/"
        },
        "id": "itDLIY2c5hl2",
        "outputId": "f7ff51ee-f50e-4cf8-c959-078b7b1c049e"
      },
      "execution_count": 5,
      "outputs": [
        {
          "output_type": "stream",
          "name": "stdout",
          "text": [
            "    Name   Age   Department   Salary\n",
            "0  Aarav  28.0        Sales  50000.0\n",
            "4  Rohan  35.0  Engineering  85000.0\n"
          ]
        }
      ]
    },
    {
      "cell_type": "code",
      "source": [
        "df['Age'] = df['Age'].fillna(df['Age'].mean())\n",
        "print(df)"
      ],
      "metadata": {
        "colab": {
          "base_uri": "https://localhost:8080/"
        },
        "id": "d6t1kz_Y5pZH",
        "outputId": "cb4f7362-20e4-4e19-ea9c-b952d3099bb9"
      },
      "execution_count": 6,
      "outputs": [
        {
          "output_type": "stream",
          "name": "stdout",
          "text": [
            "    Name    Age   Department   Salary\n",
            "0  Aarav  28.00        Sales  50000.0\n",
            "1  Sneha  29.25  Engineering  80000.0\n",
            "2  Kabir  25.00           HR      NaN\n",
            "3  Anaya  29.00          NaN  60000.0\n",
            "4  Rohan  35.00  Engineering  85000.0\n"
          ]
        }
      ]
    },
    {
      "cell_type": "code",
      "source": [
        "df['Department'] = df['Department'].fillna('Unknown')\n",
        "print(df)"
      ],
      "metadata": {
        "colab": {
          "base_uri": "https://localhost:8080/"
        },
        "id": "KJa47u5b50zh",
        "outputId": "ad76384c-ab6f-4d40-f05f-174d77989b8b"
      },
      "execution_count": 7,
      "outputs": [
        {
          "output_type": "stream",
          "name": "stdout",
          "text": [
            "    Name    Age   Department   Salary\n",
            "0  Aarav  28.00        Sales  50000.0\n",
            "1  Sneha  29.25  Engineering  80000.0\n",
            "2  Kabir  25.00           HR      NaN\n",
            "3  Anaya  29.00      Unknown  60000.0\n",
            "4  Rohan  35.00  Engineering  85000.0\n"
          ]
        }
      ]
    },
    {
      "cell_type": "code",
      "source": [
        "df['Salary'] = df['Salary'].fillna(df['Salary'].median())\n",
        "print(df)"
      ],
      "metadata": {
        "colab": {
          "base_uri": "https://localhost:8080/"
        },
        "id": "hDRQgMCV56ns",
        "outputId": "86aa4562-fa63-4df5-af8a-09c90e877b40"
      },
      "execution_count": 8,
      "outputs": [
        {
          "output_type": "stream",
          "name": "stdout",
          "text": [
            "    Name    Age   Department   Salary\n",
            "0  Aarav  28.00        Sales  50000.0\n",
            "1  Sneha  29.25  Engineering  80000.0\n",
            "2  Kabir  25.00           HR  70000.0\n",
            "3  Anaya  29.00      Unknown  60000.0\n",
            "4  Rohan  35.00  Engineering  85000.0\n"
          ]
        }
      ]
    },
    {
      "cell_type": "code",
      "source": [
        "import pandas as pd\n",
        "\n",
        "# Create employees CSV\n",
        "emp_data = \"\"\"EmpID,Name,Department\n",
        "101,Amit,Sales\n",
        "102,Anita,Engineering\n",
        "103,Kabir,HR\n",
        "104,Sneha,Marketing\n",
        "105,Ravi,Engineering\n",
        "\"\"\"\n",
        "with open('employees.csv', 'w') as f:\n",
        "    f.write(emp_data)\n",
        "\n",
        "# Create departments CSV\n",
        "dept_data = \"\"\"Department,Location\n",
        "Sales,Mumbai\n",
        "Engineering,Bangalore\n",
        "HR,Delhi\n",
        "Marketing,Chennai\n",
        "\"\"\"\n",
        "with open('departments.csv', 'w') as f:\n",
        "    f.write(dept_data)\n",
        "\n",
        "# Read both\n",
        "df_emp = pd.read_csv('employees.csv')\n",
        "df_dept = pd.read_csv('departments.csv')\n",
        "\n",
        "print(df_emp)\n",
        "print(df_dept)"
      ],
      "metadata": {
        "colab": {
          "base_uri": "https://localhost:8080/"
        },
        "id": "WebFXe1ZuWiu",
        "outputId": "c1b97df5-6b50-4aed-d5e1-18da8c80dce4"
      },
      "execution_count": 9,
      "outputs": [
        {
          "output_type": "stream",
          "name": "stdout",
          "text": [
            "   EmpID   Name   Department\n",
            "0    101   Amit        Sales\n",
            "1    102  Anita  Engineering\n",
            "2    103  Kabir           HR\n",
            "3    104  Sneha    Marketing\n",
            "4    105   Ravi  Engineering\n",
            "    Department   Location\n",
            "0        Sales     Mumbai\n",
            "1  Engineering  Bangalore\n",
            "2           HR      Delhi\n",
            "3    Marketing    Chennai\n"
          ]
        }
      ]
    },
    {
      "cell_type": "code",
      "source": [
        "merged_df = pd.merge(df_emp, df_dept, on='Department')\n",
        "print(merged_df)"
      ],
      "metadata": {
        "colab": {
          "base_uri": "https://localhost:8080/"
        },
        "id": "eS90RtNeuYVl",
        "outputId": "04ac18bc-8360-425f-84f7-eb1322cc87f9"
      },
      "execution_count": 10,
      "outputs": [
        {
          "output_type": "stream",
          "name": "stdout",
          "text": [
            "   EmpID   Name   Department   Location\n",
            "0    101   Amit        Sales     Mumbai\n",
            "1    102  Anita  Engineering  Bangalore\n",
            "2    103  Kabir           HR      Delhi\n",
            "3    104  Sneha    Marketing    Chennai\n",
            "4    105   Ravi  Engineering  Bangalore\n"
          ]
        }
      ]
    }
  ]
}