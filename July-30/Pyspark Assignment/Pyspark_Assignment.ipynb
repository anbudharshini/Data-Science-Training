{
  "nbformat": 4,
  "nbformat_minor": 0,
  "metadata": {
    "colab": {
      "provenance": []
    },
    "kernelspec": {
      "name": "python3",
      "display_name": "Python 3"
    },
    "language_info": {
      "name": "python"
    }
  },
  "cells": [
    {
      "cell_type": "markdown",
      "source": [
        "# Product Sales Analysis"
      ],
      "metadata": {
        "id": "xyNIFvaAE8-c"
      }
    },
    {
      "cell_type": "code",
      "execution_count": 1,
      "metadata": {
        "id": "2lHEj69SEgQo"
      },
      "outputs": [],
      "source": [
        "from pyspark.sql import SparkSession\n",
        "spark = SparkSession.builder.appName(\"ProductSalesAnalysis\").getOrCreate()"
      ]
    },
    {
      "cell_type": "markdown",
      "source": [
        "# Load Sales Data from CSV"
      ],
      "metadata": {
        "id": "p9aGic4uFE15"
      }
    },
    {
      "cell_type": "code",
      "source": [
        "data = \"\"\"OrderID,Product,Category,Quantity,UnitPrice,Region\n",
        "1001,Mobile,Electronics,2,15000,North\n",
        "1002,Laptop,Electronics,1,55000,South\n",
        "1003,T-Shirt,Apparel,3,500,East\n",
        "1004,Jeans,Apparel,2,1200,North\n",
        "1005,TV,Electronics,1,40000,West\n",
        "1006,Shoes,Footwear,4,2000,South\n",
        "1007,Watch,Accessories,2,3000,East\n",
        "1008,Headphones,Electronics,3,2500,North\n",
        "\"\"\"\n",
        "\n",
        "with open(\"sales.csv\", \"w\") as f:\n",
        "    f.write(data)\n",
        "\n",
        "df = spark.read.csv(\"sales.csv\", header=True, inferSchema=True)\n",
        "df.printSchema()\n",
        "df.show(5)"
      ],
      "metadata": {
        "colab": {
          "base_uri": "https://localhost:8080/"
        },
        "id": "OG0tfZ5PEqZ1",
        "outputId": "6e88b408-9030-4059-83a0-561156db6747"
      },
      "execution_count": 2,
      "outputs": [
        {
          "output_type": "stream",
          "name": "stdout",
          "text": [
            "root\n",
            " |-- OrderID: integer (nullable = true)\n",
            " |-- Product: string (nullable = true)\n",
            " |-- Category: string (nullable = true)\n",
            " |-- Quantity: integer (nullable = true)\n",
            " |-- UnitPrice: integer (nullable = true)\n",
            " |-- Region: string (nullable = true)\n",
            "\n",
            "+-------+-------+-----------+--------+---------+------+\n",
            "|OrderID|Product|   Category|Quantity|UnitPrice|Region|\n",
            "+-------+-------+-----------+--------+---------+------+\n",
            "|   1001| Mobile|Electronics|       2|    15000| North|\n",
            "|   1002| Laptop|Electronics|       1|    55000| South|\n",
            "|   1003|T-Shirt|    Apparel|       3|      500|  East|\n",
            "|   1004|  Jeans|    Apparel|       2|     1200| North|\n",
            "|   1005|     TV|Electronics|       1|    40000|  West|\n",
            "+-------+-------+-----------+--------+---------+------+\n",
            "only showing top 5 rows\n",
            "\n"
          ]
        }
      ]
    },
    {
      "cell_type": "markdown",
      "source": [
        "# Business Questions\n",
        "1. Add a new column TotalPrice = Quantity × UnitPrice"
      ],
      "metadata": {
        "id": "-wlXSZxDFHJO"
      }
    },
    {
      "cell_type": "code",
      "source": [
        "from pyspark.sql.functions import col\n",
        "\n",
        "df = df.withColumn(\"TotalPrice\", col(\"Quantity\") * col(\"UnitPrice\"))\n",
        "df.show()"
      ],
      "metadata": {
        "colab": {
          "base_uri": "https://localhost:8080/"
        },
        "id": "0GPwSU9QFLVn",
        "outputId": "7666bc74-9de0-4d23-b6bf-ce52f4a675c7"
      },
      "execution_count": 3,
      "outputs": [
        {
          "output_type": "stream",
          "name": "stdout",
          "text": [
            "+-------+----------+-----------+--------+---------+------+----------+\n",
            "|OrderID|   Product|   Category|Quantity|UnitPrice|Region|TotalPrice|\n",
            "+-------+----------+-----------+--------+---------+------+----------+\n",
            "|   1001|    Mobile|Electronics|       2|    15000| North|     30000|\n",
            "|   1002|    Laptop|Electronics|       1|    55000| South|     55000|\n",
            "|   1003|   T-Shirt|    Apparel|       3|      500|  East|      1500|\n",
            "|   1004|     Jeans|    Apparel|       2|     1200| North|      2400|\n",
            "|   1005|        TV|Electronics|       1|    40000|  West|     40000|\n",
            "|   1006|     Shoes|   Footwear|       4|     2000| South|      8000|\n",
            "|   1007|     Watch|Accessories|       2|     3000|  East|      6000|\n",
            "|   1008|Headphones|Electronics|       3|     2500| North|      7500|\n",
            "+-------+----------+-----------+--------+---------+------+----------+\n",
            "\n"
          ]
        }
      ]
    },
    {
      "cell_type": "markdown",
      "source": [
        "# 2. Total revenue generated across all regions."
      ],
      "metadata": {
        "id": "mYtEcvJpFS3x"
      }
    },
    {
      "cell_type": "code",
      "source": [
        "df.agg({\"TotalPrice\": \"sum\"}).show()"
      ],
      "metadata": {
        "colab": {
          "base_uri": "https://localhost:8080/"
        },
        "id": "DwoLVN3vFPb-",
        "outputId": "2d6d2986-192b-418f-85ad-57875e26647d"
      },
      "execution_count": 4,
      "outputs": [
        {
          "output_type": "stream",
          "name": "stdout",
          "text": [
            "+---------------+\n",
            "|sum(TotalPrice)|\n",
            "+---------------+\n",
            "|         150400|\n",
            "+---------------+\n",
            "\n"
          ]
        }
      ]
    },
    {
      "cell_type": "markdown",
      "source": [
        "# 3. Category-wise revenue sorted in descending order."
      ],
      "metadata": {
        "id": "wYJ7MVFyFZcW"
      }
    },
    {
      "cell_type": "code",
      "source": [
        "df.groupBy(\"Category\").sum(\"TotalPrice\").orderBy(\"sum(TotalPrice)\", ascending=False).show()"
      ],
      "metadata": {
        "colab": {
          "base_uri": "https://localhost:8080/"
        },
        "id": "zSZfCThvFc3x",
        "outputId": "dc242769-6f1a-40c1-8369-4fc28c8dc2a6"
      },
      "execution_count": 5,
      "outputs": [
        {
          "output_type": "stream",
          "name": "stdout",
          "text": [
            "+-----------+---------------+\n",
            "|   Category|sum(TotalPrice)|\n",
            "+-----------+---------------+\n",
            "|Electronics|         132500|\n",
            "|   Footwear|           8000|\n",
            "|Accessories|           6000|\n",
            "|    Apparel|           3900|\n",
            "+-----------+---------------+\n",
            "\n"
          ]
        }
      ]
    },
    {
      "cell_type": "markdown",
      "source": [
        "# 4. Region with the highest number of orders"
      ],
      "metadata": {
        "id": "mFYez0aEFgAw"
      }
    },
    {
      "cell_type": "code",
      "source": [
        "from pyspark.sql.functions import count\n",
        "\n",
        "df.groupBy(\"Region\").agg(count(\"OrderID\").alias(\"OrderCount\")).orderBy(\"OrderCount\", ascending=False).show(1)"
      ],
      "metadata": {
        "colab": {
          "base_uri": "https://localhost:8080/"
        },
        "id": "UcVKfbR2FkEn",
        "outputId": "d40c61a8-7f38-4332-d9c9-5506e4dd3630"
      },
      "execution_count": 6,
      "outputs": [
        {
          "output_type": "stream",
          "name": "stdout",
          "text": [
            "+------+----------+\n",
            "|Region|OrderCount|\n",
            "+------+----------+\n",
            "| North|         3|\n",
            "+------+----------+\n",
            "only showing top 1 row\n",
            "\n"
          ]
        }
      ]
    },
    {
      "cell_type": "markdown",
      "source": [
        "# 5. Average Unit Price per Category"
      ],
      "metadata": {
        "id": "dkA60Em5Fmuc"
      }
    },
    {
      "cell_type": "code",
      "source": [
        "from pyspark.sql.functions import avg\n",
        "\n",
        "avg_price_per_category = df.groupBy(\"Category\") \\\n",
        "    .agg(avg(\"UnitPrice\").alias(\"AvgUnitPrice\"))\n",
        "\n",
        "avg_price_per_category.show()\n"
      ],
      "metadata": {
        "colab": {
          "base_uri": "https://localhost:8080/"
        },
        "id": "y2BlSsvjF8go",
        "outputId": "b16c2f74-acc9-4bf2-fe76-4bf098d78b59"
      },
      "execution_count": 7,
      "outputs": [
        {
          "output_type": "stream",
          "name": "stdout",
          "text": [
            "+-----------+------------+\n",
            "|   Category|AvgUnitPrice|\n",
            "+-----------+------------+\n",
            "|    Apparel|       850.0|\n",
            "|Electronics|     28125.0|\n",
            "|   Footwear|      2000.0|\n",
            "|Accessories|      3000.0|\n",
            "+-----------+------------+\n",
            "\n"
          ]
        }
      ]
    },
    {
      "cell_type": "markdown",
      "source": [
        "# 6. All orders where TotalPrice is more than 30,000"
      ],
      "metadata": {
        "id": "GwKZF-z1GhiU"
      }
    },
    {
      "cell_type": "code",
      "source": [
        "high_value_30k = df.filter(df[\"TotalPrice\"] > 30000)\n",
        "high_value_30k.show()"
      ],
      "metadata": {
        "colab": {
          "base_uri": "https://localhost:8080/"
        },
        "id": "6T5mOIhSGeof",
        "outputId": "7fc5da5e-5a55-4246-dd2a-d29536fd78e7"
      },
      "execution_count": 8,
      "outputs": [
        {
          "output_type": "stream",
          "name": "stdout",
          "text": [
            "+-------+-------+-----------+--------+---------+------+----------+\n",
            "|OrderID|Product|   Category|Quantity|UnitPrice|Region|TotalPrice|\n",
            "+-------+-------+-----------+--------+---------+------+----------+\n",
            "|   1002| Laptop|Electronics|       1|    55000| South|     55000|\n",
            "|   1005|     TV|Electronics|       1|    40000|  West|     40000|\n",
            "+-------+-------+-----------+--------+---------+------+----------+\n",
            "\n"
          ]
        }
      ]
    },
    {
      "cell_type": "markdown",
      "source": [
        "# Data Transformations\n",
        "1. Create a new column HighValueOrder which is \"Yes\" if TotalPrice > 20,000,\n",
        "else \"No\" ."
      ],
      "metadata": {
        "id": "GCygrUW4GrE2"
      }
    },
    {
      "cell_type": "code",
      "source": [
        "from pyspark.sql.functions import when\n",
        "\n",
        "df = df.withColumn(\"HighValueOrder\", when(df[\"TotalPrice\"] > 20000, \"Yes\").otherwise(\"No\"))\n",
        "df.show()"
      ],
      "metadata": {
        "colab": {
          "base_uri": "https://localhost:8080/"
        },
        "id": "YekiLVp5Guyb",
        "outputId": "da28bafe-6e6b-45c9-8209-e760a1e58019"
      },
      "execution_count": 9,
      "outputs": [
        {
          "output_type": "stream",
          "name": "stdout",
          "text": [
            "+-------+----------+-----------+--------+---------+------+----------+--------------+\n",
            "|OrderID|   Product|   Category|Quantity|UnitPrice|Region|TotalPrice|HighValueOrder|\n",
            "+-------+----------+-----------+--------+---------+------+----------+--------------+\n",
            "|   1001|    Mobile|Electronics|       2|    15000| North|     30000|           Yes|\n",
            "|   1002|    Laptop|Electronics|       1|    55000| South|     55000|           Yes|\n",
            "|   1003|   T-Shirt|    Apparel|       3|      500|  East|      1500|            No|\n",
            "|   1004|     Jeans|    Apparel|       2|     1200| North|      2400|            No|\n",
            "|   1005|        TV|Electronics|       1|    40000|  West|     40000|           Yes|\n",
            "|   1006|     Shoes|   Footwear|       4|     2000| South|      8000|            No|\n",
            "|   1007|     Watch|Accessories|       2|     3000|  East|      6000|            No|\n",
            "|   1008|Headphones|Electronics|       3|     2500| North|      7500|            No|\n",
            "+-------+----------+-----------+--------+---------+------+----------+--------------+\n",
            "\n"
          ]
        }
      ]
    },
    {
      "cell_type": "markdown",
      "source": [
        "# 2. Filter and display all high-value orders in the North region."
      ],
      "metadata": {
        "id": "jpEjuClUG1AE"
      }
    },
    {
      "cell_type": "code",
      "source": [
        "high_north_orders = df.filter((df[\"HighValueOrder\"] == \"Yes\") & (df[\"Region\"] == \"North\"))\n",
        "high_north_orders.show()"
      ],
      "metadata": {
        "colab": {
          "base_uri": "https://localhost:8080/"
        },
        "id": "5ukBLU8TG4Ba",
        "outputId": "009225b7-71ba-4186-86c5-6fdd731b85ce"
      },
      "execution_count": 10,
      "outputs": [
        {
          "output_type": "stream",
          "name": "stdout",
          "text": [
            "+-------+-------+-----------+--------+---------+------+----------+--------------+\n",
            "|OrderID|Product|   Category|Quantity|UnitPrice|Region|TotalPrice|HighValueOrder|\n",
            "+-------+-------+-----------+--------+---------+------+----------+--------------+\n",
            "|   1001| Mobile|Electronics|       2|    15000| North|     30000|           Yes|\n",
            "+-------+-------+-----------+--------+---------+------+----------+--------------+\n",
            "\n"
          ]
        }
      ]
    },
    {
      "cell_type": "markdown",
      "source": [
        "# 3. Count how many high-value orders exist per region."
      ],
      "metadata": {
        "id": "A9lKiT-fHJez"
      }
    },
    {
      "cell_type": "code",
      "source": [
        "high_value_per_region = df.filter(df[\"HighValueOrder\"] == \"Yes\") \\\n",
        "    .groupBy(\"Region\") \\\n",
        "    .agg(count(\"*\").alias(\"HighValueOrderCount\"))\n",
        "\n",
        "high_value_per_region.show()"
      ],
      "metadata": {
        "colab": {
          "base_uri": "https://localhost:8080/"
        },
        "id": "FmC1roCrHK7t",
        "outputId": "dc2a6bc5-0f69-4bb4-9a46-802037263d0b"
      },
      "execution_count": 11,
      "outputs": [
        {
          "output_type": "stream",
          "name": "stdout",
          "text": [
            "+------+-------------------+\n",
            "|Region|HighValueOrderCount|\n",
            "+------+-------------------+\n",
            "| South|                  1|\n",
            "|  West|                  1|\n",
            "| North|                  1|\n",
            "+------+-------------------+\n",
            "\n"
          ]
        }
      ]
    },
    {
      "cell_type": "markdown",
      "source": [
        "# Save Results\n",
        "Save the transformed DataFrame as a CSV file named high_value_orders.csv with\n",
        "headers."
      ],
      "metadata": {
        "id": "MnHB9IA0HO-d"
      }
    },
    {
      "cell_type": "code",
      "source": [
        "# Filter Only High Value Orders\n",
        "high_value_orders = df.filter(df[\"HighValueOrder\"] == \"Yes\")"
      ],
      "metadata": {
        "id": "iVFYJ8jFHS-h"
      },
      "execution_count": 12,
      "outputs": []
    },
    {
      "cell_type": "code",
      "source": [
        "# Save to CSV (with headers)\n",
        "high_value_orders.coalesce(1).write.mode(\"overwrite\").option(\"header\", True).csv(\"high_value_orders\")"
      ],
      "metadata": {
        "id": "yikINOwvHZrb"
      },
      "execution_count": 13,
      "outputs": []
    },
    {
      "cell_type": "markdown",
      "source": [
        "# Download CSV from Google Colab"
      ],
      "metadata": {
        "id": "X4dTOBVFH3ta"
      }
    },
    {
      "cell_type": "code",
      "source": [
        "import shutil\n",
        "import glob\n",
        "\n",
        "# Find the part file created by Spark\n",
        "output_file = glob.glob(\"high_value_orders/part-*.csv\")[0]\n",
        "\n",
        "# Copy to more accessible path\n",
        "shutil.copy(output_file, \"high_value_orders.csv\")\n"
      ],
      "metadata": {
        "colab": {
          "base_uri": "https://localhost:8080/",
          "height": 36
        },
        "id": "hl-qHhvdH2y2",
        "outputId": "6613f10f-236c-4f50-f2b7-c70e1aaaf0bd"
      },
      "execution_count": 14,
      "outputs": [
        {
          "output_type": "execute_result",
          "data": {
            "text/plain": [
              "'high_value_orders.csv'"
            ],
            "application/vnd.google.colaboratory.intrinsic+json": {
              "type": "string"
            }
          },
          "metadata": {},
          "execution_count": 14
        }
      ]
    },
    {
      "cell_type": "code",
      "source": [
        "from google.colab import files\n",
        "files.download(\"high_value_orders.csv\")"
      ],
      "metadata": {
        "colab": {
          "base_uri": "https://localhost:8080/",
          "height": 17
        },
        "id": "fdJBbmBFH8mq",
        "outputId": "bf85b4af-3951-4a27-b22b-0b296c261c96"
      },
      "execution_count": 18,
      "outputs": [
        {
          "output_type": "display_data",
          "data": {
            "text/plain": [
              "<IPython.core.display.Javascript object>"
            ],
            "application/javascript": [
              "\n",
              "    async function download(id, filename, size) {\n",
              "      if (!google.colab.kernel.accessAllowed) {\n",
              "        return;\n",
              "      }\n",
              "      const div = document.createElement('div');\n",
              "      const label = document.createElement('label');\n",
              "      label.textContent = `Downloading \"${filename}\": `;\n",
              "      div.appendChild(label);\n",
              "      const progress = document.createElement('progress');\n",
              "      progress.max = size;\n",
              "      div.appendChild(progress);\n",
              "      document.body.appendChild(div);\n",
              "\n",
              "      const buffers = [];\n",
              "      let downloaded = 0;\n",
              "\n",
              "      const channel = await google.colab.kernel.comms.open(id);\n",
              "      // Send a message to notify the kernel that we're ready.\n",
              "      channel.send({})\n",
              "\n",
              "      for await (const message of channel.messages) {\n",
              "        // Send a message to notify the kernel that we're ready.\n",
              "        channel.send({})\n",
              "        if (message.buffers) {\n",
              "          for (const buffer of message.buffers) {\n",
              "            buffers.push(buffer);\n",
              "            downloaded += buffer.byteLength;\n",
              "            progress.value = downloaded;\n",
              "          }\n",
              "        }\n",
              "      }\n",
              "      const blob = new Blob(buffers, {type: 'application/binary'});\n",
              "      const a = document.createElement('a');\n",
              "      a.href = window.URL.createObjectURL(blob);\n",
              "      a.download = filename;\n",
              "      div.appendChild(a);\n",
              "      a.click();\n",
              "      div.remove();\n",
              "    }\n",
              "  "
            ]
          },
          "metadata": {}
        },
        {
          "output_type": "display_data",
          "data": {
            "text/plain": [
              "<IPython.core.display.Javascript object>"
            ],
            "application/javascript": [
              "download(\"download_d9faa076-b6ef-4e40-8357-6ba5eb671c6d\", \"high_value_orders.csv\", 216)"
            ]
          },
          "metadata": {}
        }
      ]
    }
  ]
}