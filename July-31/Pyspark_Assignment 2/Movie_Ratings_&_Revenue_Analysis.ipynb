{
  "nbformat": 4,
  "nbformat_minor": 0,
  "metadata": {
    "colab": {
      "provenance": []
    },
    "kernelspec": {
      "name": "python3",
      "display_name": "Python 3"
    },
    "language_info": {
      "name": "python"
    }
  },
  "cells": [
    {
      "cell_type": "markdown",
      "source": [
        "# Assignment: Movie Ratings & Revenue Analysis"
      ],
      "metadata": {
        "id": "6v8Qbyk3wUwo"
      }
    },
    {
      "cell_type": "markdown",
      "source": [
        "###Step 1: Create a CSV – movies.csv"
      ],
      "metadata": {
        "id": "tdu2br7cwZWm"
      }
    },
    {
      "cell_type": "code",
      "execution_count": 1,
      "metadata": {
        "colab": {
          "base_uri": "https://localhost:8080/",
          "height": 17
        },
        "id": "qn7v3H1usMxZ",
        "outputId": "623fbffa-2bec-469f-9a71-00687d9b4f33"
      },
      "outputs": [
        {
          "output_type": "display_data",
          "data": {
            "text/plain": [
              "<IPython.core.display.Javascript object>"
            ],
            "application/javascript": [
              "\n",
              "    async function download(id, filename, size) {\n",
              "      if (!google.colab.kernel.accessAllowed) {\n",
              "        return;\n",
              "      }\n",
              "      const div = document.createElement('div');\n",
              "      const label = document.createElement('label');\n",
              "      label.textContent = `Downloading \"${filename}\": `;\n",
              "      div.appendChild(label);\n",
              "      const progress = document.createElement('progress');\n",
              "      progress.max = size;\n",
              "      div.appendChild(progress);\n",
              "      document.body.appendChild(div);\n",
              "\n",
              "      const buffers = [];\n",
              "      let downloaded = 0;\n",
              "\n",
              "      const channel = await google.colab.kernel.comms.open(id);\n",
              "      // Send a message to notify the kernel that we're ready.\n",
              "      channel.send({})\n",
              "\n",
              "      for await (const message of channel.messages) {\n",
              "        // Send a message to notify the kernel that we're ready.\n",
              "        channel.send({})\n",
              "        if (message.buffers) {\n",
              "          for (const buffer of message.buffers) {\n",
              "            buffers.push(buffer);\n",
              "            downloaded += buffer.byteLength;\n",
              "            progress.value = downloaded;\n",
              "          }\n",
              "        }\n",
              "      }\n",
              "      const blob = new Blob(buffers, {type: 'application/binary'});\n",
              "      const a = document.createElement('a');\n",
              "      a.href = window.URL.createObjectURL(blob);\n",
              "      a.download = filename;\n",
              "      div.appendChild(a);\n",
              "      a.click();\n",
              "      div.remove();\n",
              "    }\n",
              "  "
            ]
          },
          "metadata": {}
        },
        {
          "output_type": "display_data",
          "data": {
            "text/plain": [
              "<IPython.core.display.Javascript object>"
            ],
            "application/javascript": [
              "download(\"download_fd6b82e8-ad76-47b6-8ea7-3be676f454b9\", \"movies.csv\", 439)"
            ]
          },
          "metadata": {}
        }
      ],
      "source": [
        "import pandas as pd\n",
        "\n",
        "data = \"\"\"MovieID,Title,Genre,ReleaseDate,Rating,Revenue,Budget\n",
        "1,Inception,Sci-Fi,2010-07-16,8.8,825532764,160000000\n",
        "2,The Dark Knight,Action,2008-07-18,9.0,1004558444,185000000\n",
        "3,Titanic,Romance,1997-12-19,7.8,2187463944,200000000\n",
        "4,Interstellar,Sci-Fi,2014-11-07,8.6,677471339,165000000\n",
        "5,Joker,Drama,2019-10-04,8.4,1074251311,55000000\n",
        "6,The Notebook,Romance,2004-06-25,7.9,,29000000\n",
        "7,Avengers: Endgame,Action,2019-04-26,8.4,2797800564,356000000\"\"\"\n",
        "\n",
        "# Save to CSV\n",
        "with open(\"movies.csv\", \"w\") as file:\n",
        "    file.write(data)\n",
        "\n",
        "# Download the \"movies.csv\" csv file\n",
        "from google.colab import files\n",
        "files.download(\"movies.csv\")"
      ]
    },
    {
      "cell_type": "markdown",
      "source": [
        "## PART 1: Pandas Operations"
      ],
      "metadata": {
        "id": "GD2iYVNTwcVk"
      }
    },
    {
      "cell_type": "markdown",
      "source": [
        "###1. Load movies.csv into a Pandas DataFrame."
      ],
      "metadata": {
        "id": "8YDMke8mweyb"
      }
    },
    {
      "cell_type": "code",
      "source": [
        "df = pd.read_csv(\"movies.csv\")\n",
        "print(df)"
      ],
      "metadata": {
        "colab": {
          "base_uri": "https://localhost:8080/"
        },
        "id": "8hImovyRsOBk",
        "outputId": "5aa1875c-4df4-4356-d7c6-114625c0d5b9"
      },
      "execution_count": 2,
      "outputs": [
        {
          "output_type": "stream",
          "name": "stdout",
          "text": [
            "   MovieID              Title    Genre ReleaseDate  Rating       Revenue  \\\n",
            "0        1          Inception   Sci-Fi  2010-07-16     8.8  8.255328e+08   \n",
            "1        2    The Dark Knight   Action  2008-07-18     9.0  1.004558e+09   \n",
            "2        3            Titanic  Romance  1997-12-19     7.8  2.187464e+09   \n",
            "3        4       Interstellar   Sci-Fi  2014-11-07     8.6  6.774713e+08   \n",
            "4        5              Joker    Drama  2019-10-04     8.4  1.074251e+09   \n",
            "5        6       The Notebook  Romance  2004-06-25     7.9           NaN   \n",
            "6        7  Avengers: Endgame   Action  2019-04-26     8.4  2.797801e+09   \n",
            "\n",
            "      Budget  \n",
            "0  160000000  \n",
            "1  185000000  \n",
            "2  200000000  \n",
            "3  165000000  \n",
            "4   55000000  \n",
            "5   29000000  \n",
            "6  356000000  \n"
          ]
        }
      ]
    },
    {
      "cell_type": "markdown",
      "source": [
        "###2. Convert ReleaseDate to datetime."
      ],
      "metadata": {
        "id": "Iaovm8bYwinw"
      }
    },
    {
      "cell_type": "code",
      "source": [
        "df['ReleaseDate'] = pd.to_datetime(df['ReleaseDate'])\n",
        "print(df)"
      ],
      "metadata": {
        "colab": {
          "base_uri": "https://localhost:8080/"
        },
        "id": "S30iRc0GsTTF",
        "outputId": "635167f6-91ef-42da-ea04-18464e63218d"
      },
      "execution_count": 3,
      "outputs": [
        {
          "output_type": "stream",
          "name": "stdout",
          "text": [
            "   MovieID              Title    Genre ReleaseDate  Rating       Revenue  \\\n",
            "0        1          Inception   Sci-Fi  2010-07-16     8.8  8.255328e+08   \n",
            "1        2    The Dark Knight   Action  2008-07-18     9.0  1.004558e+09   \n",
            "2        3            Titanic  Romance  1997-12-19     7.8  2.187464e+09   \n",
            "3        4       Interstellar   Sci-Fi  2014-11-07     8.6  6.774713e+08   \n",
            "4        5              Joker    Drama  2019-10-04     8.4  1.074251e+09   \n",
            "5        6       The Notebook  Romance  2004-06-25     7.9           NaN   \n",
            "6        7  Avengers: Endgame   Action  2019-04-26     8.4  2.797801e+09   \n",
            "\n",
            "      Budget  \n",
            "0  160000000  \n",
            "1  185000000  \n",
            "2  200000000  \n",
            "3  165000000  \n",
            "4   55000000  \n",
            "5   29000000  \n",
            "6  356000000  \n"
          ]
        }
      ]
    },
    {
      "cell_type": "markdown",
      "source": [
        "###3. Calculate Profit = Revenue - Budget ."
      ],
      "metadata": {
        "id": "nuUke68qwljb"
      }
    },
    {
      "cell_type": "code",
      "source": [
        "df['Profit'] = df['Revenue'] - df['Budget']\n",
        "print(df)"
      ],
      "metadata": {
        "colab": {
          "base_uri": "https://localhost:8080/"
        },
        "id": "UoluY7_DsTQS",
        "outputId": "3e9ba9c8-3a44-4547-b1e5-4fca0ba6bdcf"
      },
      "execution_count": 4,
      "outputs": [
        {
          "output_type": "stream",
          "name": "stdout",
          "text": [
            "   MovieID              Title    Genre ReleaseDate  Rating       Revenue  \\\n",
            "0        1          Inception   Sci-Fi  2010-07-16     8.8  8.255328e+08   \n",
            "1        2    The Dark Knight   Action  2008-07-18     9.0  1.004558e+09   \n",
            "2        3            Titanic  Romance  1997-12-19     7.8  2.187464e+09   \n",
            "3        4       Interstellar   Sci-Fi  2014-11-07     8.6  6.774713e+08   \n",
            "4        5              Joker    Drama  2019-10-04     8.4  1.074251e+09   \n",
            "5        6       The Notebook  Romance  2004-06-25     7.9           NaN   \n",
            "6        7  Avengers: Endgame   Action  2019-04-26     8.4  2.797801e+09   \n",
            "\n",
            "      Budget        Profit  \n",
            "0  160000000  6.655328e+08  \n",
            "1  185000000  8.195584e+08  \n",
            "2  200000000  1.987464e+09  \n",
            "3  165000000  5.124713e+08  \n",
            "4   55000000  1.019251e+09  \n",
            "5   29000000           NaN  \n",
            "6  356000000  2.441801e+09  \n"
          ]
        }
      ]
    },
    {
      "cell_type": "markdown",
      "source": [
        "###4. Add a column \"Era\" :\n",
        "\n",
        "Before 2000 → Classic\n",
        "\n",
        "2000-2010 → Mid\n",
        "\n",
        "After 2010 → Modern"
      ],
      "metadata": {
        "id": "b-g-_oLVwn6H"
      }
    },
    {
      "cell_type": "code",
      "source": [
        "df['Era'] = df['ReleaseDate'].dt.year.apply(\n",
        "    lambda x: 'Classic' if x < 2000 else 'Mid' if x <= 2010 else 'Modern'\n",
        ")\n",
        "print(df)"
      ],
      "metadata": {
        "colab": {
          "base_uri": "https://localhost:8080/"
        },
        "id": "qhUKOa_ksTN0",
        "outputId": "acbb424f-0b56-41e1-9af8-2cacb1e7021b"
      },
      "execution_count": 5,
      "outputs": [
        {
          "output_type": "stream",
          "name": "stdout",
          "text": [
            "   MovieID              Title    Genre ReleaseDate  Rating       Revenue  \\\n",
            "0        1          Inception   Sci-Fi  2010-07-16     8.8  8.255328e+08   \n",
            "1        2    The Dark Knight   Action  2008-07-18     9.0  1.004558e+09   \n",
            "2        3            Titanic  Romance  1997-12-19     7.8  2.187464e+09   \n",
            "3        4       Interstellar   Sci-Fi  2014-11-07     8.6  6.774713e+08   \n",
            "4        5              Joker    Drama  2019-10-04     8.4  1.074251e+09   \n",
            "5        6       The Notebook  Romance  2004-06-25     7.9           NaN   \n",
            "6        7  Avengers: Endgame   Action  2019-04-26     8.4  2.797801e+09   \n",
            "\n",
            "      Budget        Profit      Era  \n",
            "0  160000000  6.655328e+08      Mid  \n",
            "1  185000000  8.195584e+08      Mid  \n",
            "2  200000000  1.987464e+09  Classic  \n",
            "3  165000000  5.124713e+08   Modern  \n",
            "4   55000000  1.019251e+09   Modern  \n",
            "5   29000000           NaN      Mid  \n",
            "6  356000000  2.441801e+09   Modern  \n"
          ]
        }
      ]
    },
    {
      "cell_type": "markdown",
      "source": [
        "###5. Handle nulls in Revenue by filling with average revenue."
      ],
      "metadata": {
        "id": "wOfULgydwo7M"
      }
    },
    {
      "cell_type": "code",
      "source": [
        "df['Revenue'] = df['Revenue'].fillna(df['Revenue'].mean())\n",
        "print(df)"
      ],
      "metadata": {
        "colab": {
          "base_uri": "https://localhost:8080/"
        },
        "id": "MHHfSlddsTLk",
        "outputId": "4a5a6034-afde-45e1-f08a-cafd06db1898"
      },
      "execution_count": 6,
      "outputs": [
        {
          "output_type": "stream",
          "name": "stdout",
          "text": [
            "   MovieID              Title    Genre ReleaseDate  Rating       Revenue  \\\n",
            "0        1          Inception   Sci-Fi  2010-07-16     8.8  8.255328e+08   \n",
            "1        2    The Dark Knight   Action  2008-07-18     9.0  1.004558e+09   \n",
            "2        3            Titanic  Romance  1997-12-19     7.8  2.187464e+09   \n",
            "3        4       Interstellar   Sci-Fi  2014-11-07     8.6  6.774713e+08   \n",
            "4        5              Joker    Drama  2019-10-04     8.4  1.074251e+09   \n",
            "5        6       The Notebook  Romance  2004-06-25     7.9  1.427846e+09   \n",
            "6        7  Avengers: Endgame   Action  2019-04-26     8.4  2.797801e+09   \n",
            "\n",
            "      Budget        Profit      Era  \n",
            "0  160000000  6.655328e+08      Mid  \n",
            "1  185000000  8.195584e+08      Mid  \n",
            "2  200000000  1.987464e+09  Classic  \n",
            "3  165000000  5.124713e+08   Modern  \n",
            "4   55000000  1.019251e+09   Modern  \n",
            "5   29000000           NaN      Mid  \n",
            "6  356000000  2.441801e+09   Modern  \n"
          ]
        }
      ]
    },
    {
      "cell_type": "markdown",
      "source": [
        "###6. Sort by Rating descending."
      ],
      "metadata": {
        "id": "xx6oQAg5wtZf"
      }
    },
    {
      "cell_type": "code",
      "source": [
        "df_sorted = df.sort_values(by='Rating', ascending=False)\n",
        "print(df_sorted)"
      ],
      "metadata": {
        "colab": {
          "base_uri": "https://localhost:8080/"
        },
        "id": "L4HPE-ODsTIy",
        "outputId": "83f9990c-fdc0-4cbe-d66d-8a71c6de0ca9"
      },
      "execution_count": 7,
      "outputs": [
        {
          "output_type": "stream",
          "name": "stdout",
          "text": [
            "   MovieID              Title    Genre ReleaseDate  Rating       Revenue  \\\n",
            "1        2    The Dark Knight   Action  2008-07-18     9.0  1.004558e+09   \n",
            "0        1          Inception   Sci-Fi  2010-07-16     8.8  8.255328e+08   \n",
            "3        4       Interstellar   Sci-Fi  2014-11-07     8.6  6.774713e+08   \n",
            "6        7  Avengers: Endgame   Action  2019-04-26     8.4  2.797801e+09   \n",
            "4        5              Joker    Drama  2019-10-04     8.4  1.074251e+09   \n",
            "5        6       The Notebook  Romance  2004-06-25     7.9  1.427846e+09   \n",
            "2        3            Titanic  Romance  1997-12-19     7.8  2.187464e+09   \n",
            "\n",
            "      Budget        Profit      Era  \n",
            "1  185000000  8.195584e+08      Mid  \n",
            "0  160000000  6.655328e+08      Mid  \n",
            "3  165000000  5.124713e+08   Modern  \n",
            "6  356000000  2.441801e+09   Modern  \n",
            "4   55000000  1.019251e+09   Modern  \n",
            "5   29000000           NaN      Mid  \n",
            "2  200000000  1.987464e+09  Classic  \n"
          ]
        }
      ]
    },
    {
      "cell_type": "markdown",
      "source": [
        "###7. Group by Genre → average Rating & total Revenue."
      ],
      "metadata": {
        "id": "eY1QRifjwvZx"
      }
    },
    {
      "cell_type": "code",
      "source": [
        "genre_stats = df.groupby('Genre').agg({'Rating': 'mean', 'Revenue': 'sum'})\n",
        "print(genre_stats)"
      ],
      "metadata": {
        "colab": {
          "base_uri": "https://localhost:8080/"
        },
        "id": "PhgonpEPsTEC",
        "outputId": "4fd8d1ba-6ccb-44b1-e56c-0e125eea50a5"
      },
      "execution_count": 8,
      "outputs": [
        {
          "output_type": "stream",
          "name": "stdout",
          "text": [
            "         Rating       Revenue\n",
            "Genre                        \n",
            "Action     8.70  3.802359e+09\n",
            "Drama      8.40  1.074251e+09\n",
            "Romance    7.85  3.615310e+09\n",
            "Sci-Fi     8.70  1.503004e+09\n"
          ]
        }
      ]
    },
    {
      "cell_type": "markdown",
      "source": [
        "###8. Filter movies with Rating ≥ 8.5 and Profit > 500M."
      ],
      "metadata": {
        "id": "GqLJozDTwxcl"
      }
    },
    {
      "cell_type": "code",
      "source": [
        "high_perf_movies = df[(df['Rating'] >= 8.5) & (df['Profit'] > 500_000_000)]\n",
        "print(high_perf_movies)"
      ],
      "metadata": {
        "colab": {
          "base_uri": "https://localhost:8080/"
        },
        "id": "cCzbjlTWsTCB",
        "outputId": "e09e3776-5951-4f2c-d5e0-1771530d7e9a"
      },
      "execution_count": 9,
      "outputs": [
        {
          "output_type": "stream",
          "name": "stdout",
          "text": [
            "   MovieID            Title   Genre ReleaseDate  Rating       Revenue  \\\n",
            "0        1        Inception  Sci-Fi  2010-07-16     8.8  8.255328e+08   \n",
            "1        2  The Dark Knight  Action  2008-07-18     9.0  1.004558e+09   \n",
            "3        4     Interstellar  Sci-Fi  2014-11-07     8.6  6.774713e+08   \n",
            "\n",
            "      Budget       Profit     Era  \n",
            "0  160000000  665532764.0     Mid  \n",
            "1  185000000  819558444.0     Mid  \n",
            "3  165000000  512471339.0  Modern  \n"
          ]
        }
      ]
    },
    {
      "cell_type": "markdown",
      "source": [
        "###9. Plot bar chart of Movie Title vs Profit."
      ],
      "metadata": {
        "id": "KsdqwZf4wz3y"
      }
    },
    {
      "cell_type": "code",
      "source": [
        "import matplotlib.pyplot as plt\n",
        "df.plot(x='Title', y='Profit', kind='bar', figsize=(10,5))\n",
        "plt.title(\"Movie Profit\")\n",
        "plt.ylabel(\"Profit\")\n",
        "plt.xticks(rotation=45)\n",
        "plt.tight_layout()\n",
        "plt.show()"
      ],
      "metadata": {
        "colab": {
          "base_uri": "https://localhost:8080/",
          "height": 507
        },
        "id": "QHjc7BOysS_j",
        "outputId": "f726a076-de5e-4cd5-ba51-995962c8c718"
      },
      "execution_count": 10,
      "outputs": [
        {
          "output_type": "display_data",
          "data": {
            "text/plain": [
              "<Figure size 1000x500 with 1 Axes>"
            ],
            "image/png": "[encoded data removed]"
          },
          "metadata": {}
        }
      ]
    },
    {
      "cell_type": "markdown",
      "source": [
        "## PART 2: PySpark Operations"
      ],
      "metadata": {
        "id": "fgUKsHTww3eG"
      }
    },
    {
      "cell_type": "markdown",
      "source": [
        "###1. Read the same CSV using PySpark."
      ],
      "metadata": {
        "id": "39daDOXHw4EF"
      }
    },
    {
      "cell_type": "code",
      "source": [
        "from pyspark.sql import SparkSession\n",
        "from pyspark.sql.functions import col, when, to_date, year, month, rank\n",
        "from pyspark.sql.window import Window\n",
        "\n",
        "spark = SparkSession.builder.appName(\"MovieAnalysis\").getOrCreate()\n",
        "\n",
        "# Read CSV\n",
        "df_spark = spark.read.option(\"header\", True).option(\"inferSchema\", True).csv(\"movies.csv\")\n",
        "print(df_spark.show())"
      ],
      "metadata": {
        "colab": {
          "base_uri": "https://localhost:8080/"
        },
        "id": "6m7t2e8wsS9D",
        "outputId": "dca79096-07a2-406a-8266-6370955f5cfe"
      },
      "execution_count": 11,
      "outputs": [
        {
          "output_type": "stream",
          "name": "stdout",
          "text": [
            "+-------+-----------------+-------+-----------+------+----------+---------+\n",
            "|MovieID|            Title|  Genre|ReleaseDate|Rating|   Revenue|   Budget|\n",
            "+-------+-----------------+-------+-----------+------+----------+---------+\n",
            "|      1|        Inception| Sci-Fi| 2010-07-16|   8.8| 825532764|160000000|\n",
            "|      2|  The Dark Knight| Action| 2008-07-18|   9.0|1004558444|185000000|\n",
            "|      3|          Titanic|Romance| 1997-12-19|   7.8|2187463944|200000000|\n",
            "|      4|     Interstellar| Sci-Fi| 2014-11-07|   8.6| 677471339|165000000|\n",
            "|      5|            Joker|  Drama| 2019-10-04|   8.4|1074251311| 55000000|\n",
            "|      6|     The Notebook|Romance| 2004-06-25|   7.9|      NULL| 29000000|\n",
            "|      7|Avengers: Endgame| Action| 2019-04-26|   8.4|2797800564|356000000|\n",
            "+-------+-----------------+-------+-----------+------+----------+---------+\n",
            "\n",
            "None\n"
          ]
        }
      ]
    },
    {
      "cell_type": "markdown",
      "source": [
        "###2. Create Profit column ( Revenue - Budget )."
      ],
      "metadata": {
        "id": "ZUrOTu7Jw6Sh"
      }
    },
    {
      "cell_type": "code",
      "source": [
        "df_spark = df_spark.withColumn(\"Profit\", col(\"Revenue\") - col(\"Budget\"))\n",
        "print(df_spark.show())"
      ],
      "metadata": {
        "colab": {
          "base_uri": "https://localhost:8080/"
        },
        "id": "A5HoTRANsS7B",
        "outputId": "1b69fa3f-0d00-4233-c5c0-9cd903cd5da6"
      },
      "execution_count": 12,
      "outputs": [
        {
          "output_type": "stream",
          "name": "stdout",
          "text": [
            "+-------+-----------------+-------+-----------+------+----------+---------+----------+\n",
            "|MovieID|            Title|  Genre|ReleaseDate|Rating|   Revenue|   Budget|    Profit|\n",
            "+-------+-----------------+-------+-----------+------+----------+---------+----------+\n",
            "|      1|        Inception| Sci-Fi| 2010-07-16|   8.8| 825532764|160000000| 665532764|\n",
            "|      2|  The Dark Knight| Action| 2008-07-18|   9.0|1004558444|185000000| 819558444|\n",
            "|      3|          Titanic|Romance| 1997-12-19|   7.8|2187463944|200000000|1987463944|\n",
            "|      4|     Interstellar| Sci-Fi| 2014-11-07|   8.6| 677471339|165000000| 512471339|\n",
            "|      5|            Joker|  Drama| 2019-10-04|   8.4|1074251311| 55000000|1019251311|\n",
            "|      6|     The Notebook|Romance| 2004-06-25|   7.9|      NULL| 29000000|      NULL|\n",
            "|      7|Avengers: Endgame| Action| 2019-04-26|   8.4|2797800564|356000000|2441800564|\n",
            "+-------+-----------------+-------+-----------+------+----------+---------+----------+\n",
            "\n",
            "None\n"
          ]
        }
      ]
    },
    {
      "cell_type": "markdown",
      "source": [
        "###3. Filter where Genre == 'Sci-Fi' and Profit > 500000000 ."
      ],
      "metadata": {
        "id": "3AmPEKmSxJrd"
      }
    },
    {
      "cell_type": "code",
      "source": [
        "df_spark.filter((col(\"Genre\") == \"Sci-Fi\") & (col(\"Profit\") > 500_000_000)).show()"
      ],
      "metadata": {
        "colab": {
          "base_uri": "https://localhost:8080/"
        },
        "id": "Pi0xCR-DxPBO",
        "outputId": "35e7ac50-69f8-43e3-802e-ba0ab29f73de"
      },
      "execution_count": 44,
      "outputs": [
        {
          "output_type": "stream",
          "name": "stdout",
          "text": [
            "+-------+------------+------+-----------+------+---------+---------+-----------+----+-----+----------+\n",
            "|MovieID|       Title| Genre|ReleaseDate|Rating|  Revenue|   Profit|RatingClass|Year|Month|ProfitRank|\n",
            "+-------+------------+------+-----------+------+---------+---------+-----------+----+-----+----------+\n",
            "|      1|   Inception|Sci-Fi| 2010-07-16|   8.8|825532764|665532764|        Hit|2010|    7|         1|\n",
            "|      4|Interstellar|Sci-Fi| 2014-11-07|   8.6|677471339|512471339|        Hit|2014|   11|         2|\n",
            "+-------+------------+------+-----------+------+---------+---------+-----------+----+-----+----------+\n",
            "\n"
          ]
        }
      ]
    },
    {
      "cell_type": "markdown",
      "source": [
        "###4. Group by Genre → avg(Rating) , sum(Profit)"
      ],
      "metadata": {
        "id": "b3WkaeeVw_Zp"
      }
    },
    {
      "cell_type": "code",
      "source": [
        "df_spark.groupBy(\"Genre\").agg({'Rating': 'avg', 'Profit': 'sum'}).show()"
      ],
      "metadata": {
        "colab": {
          "base_uri": "https://localhost:8080/"
        },
        "id": "IeRe880-xej1",
        "outputId": "8fa6c2e0-d4e1-44d4-dc74-4dbba92d97ed"
      },
      "execution_count": 45,
      "outputs": [
        {
          "output_type": "stream",
          "name": "stdout",
          "text": [
            "+-------+-----------+-----------+\n",
            "|  Genre|avg(Rating)|sum(Profit)|\n",
            "+-------+-----------+-----------+\n",
            "|Romance|       7.85| 1987463944|\n",
            "|  Drama|        8.4| 1019251311|\n",
            "| Action|        8.7| 3261359008|\n",
            "| Sci-Fi|        8.7| 1178004103|\n",
            "+-------+-----------+-----------+\n",
            "\n"
          ]
        }
      ]
    },
    {
      "cell_type": "markdown",
      "source": [
        "###5. Use when().otherwise() to classify Rating as:\n",
        "\n",
        "=9 → Blockbuster\n",
        "\n",
        "8–9 → Hit\n",
        "\n",
        "below 8 → Average"
      ],
      "metadata": {
        "id": "pBSfruTUxUqi"
      }
    },
    {
      "cell_type": "code",
      "source": [
        "df_spark = df_spark.withColumn(\n",
        "    \"RatingClass\",\n",
        "    when(col(\"Rating\") == 9.0, \"Blockbuster\")\n",
        "    .when((col(\"Rating\") >= 8.0) & (col(\"Rating\") < 9.0), \"Hit\")\n",
        "    .otherwise(\"Average\")\n",
        ")\n",
        "print(df_spark.show())"
      ],
      "metadata": {
        "colab": {
          "base_uri": "https://localhost:8080/"
        },
        "id": "5mwgygVgsSzi",
        "outputId": "3af1af70-d1ba-41b5-a882-cac488ac3db5"
      },
      "execution_count": 15,
      "outputs": [
        {
          "output_type": "stream",
          "name": "stdout",
          "text": [
            "+-------+-----------------+-------+-----------+------+----------+---------+----------+-----------+\n",
            "|MovieID|            Title|  Genre|ReleaseDate|Rating|   Revenue|   Budget|    Profit|RatingClass|\n",
            "+-------+-----------------+-------+-----------+------+----------+---------+----------+-----------+\n",
            "|      1|        Inception| Sci-Fi| 2010-07-16|   8.8| 825532764|160000000| 665532764|        Hit|\n",
            "|      2|  The Dark Knight| Action| 2008-07-18|   9.0|1004558444|185000000| 819558444|Blockbuster|\n",
            "|      3|          Titanic|Romance| 1997-12-19|   7.8|2187463944|200000000|1987463944|    Average|\n",
            "|      4|     Interstellar| Sci-Fi| 2014-11-07|   8.6| 677471339|165000000| 512471339|        Hit|\n",
            "|      5|            Joker|  Drama| 2019-10-04|   8.4|1074251311| 55000000|1019251311|        Hit|\n",
            "|      6|     The Notebook|Romance| 2004-06-25|   7.9|      NULL| 29000000|      NULL|    Average|\n",
            "|      7|Avengers: Endgame| Action| 2019-04-26|   8.4|2797800564|356000000|2441800564|        Hit|\n",
            "+-------+-----------------+-------+-----------+------+----------+---------+----------+-----------+\n",
            "\n",
            "None\n"
          ]
        }
      ]
    },
    {
      "cell_type": "markdown",
      "source": [
        "###6. Drop the Budget column."
      ],
      "metadata": {
        "id": "2b7Wd9EOxoa0"
      }
    },
    {
      "cell_type": "code",
      "source": [
        "df_spark = df_spark.drop(\"Budget\")\n",
        "print(df_spark.show())"
      ],
      "metadata": {
        "colab": {
          "base_uri": "https://localhost:8080/"
        },
        "id": "fA5BNXJVsSww",
        "outputId": "bb758b5f-334c-4f2e-9114-81728ac090d2"
      },
      "execution_count": 16,
      "outputs": [
        {
          "output_type": "stream",
          "name": "stdout",
          "text": [
            "+-------+-----------------+-------+-----------+------+----------+----------+-----------+\n",
            "|MovieID|            Title|  Genre|ReleaseDate|Rating|   Revenue|    Profit|RatingClass|\n",
            "+-------+-----------------+-------+-----------+------+----------+----------+-----------+\n",
            "|      1|        Inception| Sci-Fi| 2010-07-16|   8.8| 825532764| 665532764|        Hit|\n",
            "|      2|  The Dark Knight| Action| 2008-07-18|   9.0|1004558444| 819558444|Blockbuster|\n",
            "|      3|          Titanic|Romance| 1997-12-19|   7.8|2187463944|1987463944|    Average|\n",
            "|      4|     Interstellar| Sci-Fi| 2014-11-07|   8.6| 677471339| 512471339|        Hit|\n",
            "|      5|            Joker|  Drama| 2019-10-04|   8.4|1074251311|1019251311|        Hit|\n",
            "|      6|     The Notebook|Romance| 2004-06-25|   7.9|      NULL|      NULL|    Average|\n",
            "|      7|Avengers: Endgame| Action| 2019-04-26|   8.4|2797800564|2441800564|        Hit|\n",
            "+-------+-----------------+-------+-----------+------+----------+----------+-----------+\n",
            "\n",
            "None\n"
          ]
        }
      ]
    },
    {
      "cell_type": "markdown",
      "source": [
        "###7. Fill null revenue with average (use na.fill() or na.replace())."
      ],
      "metadata": {
        "id": "Vdpn3cWaxq7j"
      }
    },
    {
      "cell_type": "code",
      "source": [
        "avg_revenue = df_spark.selectExpr(\"avg(Revenue)\").first()[0]\n",
        "df_spark = df_spark.na.fill({\"Revenue\": avg_revenue})\n",
        "print(df_spark.show())"
      ],
      "metadata": {
        "colab": {
          "base_uri": "https://localhost:8080/"
        },
        "id": "QzWXOh9usSs1",
        "outputId": "edfc9da3-9202-418f-c22f-a7c8726abff4"
      },
      "execution_count": 17,
      "outputs": [
        {
          "output_type": "stream",
          "name": "stdout",
          "text": [
            "+-------+-----------------+-------+-----------+------+----------+----------+-----------+\n",
            "|MovieID|            Title|  Genre|ReleaseDate|Rating|   Revenue|    Profit|RatingClass|\n",
            "+-------+-----------------+-------+-----------+------+----------+----------+-----------+\n",
            "|      1|        Inception| Sci-Fi| 2010-07-16|   8.8| 825532764| 665532764|        Hit|\n",
            "|      2|  The Dark Knight| Action| 2008-07-18|   9.0|1004558444| 819558444|Blockbuster|\n",
            "|      3|          Titanic|Romance| 1997-12-19|   7.8|2187463944|1987463944|    Average|\n",
            "|      4|     Interstellar| Sci-Fi| 2014-11-07|   8.6| 677471339| 512471339|        Hit|\n",
            "|      5|            Joker|  Drama| 2019-10-04|   8.4|1074251311|1019251311|        Hit|\n",
            "|      6|     The Notebook|Romance| 2004-06-25|   7.9|1427846394|      NULL|    Average|\n",
            "|      7|Avengers: Endgame| Action| 2019-04-26|   8.4|2797800564|2441800564|        Hit|\n",
            "+-------+-----------------+-------+-----------+------+----------+----------+-----------+\n",
            "\n",
            "None\n"
          ]
        }
      ]
    },
    {
      "cell_type": "markdown",
      "source": [
        "###8. Convert ReleaseDate to date type, extract year and month ."
      ],
      "metadata": {
        "id": "vCEwNSJlxsDg"
      }
    },
    {
      "cell_type": "code",
      "source": [
        "df_spark = df_spark.withColumn(\"ReleaseDate\", to_date(\"ReleaseDate\"))\n",
        "df_spark = df_spark.withColumn(\"Year\", year(\"ReleaseDate\"))\n",
        "df_spark = df_spark.withColumn(\"Month\", month(\"ReleaseDate\"))\n",
        "print(df_spark.show())"
      ],
      "metadata": {
        "colab": {
          "base_uri": "https://localhost:8080/"
        },
        "id": "vZQCZ3_KsSp_",
        "outputId": "a9ec61da-33c3-437a-83e4-14c2ad103657"
      },
      "execution_count": 18,
      "outputs": [
        {
          "output_type": "stream",
          "name": "stdout",
          "text": [
            "+-------+-----------------+-------+-----------+------+----------+----------+-----------+----+-----+\n",
            "|MovieID|            Title|  Genre|ReleaseDate|Rating|   Revenue|    Profit|RatingClass|Year|Month|\n",
            "+-------+-----------------+-------+-----------+------+----------+----------+-----------+----+-----+\n",
            "|      1|        Inception| Sci-Fi| 2010-07-16|   8.8| 825532764| 665532764|        Hit|2010|    7|\n",
            "|      2|  The Dark Knight| Action| 2008-07-18|   9.0|1004558444| 819558444|Blockbuster|2008|    7|\n",
            "|      3|          Titanic|Romance| 1997-12-19|   7.8|2187463944|1987463944|    Average|1997|   12|\n",
            "|      4|     Interstellar| Sci-Fi| 2014-11-07|   8.6| 677471339| 512471339|        Hit|2014|   11|\n",
            "|      5|            Joker|  Drama| 2019-10-04|   8.4|1074251311|1019251311|        Hit|2019|   10|\n",
            "|      6|     The Notebook|Romance| 2004-06-25|   7.9|1427846394|      NULL|    Average|2004|    6|\n",
            "|      7|Avengers: Endgame| Action| 2019-04-26|   8.4|2797800564|2441800564|        Hit|2019|    4|\n",
            "+-------+-----------------+-------+-----------+------+----------+----------+-----------+----+-----+\n",
            "\n",
            "None\n"
          ]
        }
      ]
    },
    {
      "cell_type": "markdown",
      "source": [
        "###9. Use a window function to rank movies within each genre by profit."
      ],
      "metadata": {
        "id": "gC4Oocd6xvhK"
      }
    },
    {
      "cell_type": "code",
      "source": [
        "windowSpec = Window.partitionBy(\"Genre\").orderBy(col(\"Profit\").desc())\n",
        "df_spark = df_spark.withColumn(\"ProfitRank\", rank().over(windowSpec))\n",
        "df_spark.select(\"Title\", \"Genre\", \"Profit\", \"ProfitRank\").show()"
      ],
      "metadata": {
        "colab": {
          "base_uri": "https://localhost:8080/"
        },
        "id": "I-VB8KrusoKM",
        "outputId": "63752730-9f4c-4d10-a8e8-7f6e3afcd387"
      },
      "execution_count": 19,
      "outputs": [
        {
          "output_type": "stream",
          "name": "stdout",
          "text": [
            "+-----------------+-------+----------+----------+\n",
            "|            Title|  Genre|    Profit|ProfitRank|\n",
            "+-----------------+-------+----------+----------+\n",
            "|Avengers: Endgame| Action|2441800564|         1|\n",
            "|  The Dark Knight| Action| 819558444|         2|\n",
            "|            Joker|  Drama|1019251311|         1|\n",
            "|          Titanic|Romance|1987463944|         1|\n",
            "|     The Notebook|Romance|      NULL|         2|\n",
            "|        Inception| Sci-Fi| 665532764|         1|\n",
            "|     Interstellar| Sci-Fi| 512471339|         2|\n",
            "+-----------------+-------+----------+----------+\n",
            "\n"
          ]
        }
      ]
    },
    {
      "cell_type": "markdown",
      "source": [
        "##PART 3: JSON + Union Example"
      ],
      "metadata": {
        "id": "h0m-XbFKxyCK"
      }
    },
    {
      "cell_type": "markdown",
      "source": [
        "###movies_bonus.json"
      ],
      "metadata": {
        "id": "G2b3GDruxyu1"
      }
    },
    {
      "cell_type": "code",
      "source": [
        "import json\n",
        "\n",
        "movies_bonus = [\n",
        "  {\"MovieID\": 8, \"Title\": \"Barbie\", \"Genre\": \"Drama\", \"Rating\": 7.5, \"Revenue\": 1456000000, \"Budget\": 145000000},\n",
        "  {\"MovieID\": 9, \"Title\": \"Oppenheimer\", \"Genre\": \"Drama\", \"Rating\": 8.6, \"Revenue\": 950000000, \"Budget\": 100000000}\n",
        "]\n",
        "\n",
        "with open(\"movies_bonus.json\", \"w\") as f:\n",
        "    json.dump(movies_bonus, f, indent=4)\n",
        "\n",
        "# Download the \"movies_bonus.json\" JSON file\n",
        "from google.colab import files\n",
        "files.download(\"movies_bonus.json\")"
      ],
      "metadata": {
        "colab": {
          "base_uri": "https://localhost:8080/",
          "height": 17
        },
        "id": "k92E-QYUsqFT",
        "outputId": "f5a0be54-4bd5-461b-8cb1-72ee2005efa7"
      },
      "execution_count": 20,
      "outputs": [
        {
          "output_type": "display_data",
          "data": {
            "text/plain": [
              "<IPython.core.display.Javascript object>"
            ],
            "application/javascript": [
              "\n",
              "    async function download(id, filename, size) {\n",
              "      if (!google.colab.kernel.accessAllowed) {\n",
              "        return;\n",
              "      }\n",
              "      const div = document.createElement('div');\n",
              "      const label = document.createElement('label');\n",
              "      label.textContent = `Downloading \"${filename}\": `;\n",
              "      div.appendChild(label);\n",
              "      const progress = document.createElement('progress');\n",
              "      progress.max = size;\n",
              "      div.appendChild(progress);\n",
              "      document.body.appendChild(div);\n",
              "\n",
              "      const buffers = [];\n",
              "      let downloaded = 0;\n",
              "\n",
              "      const channel = await google.colab.kernel.comms.open(id);\n",
              "      // Send a message to notify the kernel that we're ready.\n",
              "      channel.send({})\n",
              "\n",
              "      for await (const message of channel.messages) {\n",
              "        // Send a message to notify the kernel that we're ready.\n",
              "        channel.send({})\n",
              "        if (message.buffers) {\n",
              "          for (const buffer of message.buffers) {\n",
              "            buffers.push(buffer);\n",
              "            downloaded += buffer.byteLength;\n",
              "            progress.value = downloaded;\n",
              "          }\n",
              "        }\n",
              "      }\n",
              "      const blob = new Blob(buffers, {type: 'application/binary'});\n",
              "      const a = document.createElement('a');\n",
              "      a.href = window.URL.createObjectURL(blob);\n",
              "      a.download = filename;\n",
              "      div.appendChild(a);\n",
              "      a.click();\n",
              "      div.remove();\n",
              "    }\n",
              "  "
            ]
          },
          "metadata": {}
        },
        {
          "output_type": "display_data",
          "data": {
            "text/plain": [
              "<IPython.core.display.Javascript object>"
            ],
            "application/javascript": [
              "download(\"download_75e259d3-613c-4d74-8ab4-93a6d4e7343a\", \"movies_bonus.json\", 346)"
            ]
          },
          "metadata": {}
        }
      ]
    },
    {
      "cell_type": "markdown",
      "source": [
        "###1. Read this JSON using PySpark."
      ],
      "metadata": {
        "id": "yrsCVfYDx1Ln"
      }
    },
    {
      "cell_type": "code",
      "source": [
        "# Load the original movies.csv\n",
        "df_movies = spark.read.csv(\"movies.csv\", header=True, inferSchema=True)\n",
        "df_movies.show()\n",
        "\n",
        "# Load the movies_bonus.json\n",
        "df_json = spark.read.json(\"movies_bonus.json\", multiLine=True)\n",
        "df_json.show()"
      ],
      "metadata": {
        "colab": {
          "base_uri": "https://localhost:8080/"
        },
        "id": "XP8mC6APsrrN",
        "outputId": "7f4a098b-2e7b-40c5-8680-8fc7eb5b101c"
      },
      "execution_count": 21,
      "outputs": [
        {
          "output_type": "stream",
          "name": "stdout",
          "text": [
            "+-------+-----------------+-------+-----------+------+----------+---------+\n",
            "|MovieID|            Title|  Genre|ReleaseDate|Rating|   Revenue|   Budget|\n",
            "+-------+-----------------+-------+-----------+------+----------+---------+\n",
            "|      1|        Inception| Sci-Fi| 2010-07-16|   8.8| 825532764|160000000|\n",
            "|      2|  The Dark Knight| Action| 2008-07-18|   9.0|1004558444|185000000|\n",
            "|      3|          Titanic|Romance| 1997-12-19|   7.8|2187463944|200000000|\n",
            "|      4|     Interstellar| Sci-Fi| 2014-11-07|   8.6| 677471339|165000000|\n",
            "|      5|            Joker|  Drama| 2019-10-04|   8.4|1074251311| 55000000|\n",
            "|      6|     The Notebook|Romance| 2004-06-25|   7.9|      NULL| 29000000|\n",
            "|      7|Avengers: Endgame| Action| 2019-04-26|   8.4|2797800564|356000000|\n",
            "+-------+-----------------+-------+-----------+------+----------+---------+\n",
            "\n",
            "+---------+-----+-------+------+----------+-----------+\n",
            "|   Budget|Genre|MovieID|Rating|   Revenue|      Title|\n",
            "+---------+-----+-------+------+----------+-----------+\n",
            "|145000000|Drama|      8|   7.5|1456000000|     Barbie|\n",
            "|100000000|Drama|      9|   8.6| 950000000|Oppenheimer|\n",
            "+---------+-----+-------+------+----------+-----------+\n",
            "\n"
          ]
        }
      ]
    },
    {
      "cell_type": "markdown",
      "source": [
        "###2. Union it with your original movies DataFrame."
      ],
      "metadata": {
        "id": "4CYCmw7ex4eV"
      }
    },
    {
      "cell_type": "code",
      "source": [
        "# View and match columns\n",
        "print(\"Original df_movies columns:\", df_movies.columns)\n",
        "print(\"Bonus df_bonus columns:\", df_json.columns)"
      ],
      "metadata": {
        "colab": {
          "base_uri": "https://localhost:8080/"
        },
        "id": "bMhAL0SSsroa",
        "outputId": "94ae8071-5e56-4a0d-d0d7-bfc841c805a1"
      },
      "execution_count": 22,
      "outputs": [
        {
          "output_type": "stream",
          "name": "stdout",
          "text": [
            "Original df_movies columns: ['MovieID', 'Title', 'Genre', 'ReleaseDate', 'Rating', 'Revenue', 'Budget']\n",
            "Bonus df_bonus columns: ['Budget', 'Genre', 'MovieID', 'Rating', 'Revenue', 'Title']\n"
          ]
        }
      ]
    },
    {
      "cell_type": "code",
      "source": [
        "# Import the required function\n",
        "from pyspark.sql.functions import lit\n",
        "\n",
        "# Add the missing ReleaseDate column and reorder\n",
        "df_bonus_fixed = df_json \\\n",
        "    .withColumn(\"ReleaseDate\", lit(None).cast(\"string\")) \\\n",
        "    .select(\"MovieID\", \"Title\", \"Genre\", \"ReleaseDate\", \"Rating\", \"Revenue\", \"Budget\")\n",
        "\n",
        "# Union the DataFrames\n",
        "df_combined = df_movies.union(df_bonus_fixed)\n",
        "df_combined.show(truncate=False)"
      ],
      "metadata": {
        "colab": {
          "base_uri": "https://localhost:8080/"
        },
        "id": "UIA9vh9UstkF",
        "outputId": "0c35beef-8d0a-42ff-ac36-d0855b629209"
      },
      "execution_count": 23,
      "outputs": [
        {
          "output_type": "stream",
          "name": "stdout",
          "text": [
            "+-------+-----------------+-------+-----------+------+----------+---------+\n",
            "|MovieID|Title            |Genre  |ReleaseDate|Rating|Revenue   |Budget   |\n",
            "+-------+-----------------+-------+-----------+------+----------+---------+\n",
            "|1      |Inception        |Sci-Fi |2010-07-16 |8.8   |825532764 |160000000|\n",
            "|2      |The Dark Knight  |Action |2008-07-18 |9.0   |1004558444|185000000|\n",
            "|3      |Titanic          |Romance|1997-12-19 |7.8   |2187463944|200000000|\n",
            "|4      |Interstellar     |Sci-Fi |2014-11-07 |8.6   |677471339 |165000000|\n",
            "|5      |Joker            |Drama  |2019-10-04 |8.4   |1074251311|55000000 |\n",
            "|6      |The Notebook     |Romance|2004-06-25 |7.9   |NULL      |29000000 |\n",
            "|7      |Avengers: Endgame|Action |2019-04-26 |8.4   |2797800564|356000000|\n",
            "|8      |Barbie           |Drama  |NULL       |7.5   |1456000000|145000000|\n",
            "|9      |Oppenheimer      |Drama  |NULL       |8.6   |950000000 |100000000|\n",
            "+-------+-----------------+-------+-----------+------+----------+---------+\n",
            "\n"
          ]
        }
      ]
    },
    {
      "cell_type": "markdown",
      "source": [
        "###3. Show top 5 highest grossing movies."
      ],
      "metadata": {
        "id": "RdNg_srNx8Wq"
      }
    },
    {
      "cell_type": "code",
      "source": [
        "df_combined.orderBy(df_combined.Revenue.desc()).show(5, truncate=False)"
      ],
      "metadata": {
        "colab": {
          "base_uri": "https://localhost:8080/"
        },
        "id": "ecTiSg0csthl",
        "outputId": "13cc74d5-901d-40bf-b842-503b2deef5ee"
      },
      "execution_count": 24,
      "outputs": [
        {
          "output_type": "stream",
          "name": "stdout",
          "text": [
            "+-------+-----------------+-------+-----------+------+----------+---------+\n",
            "|MovieID|Title            |Genre  |ReleaseDate|Rating|Revenue   |Budget   |\n",
            "+-------+-----------------+-------+-----------+------+----------+---------+\n",
            "|7      |Avengers: Endgame|Action |2019-04-26 |8.4   |2797800564|356000000|\n",
            "|3      |Titanic          |Romance|1997-12-19 |7.8   |2187463944|200000000|\n",
            "|8      |Barbie           |Drama  |NULL       |7.5   |1456000000|145000000|\n",
            "|5      |Joker            |Drama  |2019-10-04 |8.4   |1074251311|55000000 |\n",
            "|2      |The Dark Knight  |Action |2008-07-18 |9.0   |1004558444|185000000|\n",
            "+-------+-----------------+-------+-----------+------+----------+---------+\n",
            "only showing top 5 rows\n",
            "\n"
          ]
        }
      ]
    },
    {
      "cell_type": "markdown",
      "source": [
        "###4. Save final merged DataFrame as CSV."
      ],
      "metadata": {
        "id": "5tXdsheVx_Aa"
      }
    },
    {
      "cell_type": "code",
      "source": [
        "df_combined.write.mode(\"overwrite\").option(\"header\", True).csv(\"combined_movies.csv\")"
      ],
      "metadata": {
        "id": "LeARGghRstfH"
      },
      "execution_count": 25,
      "outputs": []
    },
    {
      "cell_type": "markdown",
      "source": [
        "##Bonus:"
      ],
      "metadata": {
        "id": "W71BSs-nyH_9"
      }
    },
    {
      "cell_type": "markdown",
      "source": [
        "###Create a column ReturnOnInvestment = Profit / Budget"
      ],
      "metadata": {
        "id": "18jRW0YeyJQC"
      }
    },
    {
      "cell_type": "code",
      "source": [
        "from pyspark.sql.functions import expr\n",
        "\n",
        "df_roi = df_combined.withColumn(\"ReturnOnInvestment\", expr(\"(Revenue - Budget)/Budget\"))\n",
        "df_roi.select(\"Title\", \"Budget\", \"Revenue\", \"ReturnOnInvestment\").show()"
      ],
      "metadata": {
        "colab": {
          "base_uri": "https://localhost:8080/"
        },
        "id": "ensRzj7Rsreo",
        "outputId": "f5379aa7-8d3e-4603-8472-de83825f34cc"
      },
      "execution_count": 36,
      "outputs": [
        {
          "output_type": "stream",
          "name": "stdout",
          "text": [
            "+-----------------+---------+----------+------------------+\n",
            "|            Title|   Budget|   Revenue|ReturnOnInvestment|\n",
            "+-----------------+---------+----------+------------------+\n",
            "|        Inception|160000000| 825532764|       4.159579775|\n",
            "|  The Dark Knight|185000000|1004558444| 4.430045643243243|\n",
            "|          Titanic|200000000|2187463944|        9.93731972|\n",
            "|     Interstellar|165000000| 677471339| 3.105886903030303|\n",
            "|            Joker| 55000000|1074251311| 18.53184201818182|\n",
            "|     The Notebook| 29000000|      NULL|              NULL|\n",
            "|Avengers: Endgame|356000000|2797800564| 6.858990348314607|\n",
            "|           Barbie|145000000|1456000000| 9.041379310344828|\n",
            "|      Oppenheimer|100000000| 950000000|               8.5|\n",
            "+-----------------+---------+----------+------------------+\n",
            "\n"
          ]
        }
      ]
    },
    {
      "cell_type": "markdown",
      "source": [
        "###Show top ROI movies (minimum budget 50M)"
      ],
      "metadata": {
        "id": "SoalMIiUyN0t"
      }
    },
    {
      "cell_type": "code",
      "source": [
        "df_roi.filter(df_roi.Budget >= 50000000).orderBy(df_roi.ReturnOnInvestment.desc()).show(5, truncate=False)"
      ],
      "metadata": {
        "colab": {
          "base_uri": "https://localhost:8080/"
        },
        "id": "CXeW21pNs1Sl",
        "outputId": "d08d07fd-e15f-4253-ff6a-8d11a47c6937"
      },
      "execution_count": 37,
      "outputs": [
        {
          "output_type": "stream",
          "name": "stdout",
          "text": [
            "+-------+-----------------+-------+-----------+------+----------+---------+------------------+\n",
            "|MovieID|Title            |Genre  |ReleaseDate|Rating|Revenue   |Budget   |ReturnOnInvestment|\n",
            "+-------+-----------------+-------+-----------+------+----------+---------+------------------+\n",
            "|5      |Joker            |Drama  |2019-10-04 |8.4   |1074251311|55000000 |18.53184201818182 |\n",
            "|3      |Titanic          |Romance|1997-12-19 |7.8   |2187463944|200000000|9.93731972        |\n",
            "|8      |Barbie           |Drama  |NULL       |7.5   |1456000000|145000000|9.041379310344828 |\n",
            "|9      |Oppenheimer      |Drama  |NULL       |8.6   |950000000 |100000000|8.5               |\n",
            "|7      |Avengers: Endgame|Action |2019-04-26 |8.4   |2797800564|356000000|6.858990348314607 |\n",
            "+-------+-----------------+-------+-----------+------+----------+---------+------------------+\n",
            "only showing top 5 rows\n",
            "\n"
          ]
        }
      ]
    },
    {
      "cell_type": "markdown",
      "source": [
        "###Plot genre-wise ROI as a bar chart using Pandas"
      ],
      "metadata": {
        "id": "_buzgPiFyO0K"
      }
    },
    {
      "cell_type": "code",
      "source": [
        "# Convert to Pandas\n",
        "df_pandas = df_roi.select(\"Genre\", \"ReturnOnInvestment\").toPandas()\n",
        "\n",
        "# Group by genre and calculate average ROI\n",
        "genre_roi = df_pandas.groupby(\"Genre\")[\"ReturnOnInvestment\"].mean().sort_values(ascending=False)\n",
        "\n",
        "# Plot\n",
        "import matplotlib.pyplot as plt\n",
        "\n",
        "plt.figure(figsize=(10,6))\n",
        "genre_roi.plot(kind='bar', color='skyblue')\n",
        "plt.title(\"Average ROI by Genre\")\n",
        "plt.xlabel(\"Genre\")\n",
        "plt.ylabel(\"Average ROI\")\n",
        "plt.grid(axis='y')\n",
        "plt.tight_layout()\n",
        "plt.show()"
      ],
      "metadata": {
        "colab": {
          "base_uri": "https://localhost:8080/",
          "height": 607
        },
        "id": "Vhuo5F4Ps1PC",
        "outputId": "d7626027-a0cf-43e2-b1e8-4b82cece22c5"
      },
      "execution_count": 38,
      "outputs": [
        {
          "output_type": "display_data",
          "data": {
            "text/plain": [
              "<Figure size 1000x600 with 1 Axes>"
            ],
            "image/png": "[encoded data removed]"
          },
          "metadata": {}
        }
      ]
    },
    {
      "cell_type": "markdown",
      "source": [
        "### Download the combined_movies file"
      ],
      "metadata": {
        "id": "8KIJNeCXyTcC"
      }
    },
    {
      "cell_type": "code",
      "source": [
        "df_combined.show(5)\n",
        "df_combined.count()\n"
      ],
      "metadata": {
        "colab": {
          "base_uri": "https://localhost:8080/"
        },
        "id": "RY1m9wgQukx1",
        "outputId": "7f242186-8c74-44fa-bd95-99e133d48c57"
      },
      "execution_count": 39,
      "outputs": [
        {
          "output_type": "stream",
          "name": "stdout",
          "text": [
            "+-------+---------------+-------+-----------+------+----------+---------+\n",
            "|MovieID|          Title|  Genre|ReleaseDate|Rating|   Revenue|   Budget|\n",
            "+-------+---------------+-------+-----------+------+----------+---------+\n",
            "|      1|      Inception| Sci-Fi| 2010-07-16|   8.8| 825532764|160000000|\n",
            "|      2|The Dark Knight| Action| 2008-07-18|   9.0|1004558444|185000000|\n",
            "|      3|        Titanic|Romance| 1997-12-19|   7.8|2187463944|200000000|\n",
            "|      4|   Interstellar| Sci-Fi| 2014-11-07|   8.6| 677471339|165000000|\n",
            "|      5|          Joker|  Drama| 2019-10-04|   8.4|1074251311| 55000000|\n",
            "+-------+---------------+-------+-----------+------+----------+---------+\n",
            "only showing top 5 rows\n",
            "\n"
          ]
        },
        {
          "output_type": "execute_result",
          "data": {
            "text/plain": [
              "9"
            ]
          },
          "metadata": {},
          "execution_count": 39
        }
      ]
    },
    {
      "cell_type": "code",
      "source": [
        "df_combined.coalesce(1).write.mode(\"overwrite\").option(\"header\", True).csv(\"combined_movies\")\n"
      ],
      "metadata": {
        "id": "w-IEVWeguoal"
      },
      "execution_count": 40,
      "outputs": []
    },
    {
      "cell_type": "code",
      "source": [
        "import os\n",
        "os.listdir(\"combined_movies\")\n"
      ],
      "metadata": {
        "colab": {
          "base_uri": "https://localhost:8080/"
        },
        "id": "DukoMGM0uqVO",
        "outputId": "4194d16f-d40c-40c1-beee-993e17d585d6"
      },
      "execution_count": 41,
      "outputs": [
        {
          "output_type": "execute_result",
          "data": {
            "text/plain": [
              "['._SUCCESS.crc',\n",
              " '.part-00000-03e127d9-8a7a-469e-8d9f-19b2114abd59-c000.csv.crc',\n",
              " '_SUCCESS',\n",
              " 'part-00000-03e127d9-8a7a-469e-8d9f-19b2114abd59-c000.csv']"
            ]
          },
          "metadata": {},
          "execution_count": 41
        }
      ]
    },
    {
      "cell_type": "code",
      "source": [
        "import shutil\n",
        "\n",
        "# Get the actual CSV file name inside the folder\n",
        "for file in os.listdir(\"combined_movies\"):\n",
        "    if file.endswith(\".csv\"):\n",
        "        shutil.move(f\"combined_movies/{file}\", \"combined_movies.csv\")\n",
        "        break\n"
      ],
      "metadata": {
        "id": "uecFuTKGuyye"
      },
      "execution_count": 42,
      "outputs": []
    },
    {
      "cell_type": "code",
      "source": [
        "from google.colab import files\n",
        "files.download(\"combined_movies.csv\")\n"
      ],
      "metadata": {
        "colab": {
          "base_uri": "https://localhost:8080/",
          "height": 17
        },
        "id": "q5kqHYuauzzR",
        "outputId": "03bcce4f-77e9-4f3f-eb9a-fb5666425e46"
      },
      "execution_count": 43,
      "outputs": [
        {
          "output_type": "display_data",
          "data": {
            "text/plain": [
              "<IPython.core.display.Javascript object>"
            ],
            "application/javascript": [
              "\n",
              "    async function download(id, filename, size) {\n",
              "      if (!google.colab.kernel.accessAllowed) {\n",
              "        return;\n",
              "      }\n",
              "      const div = document.createElement('div');\n",
              "      const label = document.createElement('label');\n",
              "      label.textContent = `Downloading \"${filename}\": `;\n",
              "      div.appendChild(label);\n",
              "      const progress = document.createElement('progress');\n",
              "      progress.max = size;\n",
              "      div.appendChild(progress);\n",
              "      document.body.appendChild(div);\n",
              "\n",
              "      const buffers = [];\n",
              "      let downloaded = 0;\n",
              "\n",
              "      const channel = await google.colab.kernel.comms.open(id);\n",
              "      // Send a message to notify the kernel that we're ready.\n",
              "      channel.send({})\n",
              "\n",
              "      for await (const message of channel.messages) {\n",
              "        // Send a message to notify the kernel that we're ready.\n",
              "        channel.send({})\n",
              "        if (message.buffers) {\n",
              "          for (const buffer of message.buffers) {\n",
              "            buffers.push(buffer);\n",
              "            downloaded += buffer.byteLength;\n",
              "            progress.value = downloaded;\n",
              "          }\n",
              "        }\n",
              "      }\n",
              "      const blob = new Blob(buffers, {type: 'application/binary'});\n",
              "      const a = document.createElement('a');\n",
              "      a.href = window.URL.createObjectURL(blob);\n",
              "      a.download = filename;\n",
              "      div.appendChild(a);\n",
              "      a.click();\n",
              "      div.remove();\n",
              "    }\n",
              "  "
            ]
          },
          "metadata": {}
        },
        {
          "output_type": "display_data",
          "data": {
            "text/plain": [
              "<IPython.core.display.Javascript object>"
            ],
            "application/javascript": [
              "download(\"download_637f5343-2ac7-492d-9eb2-b01d6d8b1a3f\", \"combined_movies.csv\", 526)"
            ]
          },
          "metadata": {}
        }
      ]
    }
  ]
}