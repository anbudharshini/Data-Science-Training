{
  "nbformat": 4,
  "nbformat_minor": 0,
  "metadata": {
    "colab": {
      "provenance": []
    },
    "kernelspec": {
      "name": "python3",
      "display_name": "Python 3"
    },
    "language_info": {
      "name": "python"
    }
  },
  "cells": [
    {
      "cell_type": "markdown",
      "source": [
        "# Python Data Structures – Intermediate Exercises\n",
        "Notebook"
      ],
      "metadata": {
        "id": "32avrqeaPMDn"
      }
    },
    {
      "cell_type": "markdown",
      "source": [
        "#Section 1: Nested Lists & Access\n"
      ],
      "metadata": {
        "id": "zLfjqjHgPVYx"
      }
    },
    {
      "cell_type": "code",
      "execution_count": 1,
      "metadata": {
        "colab": {
          "base_uri": "https://localhost:8080/"
        },
        "id": "QSBvKFPkPJkb",
        "outputId": "56aa911f-271b-4b94-a085-59a1a257be0e"
      },
      "outputs": [
        {
          "output_type": "stream",
          "name": "stdout",
          "text": [
            "Ravi's second mark: 72\n",
            "Ravi's average: 82.33\n",
            "Sneha's average: 91.67\n",
            "Kabir's average: 65.00\n",
            "Anita's average: 77.67\n",
            "Students with all marks > 80:\n",
            "Sneha\n",
            "List of [name, average]: [['Ravi', 82.33333333333333], ['Sneha', 91.66666666666667], ['Kabir', 65.0], ['Anita', 77.66666666666667]]\n"
          ]
        }
      ],
      "source": [
        "students = [\n",
        "    [\"Ravi\", [85, 72, 90]],\n",
        "    [\"Sneha\", [95, 88, 92]],\n",
        "    [\"Kabir\", [65, 70, 60]],\n",
        "    [\"Anita\", [75, 80, 78]]\n",
        "]\n",
        "\n",
        "# Task 1: Ravi’s second mark\n",
        "print(\"Ravi's second mark:\", students[0][1][1])\n",
        "\n",
        "# Task 2: Average mark for each student\n",
        "for student in students:\n",
        "    name, marks = student\n",
        "    avg = sum(marks) / len(marks)\n",
        "    print(f\"{name}'s average: {avg:.2f}\")\n",
        "\n",
        "# Task 3: Students with all marks > 80\n",
        "print(\"Students with all marks > 80:\")\n",
        "for student in students:\n",
        "    name, marks = student\n",
        "    if all(m > 80 for m in marks):\n",
        "        print(name)\n",
        "\n",
        "# Task 4: List of [name, average]\n",
        "averages = [[name, sum(marks)/len(marks)] for name, marks in students]\n",
        "print(\"List of [name, average]:\", averages)\n"
      ]
    },
    {
      "cell_type": "markdown",
      "source": [
        "# Section 2: Dictionary of Lists"
      ],
      "metadata": {
        "id": "BRXQlaQnP88Z"
      }
    },
    {
      "cell_type": "code",
      "source": [
        "data = {\n",
        "    \"products\": [\"Mobile\", \"Laptop\", \"Tablet\", \"Camera\"],\n",
        "    \"prices\": [12000, 55000, 18000, 25000],\n",
        "    \"ratings\": [4.5, 4.7, 4.0, 4.2]\n",
        "}\n",
        "\n",
        "# Task 1: Convert to list of dictionaries\n",
        "product_list = [\n",
        "    {\"name\": data[\"products\"][i], \"price\": data[\"prices\"][i], \"rating\": data[\"ratings\"][i]}\n",
        "    for i in range(len(data[\"products\"]))\n",
        "]\n",
        "print(\"Product List:\", product_list)\n",
        "\n",
        "# Task 2: Filter products with price > 20000 and rating >= 4.5\n",
        "filtered = [p for p in product_list if p[\"price\"] > 20000 and p[\"rating\"] >= 4.5]\n",
        "print(\"Filtered Products:\", filtered)\n",
        "\n",
        "# Task 3: Sort by rating descending\n",
        "sorted_products = sorted(product_list, key=lambda x: x[\"rating\"], reverse=True)\n",
        "print(\"Sorted by Rating:\", sorted_products)"
      ],
      "metadata": {
        "colab": {
          "base_uri": "https://localhost:8080/"
        },
        "id": "qrb2txDiP_3E",
        "outputId": "9ba1fcff-14b4-450b-8f38-7072f3c254bd"
      },
      "execution_count": 2,
      "outputs": [
        {
          "output_type": "stream",
          "name": "stdout",
          "text": [
            "Product List: [{'name': 'Mobile', 'price': 12000, 'rating': 4.5}, {'name': 'Laptop', 'price': 55000, 'rating': 4.7}, {'name': 'Tablet', 'price': 18000, 'rating': 4.0}, {'name': 'Camera', 'price': 25000, 'rating': 4.2}]\n",
            "Filtered Products: [{'name': 'Laptop', 'price': 55000, 'rating': 4.7}]\n",
            "Sorted by Rating: [{'name': 'Laptop', 'price': 55000, 'rating': 4.7}, {'name': 'Mobile', 'price': 12000, 'rating': 4.5}, {'name': 'Camera', 'price': 25000, 'rating': 4.2}, {'name': 'Tablet', 'price': 18000, 'rating': 4.0}]\n"
          ]
        }
      ]
    },
    {
      "cell_type": "markdown",
      "source": [
        "# Section 3: Frequency Dictionary + Set Operations"
      ],
      "metadata": {
        "id": "Cf7JXqyXQIxt"
      }
    },
    {
      "cell_type": "code",
      "source": [
        "text = \"ai is the future and ai will change everything in the ai world\"\n",
        "\n",
        "# Task 1: Word frequency\n",
        "words = text.split()\n",
        "freq = {}\n",
        "for word in words:\n",
        "    freq[word] = freq.get(word, 0) + 1\n",
        "print(\"Word Frequencies:\", freq)\n",
        "\n",
        "# Task 2: Words that appear more than once\n",
        "repeated = [word for word, count in freq.items() if count > 1]\n",
        "print(\"Repeated Words:\", repeated)\n",
        "\n",
        "# Task 3: Unique sorted words\n",
        "unique_sorted = sorted(set(words))\n",
        "print(\"Unique Sorted Words:\", unique_sorted)\n",
        "\n",
        "# Task 4: Common words between two sets\n",
        "set1 = set(words)\n",
        "set2 = {\"ai\", \"ml\", \"data\", \"future\"}\n",
        "common = set1 & set2\n",
        "print(\"Common Words:\", common)"
      ],
      "metadata": {
        "colab": {
          "base_uri": "https://localhost:8080/"
        },
        "id": "xO4cr-MgQJ3S",
        "outputId": "18ccba0f-e1cc-4fde-f11d-ad5604311fa5"
      },
      "execution_count": 3,
      "outputs": [
        {
          "output_type": "stream",
          "name": "stdout",
          "text": [
            "Word Frequencies: {'ai': 3, 'is': 1, 'the': 2, 'future': 1, 'and': 1, 'will': 1, 'change': 1, 'everything': 1, 'in': 1, 'world': 1}\n",
            "Repeated Words: ['ai', 'the']\n",
            "Unique Sorted Words: ['ai', 'and', 'change', 'everything', 'future', 'in', 'is', 'the', 'will', 'world']\n",
            "Common Words: {'ai', 'future'}\n"
          ]
        }
      ]
    },
    {
      "cell_type": "markdown",
      "source": [
        "# Section 4: Dictionary Comprehension + Conditional Logic"
      ],
      "metadata": {
        "id": "NR5N_xG6QPhS"
      }
    },
    {
      "cell_type": "code",
      "source": [
        "sales = {\n",
        "    'Amit': 70000,\n",
        "    'Sneha': 45000,\n",
        "    'Ravi': 30000,\n",
        "    'Anita': 90000,\n",
        "    'Kabir': 20000\n",
        "}\n",
        "\n",
        "# Task 1: Add 10% bonus\n",
        "with_bonus = {k: v * 1.1 for k, v in sales.items()}\n",
        "print(\"With Bonus:\", with_bonus)\n",
        "\n",
        "# Task 2: Filter > 50000\n",
        "high_sales = {k: v for k, v in sales.items() if v > 50000}\n",
        "print(\"Sales > 50,000:\", high_sales)\n",
        "\n",
        "# Task 3: Labeling\n",
        "def label(sale):\n",
        "    if sale >= 75000:\n",
        "        return 'High'\n",
        "    elif sale >= 40000:\n",
        "        return 'Medium'\n",
        "    else:\n",
        "        return 'Low'\n",
        "\n",
        "labels = {k: label(v) for k, v in sales.items()}\n",
        "print(\"Labels:\", labels)"
      ],
      "metadata": {
        "colab": {
          "base_uri": "https://localhost:8080/"
        },
        "id": "ROGAZIFLQSv1",
        "outputId": "49e920af-6011-4524-ef0b-a61998c98005"
      },
      "execution_count": 4,
      "outputs": [
        {
          "output_type": "stream",
          "name": "stdout",
          "text": [
            "With Bonus: {'Amit': 77000.0, 'Sneha': 49500.00000000001, 'Ravi': 33000.0, 'Anita': 99000.00000000001, 'Kabir': 22000.0}\n",
            "Sales > 50,000: {'Amit': 70000, 'Anita': 90000}\n",
            "Labels: {'Amit': 'Medium', 'Sneha': 'Medium', 'Ravi': 'Low', 'Anita': 'High', 'Kabir': 'Low'}\n"
          ]
        }
      ]
    },
    {
      "cell_type": "markdown",
      "source": [
        "# Section 5: Tuples, Sets, and Zipping"
      ],
      "metadata": {
        "id": "7792VUgwQW-G"
      }
    },
    {
      "cell_type": "code",
      "source": [
        "names = (\"Ravi\", \"Sneha\", \"Kabir\")\n",
        "marks = (88, 92, 76)\n",
        "\n",
        "# Task 1: Zip to dictionary\n",
        "student_dict = dict(zip(names, marks))\n",
        "print(\"Student Dictionary:\", student_dict)\n",
        "\n",
        "# Task 2: Min and Max marks\n",
        "print(\"Min Mark:\", min(marks))\n",
        "print(\"Max Mark:\", max(marks))\n",
        "\n",
        "# Task 3: Set from marks and add value\n",
        "mark_set = set(marks)\n",
        "mark_set.add(85)\n",
        "print(\"Updated Mark Set:\", mark_set)\n",
        "\n",
        "# Task 4: Merge two sets\n",
        "set1 = {76, 92, 88}\n",
        "set2 = {85, 90, 76}\n",
        "merged = set1 | set2\n",
        "print(\"Merged Unique Marks:\", merged)"
      ],
      "metadata": {
        "colab": {
          "base_uri": "https://localhost:8080/"
        },
        "id": "EPYdFRyFQZ6i",
        "outputId": "e6147c40-754e-4c77-ae2b-f25ba9306f5f"
      },
      "execution_count": 5,
      "outputs": [
        {
          "output_type": "stream",
          "name": "stdout",
          "text": [
            "Student Dictionary: {'Ravi': 88, 'Sneha': 92, 'Kabir': 76}\n",
            "Min Mark: 76\n",
            "Max Mark: 92\n",
            "Updated Mark Set: {88, 92, 85, 76}\n",
            "Merged Unique Marks: {85, 88, 90, 76, 92}\n"
          ]
        }
      ]
    },
    {
      "cell_type": "markdown",
      "source": [
        "# Bonus Challenge"
      ],
      "metadata": {
        "id": "op2UxEmKQeQo"
      }
    },
    {
      "cell_type": "code",
      "source": [
        "employees = {\n",
        "    \"E101\": {\"name\": \"Ravi\", \"dept\": \"Sales\", \"salary\": 50000},\n",
        "    \"E102\": {\"name\": \"Sneha\", \"dept\": \"Engineering\", \"salary\": 80000},\n",
        "    \"E103\": {\"name\": \"Kabir\", \"dept\": \"HR\", \"salary\": 45000}\n",
        "}\n",
        "\n",
        "# Task 1: Add E104\n",
        "employees[\"E104\"] = {\"name\": \"Anita\", \"dept\": \"Engineering\", \"salary\": 90000}\n",
        "\n",
        "# Task 2: Increase salary by 10% for Engineering dept\n",
        "for emp in employees.values():\n",
        "    if emp[\"dept\"] == \"Engineering\":\n",
        "        emp[\"salary\"] *= 1.10\n",
        "\n",
        "# Task 3: Dept with highest avg salary\n",
        "from collections import defaultdict\n",
        "\n",
        "dept_salary = defaultdict(list)\n",
        "for emp in employees.values():\n",
        "    dept_salary[emp[\"dept\"]].append(emp[\"salary\"])\n",
        "\n",
        "dept_avg = {dept: sum(salaries)/len(salaries) for dept, salaries in dept_salary.items()}\n",
        "highest_avg_dept = max(dept_avg, key=dept_avg.get)\n",
        "print(\"Department with highest average salary:\", highest_avg_dept)"
      ],
      "metadata": {
        "colab": {
          "base_uri": "https://localhost:8080/"
        },
        "id": "K4L2mHGXQhHB",
        "outputId": "fe58d8d7-0c06-4f00-e9b2-66ff4aaab18a"
      },
      "execution_count": 6,
      "outputs": [
        {
          "output_type": "stream",
          "name": "stdout",
          "text": [
            "Department with highest average salary: Engineering\n"
          ]
        }
      ]
    }
  ]
}