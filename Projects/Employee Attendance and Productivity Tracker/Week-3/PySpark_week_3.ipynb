{
  "nbformat": 4,
  "nbformat_minor": 0,
  "metadata": {
    "colab": {
      "provenance": []
    },
    "kernelspec": {
      "name": "python3",
      "display_name": "Python 3"
    },
    "language_info": {
      "name": "python"
    }
  },
  "cells": [
    {
      "cell_type": "markdown",
      "source": [
        "# PySpark for Attendance Analysis"
      ],
      "metadata": {
        "id": "CQ185mgF2W0j"
      }
    },
    {
      "cell_type": "code",
      "execution_count": 1,
      "metadata": {
        "id": "3_C-40pT2Psv"
      },
      "outputs": [],
      "source": [
        "from pyspark.sql import SparkSession\n",
        "from pyspark.sql import functions as F"
      ]
    },
    {
      "cell_type": "markdown",
      "source": [
        "#Starting the Spark session"
      ],
      "metadata": {
        "id": "E2VlLvmS2seZ"
      }
    },
    {
      "cell_type": "code",
      "source": [
        "spark = SparkSession.builder.appName(\"week-3\").getOrCreate()\n",
        "spark"
      ],
      "metadata": {
        "colab": {
          "base_uri": "https://localhost:8080/",
          "height": 222
        },
        "id": "FDTitrqf2542",
        "outputId": "e3ab012b-999c-4229-9df9-0912b5cb5612"
      },
      "execution_count": 2,
      "outputs": [
        {
          "output_type": "execute_result",
          "data": {
            "text/plain": [
              "<pyspark.sql.session.SparkSession at 0x7b1319a29e10>"
            ],
            "text/html": [
              "\n",
              "            <div>\n",
              "                <p><b>SparkSession - in-memory</b></p>\n",
              "                \n",
              "        <div>\n",
              "            <p><b>SparkContext</b></p>\n",
              "\n",
              "            <p><a href=\"http://5bddb0413cf5:4040\">Spark UI</a></p>\n",
              "\n",
              "            <dl>\n",
              "              <dt>Version</dt>\n",
              "                <dd><code>v3.5.1</code></dd>\n",
              "              <dt>Master</dt>\n",
              "                <dd><code>local[*]</code></dd>\n",
              "              <dt>AppName</dt>\n",
              "                <dd><code>week-3</code></dd>\n",
              "            </dl>\n",
              "        </div>\n",
              "        \n",
              "            </div>\n",
              "        "
            ]
          },
          "metadata": {},
          "execution_count": 2
        }
      ]
    },
    {
      "cell_type": "markdown",
      "source": [
        "# Loading large datasets"
      ],
      "metadata": {
        "id": "Fd6gM7DN2-Xq"
      }
    },
    {
      "cell_type": "code",
      "source": [
        "from google.colab import files\n",
        "uploaded = files.upload()"
      ],
      "metadata": {
        "colab": {
          "base_uri": "https://localhost:8080/",
          "height": 145
        },
        "id": "VNOmy2Xy3OKe",
        "outputId": "ca609720-c461-4b56-d127-07e1f25d5886"
      },
      "execution_count": 5,
      "outputs": [
        {
          "output_type": "display_data",
          "data": {
            "text/plain": [
              "<IPython.core.display.HTML object>"
            ],
            "text/html": [
              "\n",
              "     <input type=\"file\" id=\"files-0d6a8306-fa89-42c4-8b11-a3fbcfeec224\" name=\"files[]\" multiple disabled\n",
              "        style=\"border:none\" />\n",
              "     <output id=\"result-0d6a8306-fa89-42c4-8b11-a3fbcfeec224\">\n",
              "      Upload widget is only available when the cell has been executed in the\n",
              "      current browser session. Please rerun this cell to enable.\n",
              "      </output>\n",
              "      <script>// Copyright 2017 Google LLC\n",
              "//\n",
              "// Licensed under the Apache License, Version 2.0 (the \"License\");\n",
              "// you may not use this file except in compliance with the License.\n",
              "// You may obtain a copy of the License at\n",
              "//\n",
              "//      http://www.apache.org/licenses/LICENSE-2.0\n",
              "//\n",
              "// Unless required by applicable law or agreed to in writing, software\n",
              "// distributed under the License is distributed on an \"AS IS\" BASIS,\n",
              "// WITHOUT WARRANTIES OR CONDITIONS OF ANY KIND, either express or implied.\n",
              "// See the License for the specific language governing permissions and\n",
              "// limitations under the License.\n",
              "\n",
              "/**\n",
              " * @fileoverview Helpers for google.colab Python module.\n",
              " */\n",
              "(function(scope) {\n",
              "function span(text, styleAttributes = {}) {\n",
              "  const element = document.createElement('span');\n",
              "  element.textContent = text;\n",
              "  for (const key of Object.keys(styleAttributes)) {\n",
              "    element.style[key] = styleAttributes[key];\n",
              "  }\n",
              "  return element;\n",
              "}\n",
              "\n",
              "// Max number of bytes which will be uploaded at a time.\n",
              "const MAX_PAYLOAD_SIZE = 100 * 1024;\n",
              "\n",
              "function _uploadFiles(inputId, outputId) {\n",
              "  const steps = uploadFilesStep(inputId, outputId);\n",
              "  const outputElement = document.getElementById(outputId);\n",
              "  // Cache steps on the outputElement to make it available for the next call\n",
              "  // to uploadFilesContinue from Python.\n",
              "  outputElement.steps = steps;\n",
              "\n",
              "  return _uploadFilesContinue(outputId);\n",
              "}\n",
              "\n",
              "// This is roughly an async generator (not supported in the browser yet),\n",
              "// where there are multiple asynchronous steps and the Python side is going\n",
              "// to poll for completion of each step.\n",
              "// This uses a Promise to block the python side on completion of each step,\n",
              "// then passes the result of the previous step as the input to the next step.\n",
              "function _uploadFilesContinue(outputId) {\n",
              "  const outputElement = document.getElementById(outputId);\n",
              "  const steps = outputElement.steps;\n",
              "\n",
              "  const next = steps.next(outputElement.lastPromiseValue);\n",
              "  return Promise.resolve(next.value.promise).then((value) => {\n",
              "    // Cache the last promise value to make it available to the next\n",
              "    // step of the generator.\n",
              "    outputElement.lastPromiseValue = value;\n",
              "    return next.value.response;\n",
              "  });\n",
              "}\n",
              "\n",
              "/**\n",
              " * Generator function which is called between each async step of the upload\n",
              " * process.\n",
              " * @param {string} inputId Element ID of the input file picker element.\n",
              " * @param {string} outputId Element ID of the output display.\n",
              " * @return {!Iterable<!Object>} Iterable of next steps.\n",
              " */\n",
              "function* uploadFilesStep(inputId, outputId) {\n",
              "  const inputElement = document.getElementById(inputId);\n",
              "  inputElement.disabled = false;\n",
              "\n",
              "  const outputElement = document.getElementById(outputId);\n",
              "  outputElement.innerHTML = '';\n",
              "\n",
              "  const pickedPromise = new Promise((resolve) => {\n",
              "    inputElement.addEventListener('change', (e) => {\n",
              "      resolve(e.target.files);\n",
              "    });\n",
              "  });\n",
              "\n",
              "  const cancel = document.createElement('button');\n",
              "  inputElement.parentElement.appendChild(cancel);\n",
              "  cancel.textContent = 'Cancel upload';\n",
              "  const cancelPromise = new Promise((resolve) => {\n",
              "    cancel.onclick = () => {\n",
              "      resolve(null);\n",
              "    };\n",
              "  });\n",
              "\n",
              "  // Wait for the user to pick the files.\n",
              "  const files = yield {\n",
              "    promise: Promise.race([pickedPromise, cancelPromise]),\n",
              "    response: {\n",
              "      action: 'starting',\n",
              "    }\n",
              "  };\n",
              "\n",
              "  cancel.remove();\n",
              "\n",
              "  // Disable the input element since further picks are not allowed.\n",
              "  inputElement.disabled = true;\n",
              "\n",
              "  if (!files) {\n",
              "    return {\n",
              "      response: {\n",
              "        action: 'complete',\n",
              "      }\n",
              "    };\n",
              "  }\n",
              "\n",
              "  for (const file of files) {\n",
              "    const li = document.createElement('li');\n",
              "    li.append(span(file.name, {fontWeight: 'bold'}));\n",
              "    li.append(span(\n",
              "        `(${file.type || 'n/a'}) - ${file.size} bytes, ` +\n",
              "        `last modified: ${\n",
              "            file.lastModifiedDate ? file.lastModifiedDate.toLocaleDateString() :\n",
              "                                    'n/a'} - `));\n",
              "    const percent = span('0% done');\n",
              "    li.appendChild(percent);\n",
              "\n",
              "    outputElement.appendChild(li);\n",
              "\n",
              "    const fileDataPromise = new Promise((resolve) => {\n",
              "      const reader = new FileReader();\n",
              "      reader.onload = (e) => {\n",
              "        resolve(e.target.result);\n",
              "      };\n",
              "      reader.readAsArrayBuffer(file);\n",
              "    });\n",
              "    // Wait for the data to be ready.\n",
              "    let fileData = yield {\n",
              "      promise: fileDataPromise,\n",
              "      response: {\n",
              "        action: 'continue',\n",
              "      }\n",
              "    };\n",
              "\n",
              "    // Use a chunked sending to avoid message size limits. See b/62115660.\n",
              "    let position = 0;\n",
              "    do {\n",
              "      const length = Math.min(fileData.byteLength - position, MAX_PAYLOAD_SIZE);\n",
              "      const chunk = new Uint8Array(fileData, position, length);\n",
              "      position += length;\n",
              "\n",
              "      const base64 = btoa(String.fromCharCode.apply(null, chunk));\n",
              "      yield {\n",
              "        response: {\n",
              "          action: 'append',\n",
              "          file: file.name,\n",
              "          data: base64,\n",
              "        },\n",
              "      };\n",
              "\n",
              "      let percentDone = fileData.byteLength === 0 ?\n",
              "          100 :\n",
              "          Math.round((position / fileData.byteLength) * 100);\n",
              "      percent.textContent = `${percentDone}% done`;\n",
              "\n",
              "    } while (position < fileData.byteLength);\n",
              "  }\n",
              "\n",
              "  // All done.\n",
              "  yield {\n",
              "    response: {\n",
              "      action: 'complete',\n",
              "    }\n",
              "  };\n",
              "}\n",
              "\n",
              "scope.google = scope.google || {};\n",
              "scope.google.colab = scope.google.colab || {};\n",
              "scope.google.colab._files = {\n",
              "  _uploadFiles,\n",
              "  _uploadFilesContinue,\n",
              "};\n",
              "})(self);\n",
              "</script> "
            ]
          },
          "metadata": {}
        },
        {
          "output_type": "stream",
          "name": "stdout",
          "text": [
            "Saving attendance.csv to attendance.csv\n",
            "Saving employees.csv to employees.csv\n",
            "Saving tasks.csv to tasks.csv\n"
          ]
        }
      ]
    },
    {
      "cell_type": "code",
      "source": [
        "dfAtt = spark.read.csv(\"attendance.csv\", header=True, inferSchema=True)\n",
        "dfEmp = spark.read.csv(\"employees.csv\", header=True, inferSchema=True)\n",
        "dfTas = spark.read.csv(\"tasks.csv\", header=True, inferSchema=True)"
      ],
      "metadata": {
        "id": "Zj9o5tIF6XDi"
      },
      "execution_count": 8,
      "outputs": []
    },
    {
      "cell_type": "markdown",
      "source": [
        "# Check Dataframes By Printing"
      ],
      "metadata": {
        "id": "9GZs1sll68cJ"
      }
    },
    {
      "cell_type": "code",
      "source": [
        "dfAtt.show()"
      ],
      "metadata": {
        "colab": {
          "base_uri": "https://localhost:8080/"
        },
        "id": "GAqNWIOd6iPF",
        "outputId": "139b4811-9530-4417-ba6f-fd8576d47246"
      },
      "execution_count": 7,
      "outputs": [
        {
          "output_type": "stream",
          "name": "stdout",
          "text": [
            "+------+----------+--------------------+----------+---------------+\n",
            "|taskID|employeeID|            taskName|  taskDate|tasksCompeleted|\n",
            "+------+----------+--------------------+----------+---------------+\n",
            "|     1|         1|         Code Review|2024-07-01|              4|\n",
            "|     2|         2|   Blog Post Writing|2024-07-01|              5|\n",
            "|     3|         3|     Employee Survey|2024-07-01|              2|\n",
            "|     4|         4|Server Configuration|2024-07-01|              3|\n",
            "|     5|         5| Invoice Preparation|2024-07-01|              6|\n",
            "|     6|         1|     Feature Testing|2024-07-02|              3|\n",
            "|     7|         2|    SEO Optimization|2024-07-02|              4|\n",
            "|     8|         3|Recruitment Scree...|2024-07-02|              1|\n",
            "|     9|         4| Load Balancer Setup|2024-07-02|              5|\n",
            "|    10|         5|Travel Reimbursem...|2024-07-02|              2|\n",
            "|    11|         1|  Unit Test Coverage|2024-07-03|              4|\n",
            "|    12|         2|Campaign Strategy...|2024-07-03|              3|\n",
            "|    13|         3| Benefits Evaluation|2024-07-03|              0|\n",
            "|    14|         4|Log Monitoring Setup|2024-07-03|              5|\n",
            "|    15|         5| Tax Document Review|2024-07-03|              1|\n",
            "|    16|         1|          UI Mockups|2024-07-04|              5|\n",
            "|    17|         2| Press Release Draft|2024-07-04|              3|\n",
            "|    18|         3|Conflict Resoluti...|2024-07-04|              1|\n",
            "|    19|         4|Firewall Rules Up...|2024-07-04|              4|\n",
            "|    20|         5|       Cost Analysis|2024-07-04|              3|\n",
            "+------+----------+--------------------+----------+---------------+\n",
            "only showing top 20 rows\n",
            "\n"
          ]
        }
      ]
    },
    {
      "cell_type": "code",
      "source": [
        "dfEmp.show()"
      ],
      "metadata": {
        "colab": {
          "base_uri": "https://localhost:8080/"
        },
        "id": "XsA9SQ-b7LsA",
        "outputId": "30ec1fda-e40e-4480-c7fb-0a96cc4224d1"
      },
      "execution_count": 9,
      "outputs": [
        {
          "output_type": "stream",
          "name": "stdout",
          "text": [
            "+----------+----------+-----------+-----------------+--------------------+-------------------+--------+\n",
            "|employeeid|      name| department|             role|               email|           hiredate|  status|\n",
            "+----------+----------+-----------+-----------------+--------------------+-------------------+--------+\n",
            "|         1|arun kumar|engineering|software engineer|arun.kumar@exampl...|2023-02-10 00:00:00|  Active|\n",
            "|         2|deepa rani|  marketing|   content writer|deepa.rani@exampl...|2022-12-05 00:00:00|  Active|\n",
            "|         3| vijay raj|         hr|     hr executive|vijay.raj@example...|2021-10-15 00:00:00|  Active|\n",
            "|         4| karthik s|engineering|  devops engineer|karthik.s@example...|2023-04-20 00:00:00|  Active|\n",
            "|         5|   meena p|    finance|       accountant| meena.p@example.com|2022-07-25 00:00:00|Resigned|\n",
            "+----------+----------+-----------+-----------------+--------------------+-------------------+--------+\n",
            "\n"
          ]
        }
      ]
    },
    {
      "cell_type": "code",
      "source": [
        "dfTas.show()"
      ],
      "metadata": {
        "colab": {
          "base_uri": "https://localhost:8080/"
        },
        "id": "c_QfQGb67ORM",
        "outputId": "291b84f4-5e6b-41a4-c4ec-77e98a65eaea"
      },
      "execution_count": 10,
      "outputs": [
        {
          "output_type": "stream",
          "name": "stdout",
          "text": [
            "+------+----------+--------------------+----------+---------------+\n",
            "|taskID|employeeID|            taskName|  taskDate|tasksCompeleted|\n",
            "+------+----------+--------------------+----------+---------------+\n",
            "|     1|         1|         Code Review|2024-07-01|              4|\n",
            "|     2|         2|   Blog Post Writing|2024-07-01|              5|\n",
            "|     3|         3|     Employee Survey|2024-07-01|              2|\n",
            "|     4|         4|Server Configuration|2024-07-01|              3|\n",
            "|     5|         5| Invoice Preparation|2024-07-01|              6|\n",
            "|     6|         1|     Feature Testing|2024-07-02|              3|\n",
            "|     7|         2|    SEO Optimization|2024-07-02|              4|\n",
            "|     8|         3|Recruitment Scree...|2024-07-02|              1|\n",
            "|     9|         4| Load Balancer Setup|2024-07-02|              5|\n",
            "|    10|         5|Travel Reimbursem...|2024-07-02|              2|\n",
            "|    11|         1|  Unit Test Coverage|2024-07-03|              4|\n",
            "|    12|         2|Campaign Strategy...|2024-07-03|              3|\n",
            "|    13|         3| Benefits Evaluation|2024-07-03|              0|\n",
            "|    14|         4|Log Monitoring Setup|2024-07-03|              5|\n",
            "|    15|         5| Tax Document Review|2024-07-03|              1|\n",
            "|    16|         1|          UI Mockups|2024-07-04|              5|\n",
            "|    17|         2| Press Release Draft|2024-07-04|              3|\n",
            "|    18|         3|Conflict Resoluti...|2024-07-04|              1|\n",
            "|    19|         4|Firewall Rules Up...|2024-07-04|              4|\n",
            "|    20|         5|       Cost Analysis|2024-07-04|              3|\n",
            "+------+----------+--------------------+----------+---------------+\n",
            "only showing top 20 rows\n",
            "\n"
          ]
        }
      ]
    },
    {
      "cell_type": "markdown",
      "source": [
        "# Filtering late login and abscences"
      ],
      "metadata": {
        "id": "r0qt7g3k7Q6g"
      }
    },
    {
      "cell_type": "code",
      "source": [
        "dfAtt.filter((dfAtt.isLate == 1) | (dfAtt.isAbscent == 1)) \\\n",
        "  .join(dfEmp.select([\"name\", \"employeeID\"]), on=\"employeeID\", how=\"inner\") \\\n",
        "  .withColumn(\"Attendance\", F.when(F.col(\"islate\") == 1, \"Late Login\").otherwise(\"Abscent\")) \\\n",
        "  .select([\"name\", \"Attendance\", \"date\"]) \\\n",
        "  .show()"
      ],
      "metadata": {
        "colab": {
          "base_uri": "https://localhost:8080/"
        },
        "id": "4-nIpeeq7ZT5",
        "outputId": "afbcd065-f222-49d1-f25a-953566466460"
      },
      "execution_count": 11,
      "outputs": [
        {
          "output_type": "stream",
          "name": "stdout",
          "text": [
            "+----------+----------+----------+\n",
            "|      name|Attendance|      date|\n",
            "+----------+----------+----------+\n",
            "|arun kumar|   Abscent|07-06-2024|\n",
            "| vijay raj|Late Login|07-06-2024|\n",
            "|   meena p|Late Login|07-06-2024|\n",
            "|deepa rani|   Abscent|07-06-2024|\n",
            "| karthik s|Late Login|07-06-2024|\n",
            "|arun kumar|Late Login|07-06-2024|\n",
            "| vijay raj|   Abscent|07-06-2024|\n",
            "|   meena p|Late Login|07-06-2024|\n",
            "|deepa rani|Late Login|07-06-2024|\n",
            "| karthik s|   Abscent|07-06-2024|\n",
            "|arun kumar|Late Login|07-06-2024|\n",
            "| vijay raj|Late Login|07-06-2024|\n",
            "|   meena p|   Abscent|07-06-2024|\n",
            "|deepa rani|Late Login|07-06-2024|\n",
            "| karthik s|Late Login|07-06-2024|\n",
            "+----------+----------+----------+\n",
            "\n"
          ]
        }
      ]
    },
    {
      "cell_type": "markdown",
      "source": [
        "# Group by department to get average work hours and productivity"
      ],
      "metadata": {
        "id": "OZPxCsB_7ecU"
      }
    },
    {
      "cell_type": "code",
      "source": [
        "dfAtt_cleaned = dfAtt.filter(F.col(\"clockIN\") != \"NULL\")"
      ],
      "metadata": {
        "id": "FZkVfGdg7jrd"
      },
      "execution_count": 12,
      "outputs": []
    },
    {
      "cell_type": "code",
      "source": [
        "dfJoined = dfAtt_cleaned.join(dfEmp, on=\"employeeID\", how=\"inner\").join(dfTas, on=\"employeeID\", how=\"inner\")\n",
        "dfJoined = dfJoined \\\n",
        "    .withColumn(\n",
        "     \"workHours\",\n",
        "    F.round(\n",
        "        (F.unix_timestamp(F.col(\"clockOUT\"), \"dd-MM-yyyy HH:mm\") - F.unix_timestamp(F.col(\"clockIN\"), \"dd-MM-yyyy HH:mm\")) / 3600,\n",
        "        2\n",
        "    )) \\\n",
        "    .withColumn(\"productivityScore\", F.round(F.col(\"tasksCompeleted\") / F.col(\"workHours\"), 4))"
      ],
      "metadata": {
        "id": "KIjgu9-g7nL3"
      },
      "execution_count": 13,
      "outputs": []
    },
    {
      "cell_type": "code",
      "source": [
        "dfJoined.groupBy(\"department\").agg(\n",
        "    F.round(F.mean(\"workHours\"), 2).alias(\"averageWorkHours\"),\n",
        "    F.round(F.mean(\"productivityScore\"), 2).alias(\"averageProductivityScore\")\n",
        ").show()"
      ],
      "metadata": {
        "colab": {
          "base_uri": "https://localhost:8080/"
        },
        "id": "URnwylFK7ql6",
        "outputId": "4d97953f-c09a-420f-897f-f4e6b6f0795e"
      },
      "execution_count": 14,
      "outputs": [
        {
          "output_type": "stream",
          "name": "stdout",
          "text": [
            "+-----------+----------------+------------------------+\n",
            "| department|averageWorkHours|averageProductivityScore|\n",
            "+-----------+----------------+------------------------+\n",
            "|    finance|            8.25|                    0.32|\n",
            "|  marketing|            8.21|                    0.45|\n",
            "|         hr|            8.33|                    0.14|\n",
            "|engineering|            8.23|                     0.5|\n",
            "+-----------+----------------+------------------------+\n",
            "\n"
          ]
        }
      ]
    },
    {
      "cell_type": "markdown",
      "source": [
        "# Deliverables\n",
        "## 1. Pyspark script with filtering, groupby aggregations"
      ],
      "metadata": {
        "id": "mpJ7zShU7uZk"
      }
    },
    {
      "cell_type": "markdown",
      "source": [
        "## Filtering"
      ],
      "metadata": {
        "id": "DSvz-OBxE4N5"
      }
    },
    {
      "cell_type": "markdown",
      "source": [
        "### Store the result in a DataFrame"
      ],
      "metadata": {
        "id": "mtkLtf7vCgXj"
      }
    },
    {
      "cell_type": "code",
      "source": [
        "from pyspark.sql import functions as F\n",
        "\n",
        "dfSummary = dfJoined.groupBy(\"department\").agg(\n",
        "    F.round(F.mean(\"workHours\"), 2).alias(\"averageWorkHours\"),\n",
        "    F.round(F.mean(\"productivityScore\"), 2).alias(\"averageProductivityScore\")\n",
        ")"
      ],
      "metadata": {
        "id": "GTp2_tDeCiJG"
      },
      "execution_count": 23,
      "outputs": []
    },
    {
      "cell_type": "markdown",
      "source": [
        "### Save as CSV"
      ],
      "metadata": {
        "id": "Xgj7af8FCleg"
      }
    },
    {
      "cell_type": "code",
      "source": [
        "dfSummary.coalesce(1).write.option(\"header\", True).mode(\"overwrite\").csv(\"/content/department_summary\")"
      ],
      "metadata": {
        "id": "4ts1XHXVCo23"
      },
      "execution_count": 24,
      "outputs": []
    },
    {
      "cell_type": "markdown",
      "source": [
        "### Find the generated CSV file"
      ],
      "metadata": {
        "id": "WW4KGyECCsMK"
      }
    },
    {
      "cell_type": "code",
      "source": [
        "import os\n",
        "for file in os.listdir(\"/content/department_summary\"):\n",
        "    if file.endswith(\".csv\"):\n",
        "        print(\"CSV File:\", file)"
      ],
      "metadata": {
        "colab": {
          "base_uri": "https://localhost:8080/"
        },
        "id": "H3XIQo8hCyUq",
        "outputId": "6d33d876-0ca7-493a-9ae1-bca49a3dbb42"
      },
      "execution_count": 25,
      "outputs": [
        {
          "output_type": "stream",
          "name": "stdout",
          "text": [
            "CSV File: part-00000-a61142e9-5c18-4f07-a8ab-bc17976116d8-c000.csv\n"
          ]
        }
      ]
    },
    {
      "cell_type": "markdown",
      "source": [
        "### Rename and move the file for download"
      ],
      "metadata": {
        "id": "j3o7MmNTC1CP"
      }
    },
    {
      "cell_type": "code",
      "source": [
        "import shutil\n",
        "\n",
        "shutil.move(\n",
        "    \"/content/department_summary/\" + file,\n",
        "    \"/content/department_summary.csv\"\n",
        ")"
      ],
      "metadata": {
        "colab": {
          "base_uri": "https://localhost:8080/",
          "height": 36
        },
        "id": "vpC8rBI1C5tv",
        "outputId": "bf83ce9e-fcb4-4dbb-8d47-4b1bfbd8c6e6"
      },
      "execution_count": 26,
      "outputs": [
        {
          "output_type": "execute_result",
          "data": {
            "text/plain": [
              "'/content/department_summary.csv'"
            ],
            "application/vnd.google.colaboratory.intrinsic+json": {
              "type": "string"
            }
          },
          "metadata": {},
          "execution_count": 26
        }
      ]
    },
    {
      "cell_type": "code",
      "source": [
        "from google.colab import files\n",
        "files.download(\"/content/department_summary.csv\")"
      ],
      "metadata": {
        "colab": {
          "base_uri": "https://localhost:8080/",
          "height": 17
        },
        "id": "tMeeg4hVC_qo",
        "outputId": "a3dd7df2-97f5-4990-8637-646f7ee7caa6"
      },
      "execution_count": 27,
      "outputs": [
        {
          "output_type": "display_data",
          "data": {
            "text/plain": [
              "<IPython.core.display.Javascript object>"
            ],
            "application/javascript": [
              "\n",
              "    async function download(id, filename, size) {\n",
              "      if (!google.colab.kernel.accessAllowed) {\n",
              "        return;\n",
              "      }\n",
              "      const div = document.createElement('div');\n",
              "      const label = document.createElement('label');\n",
              "      label.textContent = `Downloading \"${filename}\": `;\n",
              "      div.appendChild(label);\n",
              "      const progress = document.createElement('progress');\n",
              "      progress.max = size;\n",
              "      div.appendChild(progress);\n",
              "      document.body.appendChild(div);\n",
              "\n",
              "      const buffers = [];\n",
              "      let downloaded = 0;\n",
              "\n",
              "      const channel = await google.colab.kernel.comms.open(id);\n",
              "      // Send a message to notify the kernel that we're ready.\n",
              "      channel.send({})\n",
              "\n",
              "      for await (const message of channel.messages) {\n",
              "        // Send a message to notify the kernel that we're ready.\n",
              "        channel.send({})\n",
              "        if (message.buffers) {\n",
              "          for (const buffer of message.buffers) {\n",
              "            buffers.push(buffer);\n",
              "            downloaded += buffer.byteLength;\n",
              "            progress.value = downloaded;\n",
              "          }\n",
              "        }\n",
              "      }\n",
              "      const blob = new Blob(buffers, {type: 'application/binary'});\n",
              "      const a = document.createElement('a');\n",
              "      a.href = window.URL.createObjectURL(blob);\n",
              "      a.download = filename;\n",
              "      div.appendChild(a);\n",
              "      a.click();\n",
              "      div.remove();\n",
              "    }\n",
              "  "
            ]
          },
          "metadata": {}
        },
        {
          "output_type": "display_data",
          "data": {
            "text/plain": [
              "<IPython.core.display.Javascript object>"
            ],
            "application/javascript": [
              "download(\"download_188c4794-11c0-48da-8ae3-8f2ad3e5155e\", \"department_summary.csv\", 8)"
            ]
          },
          "metadata": {}
        }
      ]
    },
    {
      "cell_type": "markdown",
      "source": [
        "## Group By"
      ],
      "metadata": {
        "id": "hWFB9ygxEzHA"
      }
    },
    {
      "cell_type": "code",
      "source": [
        "# Save output as CSV to a folder in Colab\n",
        "dfJoined.groupBy(\"department\").agg(\n",
        "    F.round(F.mean(\"workHours\"), 2).alias(\"averageWorkHours\"),\n",
        "    F.round(F.mean(\"productivityScore\"), 2).alias(\"averageProductivityScore\")\n",
        ").coalesce(1).write.option(\"header\", True).mode(\"overwrite\").csv(\"/content/department_summary\")"
      ],
      "metadata": {
        "id": "uFDedvvpEArX"
      },
      "execution_count": 28,
      "outputs": []
    },
    {
      "cell_type": "code",
      "source": [
        "import os\n",
        "import shutil\n",
        "\n",
        "# Find the file inside the output folder\n",
        "folder_path = \"/content/department_summary\"\n",
        "for file in os.listdir(folder_path):\n",
        "    if file.endswith(\".csv\"):\n",
        "        shutil.move(os.path.join(folder_path, file), \"/content/department_summary.csv\")\n",
        "        break"
      ],
      "metadata": {
        "id": "F50zsPQFECM9"
      },
      "execution_count": 29,
      "outputs": []
    },
    {
      "cell_type": "code",
      "source": [
        "from google.colab import files\n",
        "files.download(\"/content/department_summary.csv\")"
      ],
      "metadata": {
        "colab": {
          "base_uri": "https://localhost:8080/",
          "height": 17
        },
        "id": "gGdfsjCtEF10",
        "outputId": "80d4b820-da9f-43b8-83d0-448451928149"
      },
      "execution_count": 30,
      "outputs": [
        {
          "output_type": "display_data",
          "data": {
            "text/plain": [
              "<IPython.core.display.Javascript object>"
            ],
            "application/javascript": [
              "\n",
              "    async function download(id, filename, size) {\n",
              "      if (!google.colab.kernel.accessAllowed) {\n",
              "        return;\n",
              "      }\n",
              "      const div = document.createElement('div');\n",
              "      const label = document.createElement('label');\n",
              "      label.textContent = `Downloading \"${filename}\": `;\n",
              "      div.appendChild(label);\n",
              "      const progress = document.createElement('progress');\n",
              "      progress.max = size;\n",
              "      div.appendChild(progress);\n",
              "      document.body.appendChild(div);\n",
              "\n",
              "      const buffers = [];\n",
              "      let downloaded = 0;\n",
              "\n",
              "      const channel = await google.colab.kernel.comms.open(id);\n",
              "      // Send a message to notify the kernel that we're ready.\n",
              "      channel.send({})\n",
              "\n",
              "      for await (const message of channel.messages) {\n",
              "        // Send a message to notify the kernel that we're ready.\n",
              "        channel.send({})\n",
              "        if (message.buffers) {\n",
              "          for (const buffer of message.buffers) {\n",
              "            buffers.push(buffer);\n",
              "            downloaded += buffer.byteLength;\n",
              "            progress.value = downloaded;\n",
              "          }\n",
              "        }\n",
              "      }\n",
              "      const blob = new Blob(buffers, {type: 'application/binary'});\n",
              "      const a = document.createElement('a');\n",
              "      a.href = window.URL.createObjectURL(blob);\n",
              "      a.download = filename;\n",
              "      div.appendChild(a);\n",
              "      a.click();\n",
              "      div.remove();\n",
              "    }\n",
              "  "
            ]
          },
          "metadata": {}
        },
        {
          "output_type": "display_data",
          "data": {
            "text/plain": [
              "<IPython.core.display.Javascript object>"
            ],
            "application/javascript": [
              "download(\"download_8e9d145d-46bb-4d02-ac65-d132b8cba5b2\", \"department_summary.csv\", 125)"
            ]
          },
          "metadata": {}
        }
      ]
    },
    {
      "cell_type": "markdown",
      "source": [
        "###  Assign .filter() result to a DataFrame"
      ],
      "metadata": {
        "id": "marSezsm_13L"
      }
    },
    {
      "cell_type": "code",
      "source": [
        "from pyspark.sql import functions as F\n",
        "\n",
        "filtered_df = dfAtt.filter((dfAtt.isLate == 1) | (dfAtt.isAbscent == 1)) \\\n",
        "  .join(dfEmp.select([\"name\", \"employeeID\"]), on=\"employeeID\", how=\"inner\") \\\n",
        "  .withColumn(\"Attendance\", F.when(F.col(\"isLate\") == 1, \"Late Login\").otherwise(\"Abscent\")) \\\n",
        "  .select([\"name\", \"Attendance\", \"date\"])"
      ],
      "metadata": {
        "id": "-McMf5ea74eK"
      },
      "execution_count": 19,
      "outputs": []
    },
    {
      "cell_type": "markdown",
      "source": [
        "### Save as CSV to a folder"
      ],
      "metadata": {
        "id": "m8YuAz4YButJ"
      }
    },
    {
      "cell_type": "code",
      "source": [
        "filtered_df.coalesce(1).write.option(\"header\", True).mode(\"overwrite\").csv(\"attendance_output\")"
      ],
      "metadata": {
        "id": "SlnHbGJ_BP7E"
      },
      "execution_count": 20,
      "outputs": []
    },
    {
      "cell_type": "markdown",
      "source": [
        "### Find the file and rename it for download"
      ],
      "metadata": {
        "id": "ZclHlaAyBzUL"
      }
    },
    {
      "cell_type": "code",
      "source": [
        "import os\n",
        "import shutil\n",
        "from google.colab import files\n",
        "\n",
        "# Find and rename part file\n",
        "for file in os.listdir(\"attendance_output\"):\n",
        "    if file.startswith(\"part-\") and file.endswith(\".csv\"):\n",
        "        shutil.copy(f\"attendance_output/{file}\", \"attendance_filtered.csv\")"
      ],
      "metadata": {
        "id": "ZHZmduq9BUKl"
      },
      "execution_count": 21,
      "outputs": []
    },
    {
      "cell_type": "markdown",
      "source": [
        "### Download the CSV"
      ],
      "metadata": {
        "id": "rziBl_gPB5wO"
      }
    },
    {
      "cell_type": "code",
      "source": [
        "files.download(\"attendance_filtered.csv\")"
      ],
      "metadata": {
        "colab": {
          "base_uri": "https://localhost:8080/",
          "height": 17
        },
        "id": "NRw8gfuNBXcP",
        "outputId": "c0f63d0b-6283-409c-87e4-0aabb3a46075"
      },
      "execution_count": 22,
      "outputs": [
        {
          "output_type": "display_data",
          "data": {
            "text/plain": [
              "<IPython.core.display.Javascript object>"
            ],
            "application/javascript": [
              "\n",
              "    async function download(id, filename, size) {\n",
              "      if (!google.colab.kernel.accessAllowed) {\n",
              "        return;\n",
              "      }\n",
              "      const div = document.createElement('div');\n",
              "      const label = document.createElement('label');\n",
              "      label.textContent = `Downloading \"${filename}\": `;\n",
              "      div.appendChild(label);\n",
              "      const progress = document.createElement('progress');\n",
              "      progress.max = size;\n",
              "      div.appendChild(progress);\n",
              "      document.body.appendChild(div);\n",
              "\n",
              "      const buffers = [];\n",
              "      let downloaded = 0;\n",
              "\n",
              "      const channel = await google.colab.kernel.comms.open(id);\n",
              "      // Send a message to notify the kernel that we're ready.\n",
              "      channel.send({})\n",
              "\n",
              "      for await (const message of channel.messages) {\n",
              "        // Send a message to notify the kernel that we're ready.\n",
              "        channel.send({})\n",
              "        if (message.buffers) {\n",
              "          for (const buffer of message.buffers) {\n",
              "            buffers.push(buffer);\n",
              "            downloaded += buffer.byteLength;\n",
              "            progress.value = downloaded;\n",
              "          }\n",
              "        }\n",
              "      }\n",
              "      const blob = new Blob(buffers, {type: 'application/binary'});\n",
              "      const a = document.createElement('a');\n",
              "      a.href = window.URL.createObjectURL(blob);\n",
              "      a.download = filename;\n",
              "      div.appendChild(a);\n",
              "      a.click();\n",
              "      div.remove();\n",
              "    }\n",
              "  "
            ]
          },
          "metadata": {}
        },
        {
          "output_type": "display_data",
          "data": {
            "text/plain": [
              "<IPython.core.display.Javascript object>"
            ],
            "application/javascript": [
              "download(\"download_f74a89c1-42d2-4427-bd44-1760c7e79e55\", \"attendance_filtered.csv\", 486)"
            ]
          },
          "metadata": {}
        }
      ]
    },
    {
      "cell_type": "markdown",
      "source": [],
      "metadata": {
        "id": "Muox75h0CEEr"
      }
    },
    {
      "cell_type": "markdown",
      "source": [
        "## 2. Output showing attendance issues by department"
      ],
      "metadata": {
        "id": "oW1e9rwZ8lxx"
      }
    },
    {
      "cell_type": "code",
      "source": [
        "# 2. attendance issues by department\n",
        "dfJoined_2 = dfAtt.join(dfEmp, on=\"employeeID\", how=\"inner\")\n",
        "\n",
        "dfJoined_2.select([\"department\", \"isLate\", \"isAbscent\"]) \\\n",
        "  .filter((F.col(\"isLate\") == 1) | (F.col(\"isAbscent\") == 1)) \\\n",
        "  .groupby(\"department\") \\\n",
        "  .agg(\n",
        "      F.sum(\"isLate\").alias(\"lateCount\"),\n",
        "      F.sum(\"isAbscent\").alias(\"abscentCount\")\n",
        "  ) \\\n",
        "  .withColumn(\"issuesCount\", F.col(\"lateCount\") + F.col(\"abscentCount\")) \\\n",
        "  .show()"
      ],
      "metadata": {
        "colab": {
          "base_uri": "https://localhost:8080/"
        },
        "id": "Pw08hd4B8uU-",
        "outputId": "b17c782b-cab2-4ca3-882d-5bb211078517"
      },
      "execution_count": 15,
      "outputs": [
        {
          "output_type": "stream",
          "name": "stdout",
          "text": [
            "+-----------+---------+------------+-----------+\n",
            "| department|lateCount|abscentCount|issuesCount|\n",
            "+-----------+---------+------------+-----------+\n",
            "|    finance|        2|           1|          3|\n",
            "|  marketing|        2|           1|          3|\n",
            "|         hr|        2|           1|          3|\n",
            "|engineering|        4|           2|          6|\n",
            "+-----------+---------+------------+-----------+\n",
            "\n"
          ]
        }
      ]
    },
    {
      "cell_type": "markdown",
      "source": [
        "## Store the result as a DataFrame"
      ],
      "metadata": {
        "id": "0tUQ2JchFmIA"
      }
    },
    {
      "cell_type": "code",
      "source": [
        "dfAttendanceIssues = dfJoined_2.select([\"department\", \"isLate\", \"isAbscent\"]) \\\n",
        "  .filter((F.col(\"isLate\") == 1) | (F.col(\"isAbscent\") == 1)) \\\n",
        "  .groupby(\"department\") \\\n",
        "  .agg(\n",
        "      F.sum(\"isLate\").alias(\"lateCount\"),\n",
        "      F.sum(\"isAbscent\").alias(\"abscentCount\")\n",
        "  ) \\\n",
        "  .withColumn(\"issuesCount\", F.col(\"lateCount\") + F.col(\"abscentCount\"))"
      ],
      "metadata": {
        "id": "H8CokAVRFVPe"
      },
      "execution_count": 31,
      "outputs": []
    },
    {
      "cell_type": "markdown",
      "source": [
        "## Write this DataFrame to CSV"
      ],
      "metadata": {
        "id": "hl2GDb9YFyD2"
      }
    },
    {
      "cell_type": "code",
      "source": [
        "dfAttendanceIssues.coalesce(1).write.option(\"header\", True).mode(\"overwrite\").csv(\"/content/attendance_issues\")"
      ],
      "metadata": {
        "id": "Wx_KWomOFWtK"
      },
      "execution_count": 32,
      "outputs": []
    },
    {
      "cell_type": "markdown",
      "source": [
        "## Rename the generated part file to attendance_issues.csv\n"
      ],
      "metadata": {
        "id": "eIK1n-8MF1XE"
      }
    },
    {
      "cell_type": "code",
      "source": [
        "import os\n",
        "import shutil\n",
        "\n",
        "for file in os.listdir(\"/content/attendance_issues\"):\n",
        "    if file.endswith(\".csv\"):\n",
        "        shutil.move(f\"/content/attendance_issues/{file}\", \"/content/attendance_issues.csv\")\n",
        "        break"
      ],
      "metadata": {
        "id": "Nteomob-FZtU"
      },
      "execution_count": 33,
      "outputs": []
    },
    {
      "cell_type": "code",
      "source": [
        "from google.colab import files\n",
        "files.download(\"/content/attendance_issues.csv\")"
      ],
      "metadata": {
        "colab": {
          "base_uri": "https://localhost:8080/",
          "height": 17
        },
        "id": "7DotF-BeFcjP",
        "outputId": "8a3e3573-b498-4abe-a073-467c8f864954"
      },
      "execution_count": 34,
      "outputs": [
        {
          "output_type": "display_data",
          "data": {
            "text/plain": [
              "<IPython.core.display.Javascript object>"
            ],
            "application/javascript": [
              "\n",
              "    async function download(id, filename, size) {\n",
              "      if (!google.colab.kernel.accessAllowed) {\n",
              "        return;\n",
              "      }\n",
              "      const div = document.createElement('div');\n",
              "      const label = document.createElement('label');\n",
              "      label.textContent = `Downloading \"${filename}\": `;\n",
              "      div.appendChild(label);\n",
              "      const progress = document.createElement('progress');\n",
              "      progress.max = size;\n",
              "      div.appendChild(progress);\n",
              "      document.body.appendChild(div);\n",
              "\n",
              "      const buffers = [];\n",
              "      let downloaded = 0;\n",
              "\n",
              "      const channel = await google.colab.kernel.comms.open(id);\n",
              "      // Send a message to notify the kernel that we're ready.\n",
              "      channel.send({})\n",
              "\n",
              "      for await (const message of channel.messages) {\n",
              "        // Send a message to notify the kernel that we're ready.\n",
              "        channel.send({})\n",
              "        if (message.buffers) {\n",
              "          for (const buffer of message.buffers) {\n",
              "            buffers.push(buffer);\n",
              "            downloaded += buffer.byteLength;\n",
              "            progress.value = downloaded;\n",
              "          }\n",
              "        }\n",
              "      }\n",
              "      const blob = new Blob(buffers, {type: 'application/binary'});\n",
              "      const a = document.createElement('a');\n",
              "      a.href = window.URL.createObjectURL(blob);\n",
              "      a.download = filename;\n",
              "      div.appendChild(a);\n",
              "      a.click();\n",
              "      div.remove();\n",
              "    }\n",
              "  "
            ]
          },
          "metadata": {}
        },
        {
          "output_type": "display_data",
          "data": {
            "text/plain": [
              "<IPython.core.display.Javascript object>"
            ],
            "application/javascript": [
              "download(\"download_b04696e3-306c-47c0-9067-539ea6240f0b\", \"attendance_issues.csv\", 103)"
            ]
          },
          "metadata": {}
        }
      ]
    }
  ]
}