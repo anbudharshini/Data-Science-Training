{
  "nbformat": 4,
  "nbformat_minor": 0,
  "metadata": {
    "colab": {
      "provenance": []
    },
    "kernelspec": {
      "name": "python3",
      "display_name": "Python 3"
    },
    "language_info": {
      "name": "python"
    }
  },
  "cells": [
    {
      "cell_type": "markdown",
      "source": [
        "#Week -**5**"
      ],
      "metadata": {
        "id": "08vwVipmr8wq"
      }
    },
    {
      "cell_type": "code",
      "source": [
        "from google.colab import files\n",
        "uploaded = files.upload()"
      ],
      "metadata": {
        "colab": {
          "base_uri": "https://localhost:8080/",
          "height": 93
        },
        "id": "ACqsw9a3eyL1",
        "outputId": "870a4e5b-1ffe-48de-a359-b6bd6918b5f3"
      },
      "execution_count": 7,
      "outputs": [
        {
          "output_type": "display_data",
          "data": {
            "text/plain": [
              "<IPython.core.display.HTML object>"
            ],
            "text/html": [
              "\n",
              "     <input type=\"file\" id=\"files-25104458-bc1f-4e07-8d19-ecc3c0c5b804\" name=\"files[]\" multiple disabled\n",
              "        style=\"border:none\" />\n",
              "     <output id=\"result-25104458-bc1f-4e07-8d19-ecc3c0c5b804\">\n",
              "      Upload widget is only available when the cell has been executed in the\n",
              "      current browser session. Please rerun this cell to enable.\n",
              "      </output>\n",
              "      <script>// Copyright 2017 Google LLC\n",
              "//\n",
              "// Licensed under the Apache License, Version 2.0 (the \"License\");\n",
              "// you may not use this file except in compliance with the License.\n",
              "// You may obtain a copy of the License at\n",
              "//\n",
              "//      http://www.apache.org/licenses/LICENSE-2.0\n",
              "//\n",
              "// Unless required by applicable law or agreed to in writing, software\n",
              "// distributed under the License is distributed on an \"AS IS\" BASIS,\n",
              "// WITHOUT WARRANTIES OR CONDITIONS OF ANY KIND, either express or implied.\n",
              "// See the License for the specific language governing permissions and\n",
              "// limitations under the License.\n",
              "\n",
              "/**\n",
              " * @fileoverview Helpers for google.colab Python module.\n",
              " */\n",
              "(function(scope) {\n",
              "function span(text, styleAttributes = {}) {\n",
              "  const element = document.createElement('span');\n",
              "  element.textContent = text;\n",
              "  for (const key of Object.keys(styleAttributes)) {\n",
              "    element.style[key] = styleAttributes[key];\n",
              "  }\n",
              "  return element;\n",
              "}\n",
              "\n",
              "// Max number of bytes which will be uploaded at a time.\n",
              "const MAX_PAYLOAD_SIZE = 100 * 1024;\n",
              "\n",
              "function _uploadFiles(inputId, outputId) {\n",
              "  const steps = uploadFilesStep(inputId, outputId);\n",
              "  const outputElement = document.getElementById(outputId);\n",
              "  // Cache steps on the outputElement to make it available for the next call\n",
              "  // to uploadFilesContinue from Python.\n",
              "  outputElement.steps = steps;\n",
              "\n",
              "  return _uploadFilesContinue(outputId);\n",
              "}\n",
              "\n",
              "// This is roughly an async generator (not supported in the browser yet),\n",
              "// where there are multiple asynchronous steps and the Python side is going\n",
              "// to poll for completion of each step.\n",
              "// This uses a Promise to block the python side on completion of each step,\n",
              "// then passes the result of the previous step as the input to the next step.\n",
              "function _uploadFilesContinue(outputId) {\n",
              "  const outputElement = document.getElementById(outputId);\n",
              "  const steps = outputElement.steps;\n",
              "\n",
              "  const next = steps.next(outputElement.lastPromiseValue);\n",
              "  return Promise.resolve(next.value.promise).then((value) => {\n",
              "    // Cache the last promise value to make it available to the next\n",
              "    // step of the generator.\n",
              "    outputElement.lastPromiseValue = value;\n",
              "    return next.value.response;\n",
              "  });\n",
              "}\n",
              "\n",
              "/**\n",
              " * Generator function which is called between each async step of the upload\n",
              " * process.\n",
              " * @param {string} inputId Element ID of the input file picker element.\n",
              " * @param {string} outputId Element ID of the output display.\n",
              " * @return {!Iterable<!Object>} Iterable of next steps.\n",
              " */\n",
              "function* uploadFilesStep(inputId, outputId) {\n",
              "  const inputElement = document.getElementById(inputId);\n",
              "  inputElement.disabled = false;\n",
              "\n",
              "  const outputElement = document.getElementById(outputId);\n",
              "  outputElement.innerHTML = '';\n",
              "\n",
              "  const pickedPromise = new Promise((resolve) => {\n",
              "    inputElement.addEventListener('change', (e) => {\n",
              "      resolve(e.target.files);\n",
              "    });\n",
              "  });\n",
              "\n",
              "  const cancel = document.createElement('button');\n",
              "  inputElement.parentElement.appendChild(cancel);\n",
              "  cancel.textContent = 'Cancel upload';\n",
              "  const cancelPromise = new Promise((resolve) => {\n",
              "    cancel.onclick = () => {\n",
              "      resolve(null);\n",
              "    };\n",
              "  });\n",
              "\n",
              "  // Wait for the user to pick the files.\n",
              "  const files = yield {\n",
              "    promise: Promise.race([pickedPromise, cancelPromise]),\n",
              "    response: {\n",
              "      action: 'starting',\n",
              "    }\n",
              "  };\n",
              "\n",
              "  cancel.remove();\n",
              "\n",
              "  // Disable the input element since further picks are not allowed.\n",
              "  inputElement.disabled = true;\n",
              "\n",
              "  if (!files) {\n",
              "    return {\n",
              "      response: {\n",
              "        action: 'complete',\n",
              "      }\n",
              "    };\n",
              "  }\n",
              "\n",
              "  for (const file of files) {\n",
              "    const li = document.createElement('li');\n",
              "    li.append(span(file.name, {fontWeight: 'bold'}));\n",
              "    li.append(span(\n",
              "        `(${file.type || 'n/a'}) - ${file.size} bytes, ` +\n",
              "        `last modified: ${\n",
              "            file.lastModifiedDate ? file.lastModifiedDate.toLocaleDateString() :\n",
              "                                    'n/a'} - `));\n",
              "    const percent = span('0% done');\n",
              "    li.appendChild(percent);\n",
              "\n",
              "    outputElement.appendChild(li);\n",
              "\n",
              "    const fileDataPromise = new Promise((resolve) => {\n",
              "      const reader = new FileReader();\n",
              "      reader.onload = (e) => {\n",
              "        resolve(e.target.result);\n",
              "      };\n",
              "      reader.readAsArrayBuffer(file);\n",
              "    });\n",
              "    // Wait for the data to be ready.\n",
              "    let fileData = yield {\n",
              "      promise: fileDataPromise,\n",
              "      response: {\n",
              "        action: 'continue',\n",
              "      }\n",
              "    };\n",
              "\n",
              "    // Use a chunked sending to avoid message size limits. See b/62115660.\n",
              "    let position = 0;\n",
              "    do {\n",
              "      const length = Math.min(fileData.byteLength - position, MAX_PAYLOAD_SIZE);\n",
              "      const chunk = new Uint8Array(fileData, position, length);\n",
              "      position += length;\n",
              "\n",
              "      const base64 = btoa(String.fromCharCode.apply(null, chunk));\n",
              "      yield {\n",
              "        response: {\n",
              "          action: 'append',\n",
              "          file: file.name,\n",
              "          data: base64,\n",
              "        },\n",
              "      };\n",
              "\n",
              "      let percentDone = fileData.byteLength === 0 ?\n",
              "          100 :\n",
              "          Math.round((position / fileData.byteLength) * 100);\n",
              "      percent.textContent = `${percentDone}% done`;\n",
              "\n",
              "    } while (position < fileData.byteLength);\n",
              "  }\n",
              "\n",
              "  // All done.\n",
              "  yield {\n",
              "    response: {\n",
              "      action: 'complete',\n",
              "    }\n",
              "  };\n",
              "}\n",
              "\n",
              "scope.google = scope.google || {};\n",
              "scope.google.colab = scope.google.colab || {};\n",
              "scope.google.colab._files = {\n",
              "  _uploadFiles,\n",
              "  _uploadFilesContinue,\n",
              "};\n",
              "})(self);\n",
              "</script> "
            ]
          },
          "metadata": {}
        },
        {
          "output_type": "stream",
          "name": "stdout",
          "text": [
            "Saving attendance.csv to attendance.csv\n",
            "Saving employees.csv to employees.csv\n",
            "Saving tasks.csv to tasks.csv\n"
          ]
        }
      ]
    },
    {
      "cell_type": "markdown",
      "source": [
        "#**Creating Spark Session**"
      ],
      "metadata": {
        "id": "o99xaoDbsK-A"
      }
    },
    {
      "cell_type": "code",
      "execution_count": 4,
      "metadata": {
        "id": "FnCLkiUmeU59"
      },
      "outputs": [],
      "source": [
        "from pyspark.sql import SparkSession\n",
        "from pyspark.sql import functions as F"
      ]
    },
    {
      "cell_type": "code",
      "source": [
        "spark = SparkSession.builder.appName(\"DevOps\").getOrCreate()\n",
        "spark"
      ],
      "metadata": {
        "colab": {
          "base_uri": "https://localhost:8080/",
          "height": 222
        },
        "id": "5YLq5-X7etNX",
        "outputId": "4036f33f-2fd9-4530-8e94-6edfc273c765"
      },
      "execution_count": 5,
      "outputs": [
        {
          "output_type": "execute_result",
          "data": {
            "text/plain": [
              "<pyspark.sql.session.SparkSession at 0x7d164f4b7bc0>"
            ],
            "text/html": [
              "\n",
              "            <div>\n",
              "                <p><b>SparkSession - in-memory</b></p>\n",
              "                \n",
              "        <div>\n",
              "            <p><b>SparkContext</b></p>\n",
              "\n",
              "            <p><a href=\"http://97fc6c59c37b:4040\">Spark UI</a></p>\n",
              "\n",
              "            <dl>\n",
              "              <dt>Version</dt>\n",
              "                <dd><code>v3.5.1</code></dd>\n",
              "              <dt>Master</dt>\n",
              "                <dd><code>local[*]</code></dd>\n",
              "              <dt>AppName</dt>\n",
              "                <dd><code>DevOps</code></dd>\n",
              "            </dl>\n",
              "        </div>\n",
              "        \n",
              "            </div>\n",
              "        "
            ]
          },
          "metadata": {},
          "execution_count": 5
        }
      ]
    },
    {
      "cell_type": "markdown",
      "source": [],
      "metadata": {
        "id": "ReMF22O2r16I"
      }
    },
    {
      "cell_type": "markdown",
      "source": [
        "#**Loading data**"
      ],
      "metadata": {
        "id": "b9TASr6gsDsn"
      }
    },
    {
      "cell_type": "code",
      "source": [
        "dfAtt = spark.read.csv(r\"/content/attendance.csv\", header=True, inferSchema=True)\n",
        "dfEmp = spark.read.csv(r\"/content/employees.csv\", header=True, inferSchema=True)\n",
        "dfTas = spark.read.csv(r\"/content/tasks.csv\", header=True, inferSchema=True)"
      ],
      "metadata": {
        "id": "WYKFEeX_e_Gc"
      },
      "execution_count": 8,
      "outputs": []
    },
    {
      "cell_type": "markdown",
      "source": [
        "#**Printing Files**"
      ],
      "metadata": {
        "id": "1hVSCyLPsZ0i"
      }
    },
    {
      "cell_type": "code",
      "source": [
        "dfAtt.show()"
      ],
      "metadata": {
        "colab": {
          "base_uri": "https://localhost:8080/"
        },
        "id": "HlUAPQNnfDCm",
        "outputId": "c895efa7-8d6b-4339-9837-a5d78f178d3d"
      },
      "execution_count": 5,
      "outputs": [
        {
          "output_type": "stream",
          "name": "stdout",
          "text": [
            "+------------+----------+----------+----------------+----------------+------+---------+\n",
            "|attendanceID|employeeID|      date|         clockIN|        clockOUT|isLate|isAbscent|\n",
            "+------------+----------+----------+----------------+----------------+------+---------+\n",
            "|           1|         1|07-06-2024|            NULL|            NULL|     0|        1|\n",
            "|           2|         2|07-06-2024|07-06-2024 08:48|07-06-2024 17:05|     0|        0|\n",
            "|           3|         3|07-06-2024|07-06-2024 08:51|07-06-2024 17:10|     1|        0|\n",
            "|           4|         4|07-06-2024|07-06-2024 08:54|07-06-2024 17:15|     0|        0|\n",
            "|           5|         5|07-06-2024|07-06-2024 08:57|07-06-2024 17:00|     1|        0|\n",
            "|           6|         1|07-06-2024|       45450.375|07-06-2024 17:05|     0|        0|\n",
            "|           7|         2|07-06-2024|            NULL|            NULL|     0|        1|\n",
            "|           8|         3|07-06-2024|07-06-2024 08:48|07-06-2024 17:15|     0|        0|\n",
            "|           9|         4|07-06-2024|07-06-2024 08:51|07-06-2024 17:00|     1|        0|\n",
            "|          10|         5|07-06-2024|07-06-2024 08:54|07-06-2024 17:05|     0|        0|\n",
            "|          11|         1|07-06-2024|07-06-2024 08:57|07-06-2024 17:10|     1|        0|\n",
            "|          12|         2|07-06-2024|       45450.375|07-06-2024 17:15|     0|        0|\n",
            "|          13|         3|07-06-2024|            NULL|            NULL|     0|        1|\n",
            "|          14|         4|07-06-2024|07-06-2024 08:48|07-06-2024 17:05|     0|        0|\n",
            "|          15|         5|07-06-2024|07-06-2024 08:51|07-06-2024 17:10|     1|        0|\n",
            "|          16|         1|07-06-2024|07-06-2024 08:54|07-06-2024 17:15|     0|        0|\n",
            "|          17|         2|07-06-2024|07-06-2024 08:57|07-06-2024 17:00|     1|        0|\n",
            "|          18|         3|07-06-2024|       45450.375|07-06-2024 17:05|     0|        0|\n",
            "|          19|         4|07-06-2024|            NULL|            NULL|     0|        1|\n",
            "|          20|         5|07-06-2024|07-06-2024 08:48|07-06-2024 17:15|     0|        0|\n",
            "+------------+----------+----------+----------------+----------------+------+---------+\n",
            "only showing top 20 rows\n",
            "\n"
          ]
        }
      ]
    },
    {
      "cell_type": "code",
      "source": [
        "dfEmp.show()"
      ],
      "metadata": {
        "colab": {
          "base_uri": "https://localhost:8080/"
        },
        "id": "G57eAgFafGbb",
        "outputId": "1cfcbfc0-e01e-4bd5-f1aa-34d2d4855021"
      },
      "execution_count": 6,
      "outputs": [
        {
          "output_type": "stream",
          "name": "stdout",
          "text": [
            "+----------+----------+-----------+-----------------+--------------------+-------------------+--------+\n",
            "|employeeid|      name| department|             role|               email|           hiredate|  status|\n",
            "+----------+----------+-----------+-----------------+--------------------+-------------------+--------+\n",
            "|         1|arun kumar|engineering|software engineer|arun.kumar@exampl...|2023-02-10 00:00:00|  Active|\n",
            "|         2|deepa rani|  marketing|   content writer|deepa.rani@exampl...|2022-12-05 00:00:00|  Active|\n",
            "|         3| vijay raj|         hr|     hr executive|vijay.raj@example...|2021-10-15 00:00:00|  Active|\n",
            "|         4| karthik s|engineering|  devops engineer|karthik.s@example...|2023-04-20 00:00:00|  Active|\n",
            "|         5|   meena p|    finance|       accountant| meena.p@example.com|2022-07-25 00:00:00|Resigned|\n",
            "+----------+----------+-----------+-----------------+--------------------+-------------------+--------+\n",
            "\n"
          ]
        }
      ]
    },
    {
      "cell_type": "code",
      "source": [
        "dfTas.show()"
      ],
      "metadata": {
        "colab": {
          "base_uri": "https://localhost:8080/"
        },
        "id": "4hsPbsO8fLXU",
        "outputId": "f21c4526-0dbc-4bbf-add8-6da4d3344d4d"
      },
      "execution_count": 7,
      "outputs": [
        {
          "output_type": "stream",
          "name": "stdout",
          "text": [
            "+------+----------+--------------------+----------+---------------+\n",
            "|taskID|employeeID|            taskName|  taskDate|tasksCompeleted|\n",
            "+------+----------+--------------------+----------+---------------+\n",
            "|     1|         1|         Code Review|2024-07-01|              4|\n",
            "|     2|         2|   Blog Post Writing|2024-07-01|              5|\n",
            "|     3|         3|     Employee Survey|2024-07-01|              2|\n",
            "|     4|         4|Server Configuration|2024-07-01|              3|\n",
            "|     5|         5| Invoice Preparation|2024-07-01|              6|\n",
            "|     6|         1|     Feature Testing|2024-07-02|              3|\n",
            "|     7|         2|    SEO Optimization|2024-07-02|              4|\n",
            "|     8|         3|Recruitment Scree...|2024-07-02|              1|\n",
            "|     9|         4| Load Balancer Setup|2024-07-02|              5|\n",
            "|    10|         5|Travel Reimbursem...|2024-07-02|              2|\n",
            "|    11|         1|  Unit Test Coverage|2024-07-03|              4|\n",
            "|    12|         2|Campaign Strategy...|2024-07-03|              3|\n",
            "|    13|         3| Benefits Evaluation|2024-07-03|              0|\n",
            "|    14|         4|Log Monitoring Setup|2024-07-03|              5|\n",
            "|    15|         5| Tax Document Review|2024-07-03|              1|\n",
            "|    16|         1|          UI Mockups|2024-07-04|              5|\n",
            "|    17|         2| Press Release Draft|2024-07-04|              3|\n",
            "|    18|         3|Conflict Resoluti...|2024-07-04|              1|\n",
            "|    19|         4|Firewall Rules Up...|2024-07-04|              4|\n",
            "|    20|         5|       Cost Analysis|2024-07-04|              3|\n",
            "+------+----------+--------------------+----------+---------------+\n",
            "only showing top 20 rows\n",
            "\n"
          ]
        }
      ]
    },
    {
      "cell_type": "markdown",
      "source": [
        "## Printing the schemas"
      ],
      "metadata": {
        "id": "_zNc_xkOf8Xn"
      }
    },
    {
      "cell_type": "code",
      "source": [
        "dfAtt.printSchema()"
      ],
      "metadata": {
        "colab": {
          "base_uri": "https://localhost:8080/"
        },
        "id": "Nw167TKDfOOs",
        "outputId": "b0bd908c-5771-45f9-89f9-7ed0022335d2"
      },
      "execution_count": 8,
      "outputs": [
        {
          "output_type": "stream",
          "name": "stdout",
          "text": [
            "root\n",
            " |-- attendanceID: integer (nullable = true)\n",
            " |-- employeeID: integer (nullable = true)\n",
            " |-- date: string (nullable = true)\n",
            " |-- clockIN: string (nullable = true)\n",
            " |-- clockOUT: string (nullable = true)\n",
            " |-- isLate: integer (nullable = true)\n",
            " |-- isAbscent: integer (nullable = true)\n",
            "\n"
          ]
        }
      ]
    },
    {
      "cell_type": "markdown",
      "source": [
        "# **Printing Schemas**"
      ],
      "metadata": {
        "id": "QgsOzZsNtA5A"
      }
    },
    {
      "cell_type": "code",
      "source": [
        "dfEmp.printSchema()"
      ],
      "metadata": {
        "colab": {
          "base_uri": "https://localhost:8080/"
        },
        "id": "Sms0jTrngQEE",
        "outputId": "c866d5f1-f57b-47b8-e7ed-fdea2a23c371"
      },
      "execution_count": 9,
      "outputs": [
        {
          "output_type": "stream",
          "name": "stdout",
          "text": [
            "root\n",
            " |-- employeeid: integer (nullable = true)\n",
            " |-- name: string (nullable = true)\n",
            " |-- department: string (nullable = true)\n",
            " |-- role: string (nullable = true)\n",
            " |-- email: string (nullable = true)\n",
            " |-- hiredate: timestamp (nullable = true)\n",
            " |-- status: string (nullable = true)\n",
            "\n"
          ]
        }
      ]
    },
    {
      "cell_type": "code",
      "source": [
        "dfTas.printSchema()"
      ],
      "metadata": {
        "colab": {
          "base_uri": "https://localhost:8080/"
        },
        "id": "pb46E4kCgTTQ",
        "outputId": "fe1ce25a-f212-46cf-f2b2-06e5e662f104"
      },
      "execution_count": 10,
      "outputs": [
        {
          "output_type": "stream",
          "name": "stdout",
          "text": [
            "root\n",
            " |-- taskID: integer (nullable = true)\n",
            " |-- employeeID: integer (nullable = true)\n",
            " |-- taskName: string (nullable = true)\n",
            " |-- taskDate: date (nullable = true)\n",
            " |-- tasksCompeleted: integer (nullable = true)\n",
            "\n"
          ]
        }
      ]
    },
    {
      "cell_type": "markdown",
      "source": [
        "#Cleaning Null values"
      ],
      "metadata": {
        "id": "gZPwkptHgYuG"
      }
    },
    {
      "cell_type": "code",
      "source": [
        "dfEmp = dfEmp.dropna()\n",
        "dfTas = dfTas.dropna()"
      ],
      "metadata": {
        "id": "cpTk8IYCgV55"
      },
      "execution_count": 9,
      "outputs": []
    },
    {
      "cell_type": "markdown",
      "source": [
        "#**Top 5`abscentees`**"
      ],
      "metadata": {
        "id": "GBsfqGmMqc4G"
      }
    },
    {
      "cell_type": "code",
      "source": [
        "Top5Absentees = dfEmp.join(dfAtt, on=\"employeeID\", how=\"inner\").groupBy(\"employeeID\").agg(\n",
        "                 F.sum(\"isAbscent\").alias(\"AbscentCount\")\n",
        "             ).join(dfEmp.select([\"employeeID\", \"name\"]), how=\"inner\", on=\"employeeID\").sort(\"AbscentCount\", ascending=False).limit(5).select([\"employeeID\", \"name\", \"AbscentCount\"])\n",
        "\n",
        "Top5Absentees.write.mode(\"overwrite\").csv(\"abscentees_top_5\")\n",
        "\n",
        "Top5Absentees.show()"
      ],
      "metadata": {
        "colab": {
          "base_uri": "https://localhost:8080/"
        },
        "id": "Yvh6UDP1ogcy",
        "outputId": "7b1d37f2-bac5-4ba2-e23d-376c7eb81655"
      },
      "execution_count": 10,
      "outputs": [
        {
          "output_type": "stream",
          "name": "stdout",
          "text": [
            "+----------+----------+------------+\n",
            "|employeeID|      name|AbscentCount|\n",
            "+----------+----------+------------+\n",
            "|         1|arun kumar|           1|\n",
            "|         3| vijay raj|           1|\n",
            "|         5|   meena p|           1|\n",
            "|         4| karthik s|           1|\n",
            "|         2|deepa rani|           1|\n",
            "+----------+----------+------------+\n",
            "\n"
          ]
        }
      ]
    },
    {
      "cell_type": "markdown",
      "source": [
        "#**Lowest performing departments**"
      ],
      "metadata": {
        "id": "_vIEAzyoqnMe"
      }
    },
    {
      "cell_type": "code",
      "source": [
        "LowestPerformingDept = dfEmp.join(dfAtt, on=\"employeeID\", how=\"inner\").join(dfTas, on=\"employeeID\", how=\"inner\").groupBy(\"department\").agg(\n",
        "                    F.sum(\"tasksCompeleted\").alias(\"TasksProductivityScore\")\n",
        "                ).sort(\"TasksProductivityScore\", ascending=True).limit(2)\n",
        "\n",
        "LowestPerformingDept.write.mode(\"overwrite\").csv(\"lowest_performing_departments\")\n",
        "\n",
        "LowestPerformingDept.show()"
      ],
      "metadata": {
        "colab": {
          "base_uri": "https://localhost:8080/"
        },
        "id": "t00sv8UTqpx_",
        "outputId": "8855661d-25ce-4f93-e0d0-a6606fe125dc"
      },
      "execution_count": 11,
      "outputs": [
        {
          "output_type": "stream",
          "name": "stdout",
          "text": [
            "+----------+----------------------+\n",
            "|department|TasksProductivityScore|\n",
            "+----------+----------------------+\n",
            "|        hr|                    42|\n",
            "|   finance|                    96|\n",
            "+----------+----------------------+\n",
            "\n"
          ]
        }
      ]
    },
    {
      "cell_type": "markdown",
      "source": [
        "#**Deliverables**\n",
        "## Report with top 5 absentees/lowest performing departments"
      ],
      "metadata": {
        "id": "Zb2RluBoqxfb"
      }
    },
    {
      "cell_type": "code",
      "source": [
        "Top5Absentees.coalesce(1) \\\n",
        "    .write.mode(\"overwrite\").option(\"header\", True) \\\n",
        "    .csv(\"/content/Top5Absentees\")\n",
        "\n",
        "LowestPerformingDept.coalesce(1) \\\n",
        "    .write.mode(\"overwrite\").option(\"header\", True) \\\n",
        "    .csv(\"/content/LowestPerformingDept\")"
      ],
      "metadata": {
        "id": "VkPup_SBq0qp"
      },
      "execution_count": 12,
      "outputs": []
    },
    {
      "cell_type": "code",
      "source": [
        "import shutil, glob\n",
        "\n",
        "Abs_file = glob.glob(\"/content/Top5Absentees/part-*.csv\")[0]\n",
        "shutil.move(Abs_file, \"/content/Top5Absentees.csv\")\n",
        "\n",
        "low_file = glob.glob(\"/content/LowestPerformingDept/part-*.csv\")[0]\n",
        "shutil.move(low_file, \"/content/LowestPerformingDept.csv\")"
      ],
      "metadata": {
        "colab": {
          "base_uri": "https://localhost:8080/",
          "height": 36
        },
        "id": "DyTbPNwFrB3y",
        "outputId": "327666c6-2505-46c9-a68f-4e9249a02a0d"
      },
      "execution_count": 13,
      "outputs": [
        {
          "output_type": "execute_result",
          "data": {
            "text/plain": [
              "'/content/LowestPerformingDept.csv'"
            ],
            "application/vnd.google.colaboratory.intrinsic+json": {
              "type": "string"
            }
          },
          "metadata": {},
          "execution_count": 13
        }
      ]
    },
    {
      "cell_type": "code",
      "source": [
        "from google.colab import files\n",
        "\n",
        "files.download(\"/content/Top5Absentees.csv\")\n",
        "files.download(\"/content/LowestPerformingDept.csv\")"
      ],
      "metadata": {
        "colab": {
          "base_uri": "https://localhost:8080/",
          "height": 17
        },
        "id": "IDx6JrWDrEvF",
        "outputId": "e669d2b8-bbeb-4e22-94aa-4b4038c6c1e0"
      },
      "execution_count": 14,
      "outputs": [
        {
          "output_type": "display_data",
          "data": {
            "text/plain": [
              "<IPython.core.display.Javascript object>"
            ],
            "application/javascript": [
              "\n",
              "    async function download(id, filename, size) {\n",
              "      if (!google.colab.kernel.accessAllowed) {\n",
              "        return;\n",
              "      }\n",
              "      const div = document.createElement('div');\n",
              "      const label = document.createElement('label');\n",
              "      label.textContent = `Downloading \"${filename}\": `;\n",
              "      div.appendChild(label);\n",
              "      const progress = document.createElement('progress');\n",
              "      progress.max = size;\n",
              "      div.appendChild(progress);\n",
              "      document.body.appendChild(div);\n",
              "\n",
              "      const buffers = [];\n",
              "      let downloaded = 0;\n",
              "\n",
              "      const channel = await google.colab.kernel.comms.open(id);\n",
              "      // Send a message to notify the kernel that we're ready.\n",
              "      channel.send({})\n",
              "\n",
              "      for await (const message of channel.messages) {\n",
              "        // Send a message to notify the kernel that we're ready.\n",
              "        channel.send({})\n",
              "        if (message.buffers) {\n",
              "          for (const buffer of message.buffers) {\n",
              "            buffers.push(buffer);\n",
              "            downloaded += buffer.byteLength;\n",
              "            progress.value = downloaded;\n",
              "          }\n",
              "        }\n",
              "      }\n",
              "      const blob = new Blob(buffers, {type: 'application/binary'});\n",
              "      const a = document.createElement('a');\n",
              "      a.href = window.URL.createObjectURL(blob);\n",
              "      a.download = filename;\n",
              "      div.appendChild(a);\n",
              "      a.click();\n",
              "      div.remove();\n",
              "    }\n",
              "  "
            ]
          },
          "metadata": {}
        },
        {
          "output_type": "display_data",
          "data": {
            "text/plain": [
              "<IPython.core.display.Javascript object>"
            ],
            "application/javascript": [
              "download(\"download_fed06963-94cc-4f96-865b-66f15cb6a1cf\", \"Top5Absentees.csv\", 99)"
            ]
          },
          "metadata": {}
        },
        {
          "output_type": "display_data",
          "data": {
            "text/plain": [
              "<IPython.core.display.Javascript object>"
            ],
            "application/javascript": [
              "\n",
              "    async function download(id, filename, size) {\n",
              "      if (!google.colab.kernel.accessAllowed) {\n",
              "        return;\n",
              "      }\n",
              "      const div = document.createElement('div');\n",
              "      const label = document.createElement('label');\n",
              "      label.textContent = `Downloading \"${filename}\": `;\n",
              "      div.appendChild(label);\n",
              "      const progress = document.createElement('progress');\n",
              "      progress.max = size;\n",
              "      div.appendChild(progress);\n",
              "      document.body.appendChild(div);\n",
              "\n",
              "      const buffers = [];\n",
              "      let downloaded = 0;\n",
              "\n",
              "      const channel = await google.colab.kernel.comms.open(id);\n",
              "      // Send a message to notify the kernel that we're ready.\n",
              "      channel.send({})\n",
              "\n",
              "      for await (const message of channel.messages) {\n",
              "        // Send a message to notify the kernel that we're ready.\n",
              "        channel.send({})\n",
              "        if (message.buffers) {\n",
              "          for (const buffer of message.buffers) {\n",
              "            buffers.push(buffer);\n",
              "            downloaded += buffer.byteLength;\n",
              "            progress.value = downloaded;\n",
              "          }\n",
              "        }\n",
              "      }\n",
              "      const blob = new Blob(buffers, {type: 'application/binary'});\n",
              "      const a = document.createElement('a');\n",
              "      a.href = window.URL.createObjectURL(blob);\n",
              "      a.download = filename;\n",
              "      div.appendChild(a);\n",
              "      a.click();\n",
              "      div.remove();\n",
              "    }\n",
              "  "
            ]
          },
          "metadata": {}
        },
        {
          "output_type": "display_data",
          "data": {
            "text/plain": [
              "<IPython.core.display.Javascript object>"
            ],
            "application/javascript": [
              "download(\"download_62663454-9a30-4b74-ba4d-434e0c644142\", \"LowestPerformingDept.csv\", 51)"
            ]
          },
          "metadata": {}
        }
      ]
    }
  ]
}