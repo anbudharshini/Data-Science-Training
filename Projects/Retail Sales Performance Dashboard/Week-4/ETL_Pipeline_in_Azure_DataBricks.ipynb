{
  "nbformat": 4,
  "nbformat_minor": 0,
  "metadata": {
    "colab": {
      "provenance": []
    },
    "kernelspec": {
      "name": "python3",
      "display_name": "Python 3"
    },
    "language_info": {
      "name": "python"
    }
  },
  "cells": [
    {
      "cell_type": "markdown",
      "source": [
        "# **Week-4**"
      ],
      "metadata": {
        "id": "vmYEtyy40-0X"
      }
    },
    {
      "cell_type": "code",
      "execution_count": 1,
      "metadata": {
        "id": "NRFHNyL00w5X"
      },
      "outputs": [],
      "source": [
        "from pyspark.sql import SparkSession\n",
        "from pyspark.sql import functions as F"
      ]
    },
    {
      "cell_type": "code",
      "source": [
        "spark = SparkSession.builder.appName(\"ETL\").getOrCreate()\n",
        "spark"
      ],
      "metadata": {
        "colab": {
          "base_uri": "https://localhost:8080/",
          "height": 222
        },
        "id": "9siDodrB1FNa",
        "outputId": "134ba027-c00e-4ff8-e2a3-dcf92e89f0e9"
      },
      "execution_count": 2,
      "outputs": [
        {
          "output_type": "execute_result",
          "data": {
            "text/plain": [
              "<pyspark.sql.session.SparkSession at 0x787151803ed0>"
            ],
            "text/html": [
              "\n",
              "            <div>\n",
              "                <p><b>SparkSession - in-memory</b></p>\n",
              "                \n",
              "        <div>\n",
              "            <p><b>SparkContext</b></p>\n",
              "\n",
              "            <p><a href=\"http://433c0b111dbd:4040\">Spark UI</a></p>\n",
              "\n",
              "            <dl>\n",
              "              <dt>Version</dt>\n",
              "                <dd><code>v3.5.1</code></dd>\n",
              "              <dt>Master</dt>\n",
              "                <dd><code>local[*]</code></dd>\n",
              "              <dt>AppName</dt>\n",
              "                <dd><code>ETL</code></dd>\n",
              "            </dl>\n",
              "        </div>\n",
              "        \n",
              "            </div>\n",
              "        "
            ]
          },
          "metadata": {},
          "execution_count": 2
        }
      ]
    },
    {
      "cell_type": "markdown",
      "source": [
        "#  Uploading cleaned data to Databricks"
      ],
      "metadata": {
        "id": "DWE7I0GV1N6z"
      }
    },
    {
      "cell_type": "code",
      "source": [
        "from google.colab import files\n",
        "uploaded = files.upload()"
      ],
      "metadata": {
        "colab": {
          "base_uri": "https://localhost:8080/",
          "height": 180
        },
        "id": "qfj8PR-x1Q1c",
        "outputId": "c100121a-2172-4bf1-c602-cc1f3e3fc307"
      },
      "execution_count": 16,
      "outputs": [
        {
          "output_type": "display_data",
          "data": {
            "text/plain": [
              "<IPython.core.display.HTML object>"
            ],
            "text/html": [
              "\n",
              "     <input type=\"file\" id=\"files-565100e0-6001-401a-835a-d1eeec7a6e66\" name=\"files[]\" multiple disabled\n",
              "        style=\"border:none\" />\n",
              "     <output id=\"result-565100e0-6001-401a-835a-d1eeec7a6e66\">\n",
              "      Upload widget is only available when the cell has been executed in the\n",
              "      current browser session. Please rerun this cell to enable.\n",
              "      </output>\n",
              "      <script>// Copyright 2017 Google LLC\n",
              "//\n",
              "// Licensed under the Apache License, Version 2.0 (the \"License\");\n",
              "// you may not use this file except in compliance with the License.\n",
              "// You may obtain a copy of the License at\n",
              "//\n",
              "//      http://www.apache.org/licenses/LICENSE-2.0\n",
              "//\n",
              "// Unless required by applicable law or agreed to in writing, software\n",
              "// distributed under the License is distributed on an \"AS IS\" BASIS,\n",
              "// WITHOUT WARRANTIES OR CONDITIONS OF ANY KIND, either express or implied.\n",
              "// See the License for the specific language governing permissions and\n",
              "// limitations under the License.\n",
              "\n",
              "/**\n",
              " * @fileoverview Helpers for google.colab Python module.\n",
              " */\n",
              "(function(scope) {\n",
              "function span(text, styleAttributes = {}) {\n",
              "  const element = document.createElement('span');\n",
              "  element.textContent = text;\n",
              "  for (const key of Object.keys(styleAttributes)) {\n",
              "    element.style[key] = styleAttributes[key];\n",
              "  }\n",
              "  return element;\n",
              "}\n",
              "\n",
              "// Max number of bytes which will be uploaded at a time.\n",
              "const MAX_PAYLOAD_SIZE = 100 * 1024;\n",
              "\n",
              "function _uploadFiles(inputId, outputId) {\n",
              "  const steps = uploadFilesStep(inputId, outputId);\n",
              "  const outputElement = document.getElementById(outputId);\n",
              "  // Cache steps on the outputElement to make it available for the next call\n",
              "  // to uploadFilesContinue from Python.\n",
              "  outputElement.steps = steps;\n",
              "\n",
              "  return _uploadFilesContinue(outputId);\n",
              "}\n",
              "\n",
              "// This is roughly an async generator (not supported in the browser yet),\n",
              "// where there are multiple asynchronous steps and the Python side is going\n",
              "// to poll for completion of each step.\n",
              "// This uses a Promise to block the python side on completion of each step,\n",
              "// then passes the result of the previous step as the input to the next step.\n",
              "function _uploadFilesContinue(outputId) {\n",
              "  const outputElement = document.getElementById(outputId);\n",
              "  const steps = outputElement.steps;\n",
              "\n",
              "  const next = steps.next(outputElement.lastPromiseValue);\n",
              "  return Promise.resolve(next.value.promise).then((value) => {\n",
              "    // Cache the last promise value to make it available to the next\n",
              "    // step of the generator.\n",
              "    outputElement.lastPromiseValue = value;\n",
              "    return next.value.response;\n",
              "  });\n",
              "}\n",
              "\n",
              "/**\n",
              " * Generator function which is called between each async step of the upload\n",
              " * process.\n",
              " * @param {string} inputId Element ID of the input file picker element.\n",
              " * @param {string} outputId Element ID of the output display.\n",
              " * @return {!Iterable<!Object>} Iterable of next steps.\n",
              " */\n",
              "function* uploadFilesStep(inputId, outputId) {\n",
              "  const inputElement = document.getElementById(inputId);\n",
              "  inputElement.disabled = false;\n",
              "\n",
              "  const outputElement = document.getElementById(outputId);\n",
              "  outputElement.innerHTML = '';\n",
              "\n",
              "  const pickedPromise = new Promise((resolve) => {\n",
              "    inputElement.addEventListener('change', (e) => {\n",
              "      resolve(e.target.files);\n",
              "    });\n",
              "  });\n",
              "\n",
              "  const cancel = document.createElement('button');\n",
              "  inputElement.parentElement.appendChild(cancel);\n",
              "  cancel.textContent = 'Cancel upload';\n",
              "  const cancelPromise = new Promise((resolve) => {\n",
              "    cancel.onclick = () => {\n",
              "      resolve(null);\n",
              "    };\n",
              "  });\n",
              "\n",
              "  // Wait for the user to pick the files.\n",
              "  const files = yield {\n",
              "    promise: Promise.race([pickedPromise, cancelPromise]),\n",
              "    response: {\n",
              "      action: 'starting',\n",
              "    }\n",
              "  };\n",
              "\n",
              "  cancel.remove();\n",
              "\n",
              "  // Disable the input element since further picks are not allowed.\n",
              "  inputElement.disabled = true;\n",
              "\n",
              "  if (!files) {\n",
              "    return {\n",
              "      response: {\n",
              "        action: 'complete',\n",
              "      }\n",
              "    };\n",
              "  }\n",
              "\n",
              "  for (const file of files) {\n",
              "    const li = document.createElement('li');\n",
              "    li.append(span(file.name, {fontWeight: 'bold'}));\n",
              "    li.append(span(\n",
              "        `(${file.type || 'n/a'}) - ${file.size} bytes, ` +\n",
              "        `last modified: ${\n",
              "            file.lastModifiedDate ? file.lastModifiedDate.toLocaleDateString() :\n",
              "                                    'n/a'} - `));\n",
              "    const percent = span('0% done');\n",
              "    li.appendChild(percent);\n",
              "\n",
              "    outputElement.appendChild(li);\n",
              "\n",
              "    const fileDataPromise = new Promise((resolve) => {\n",
              "      const reader = new FileReader();\n",
              "      reader.onload = (e) => {\n",
              "        resolve(e.target.result);\n",
              "      };\n",
              "      reader.readAsArrayBuffer(file);\n",
              "    });\n",
              "    // Wait for the data to be ready.\n",
              "    let fileData = yield {\n",
              "      promise: fileDataPromise,\n",
              "      response: {\n",
              "        action: 'continue',\n",
              "      }\n",
              "    };\n",
              "\n",
              "    // Use a chunked sending to avoid message size limits. See b/62115660.\n",
              "    let position = 0;\n",
              "    do {\n",
              "      const length = Math.min(fileData.byteLength - position, MAX_PAYLOAD_SIZE);\n",
              "      const chunk = new Uint8Array(fileData, position, length);\n",
              "      position += length;\n",
              "\n",
              "      const base64 = btoa(String.fromCharCode.apply(null, chunk));\n",
              "      yield {\n",
              "        response: {\n",
              "          action: 'append',\n",
              "          file: file.name,\n",
              "          data: base64,\n",
              "        },\n",
              "      };\n",
              "\n",
              "      let percentDone = fileData.byteLength === 0 ?\n",
              "          100 :\n",
              "          Math.round((position / fileData.byteLength) * 100);\n",
              "      percent.textContent = `${percentDone}% done`;\n",
              "\n",
              "    } while (position < fileData.byteLength);\n",
              "  }\n",
              "\n",
              "  // All done.\n",
              "  yield {\n",
              "    response: {\n",
              "      action: 'complete',\n",
              "    }\n",
              "  };\n",
              "}\n",
              "\n",
              "scope.google = scope.google || {};\n",
              "scope.google.colab = scope.google.colab || {};\n",
              "scope.google.colab._files = {\n",
              "  _uploadFiles,\n",
              "  _uploadFilesContinue,\n",
              "};\n",
              "})(self);\n",
              "</script> "
            ]
          },
          "metadata": {}
        },
        {
          "output_type": "stream",
          "name": "stdout",
          "text": [
            "Saving employees.csv to employees (1).csv\n",
            "Saving products.csv to products (1).csv\n",
            "Saving sales.csv to sales (1).csv\n",
            "Saving stores.csv to stores (1).csv\n"
          ]
        }
      ]
    },
    {
      "cell_type": "code",
      "source": [
        "from pyspark.sql import SparkSession\n",
        "spark = SparkSession.builder.appName(\"ColabSpark\").getOrCreate()\n",
        "\n",
        "dfEmp = spark.read.csv(\"/content/employees.csv\", header=True, inferSchema=True)\n",
        "dfPro = spark.read.csv(\"/content/products.csv\", header=True, inferSchema=True)\n",
        "dfSal = spark.read.csv(\"/content/sales.csv\", header=True, inferSchema=True)\n",
        "dfSto = spark.read.csv(\"/content/stores.csv\", header=True, inferSchema=True)"
      ],
      "metadata": {
        "id": "e5iKCymB2JrY"
      },
      "execution_count": 18,
      "outputs": []
    },
    {
      "cell_type": "code",
      "source": [
        "dfEmp.printSchema()"
      ],
      "metadata": {
        "colab": {
          "base_uri": "https://localhost:8080/"
        },
        "id": "lpoohkDZ23rB",
        "outputId": "cd569c1f-4c11-485e-b138-eaa1ffe30bc4"
      },
      "execution_count": 10,
      "outputs": [
        {
          "output_type": "stream",
          "name": "stdout",
          "text": [
            "root\n",
            " |-- employeeid: integer (nullable = true)\n",
            " |-- name: string (nullable = true)\n",
            " |-- storeid: integer (nullable = true)\n",
            " |-- role: string (nullable = true)\n",
            " |-- hiredate: string (nullable = true)\n",
            "\n"
          ]
        }
      ]
    },
    {
      "cell_type": "code",
      "source": [
        "dfPro.printSchema()"
      ],
      "metadata": {
        "colab": {
          "base_uri": "https://localhost:8080/"
        },
        "id": "u5Inpecy28tU",
        "outputId": "87c9ebfd-3716-446a-cc11-78a0be373b41"
      },
      "execution_count": 11,
      "outputs": [
        {
          "output_type": "stream",
          "name": "stdout",
          "text": [
            "root\n",
            " |-- productid: integer (nullable = true)\n",
            " |-- name: string (nullable = true)\n",
            " |-- category: string (nullable = true)\n",
            " |-- price: double (nullable = true)\n",
            " |-- cost: double (nullable = true)\n",
            " |-- discountpercentage: integer (nullable = true)\n",
            " |-- createdat: string (nullable = true)\n",
            "\n"
          ]
        }
      ]
    },
    {
      "cell_type": "code",
      "source": [
        "dfSal.printSchema()"
      ],
      "metadata": {
        "colab": {
          "base_uri": "https://localhost:8080/"
        },
        "id": "vSNgaGxp2_qa",
        "outputId": "18c88d96-87ae-4faf-f5a2-a46ca7f45b32"
      },
      "execution_count": 12,
      "outputs": [
        {
          "output_type": "stream",
          "name": "stdout",
          "text": [
            "root\n",
            " |-- saleid: integer (nullable = true)\n",
            " |-- productid: integer (nullable = true)\n",
            " |-- storeid: integer (nullable = true)\n",
            " |-- employeeid: integer (nullable = true)\n",
            " |-- quantity: integer (nullable = true)\n",
            " |-- saledate: string (nullable = true)\n",
            "\n"
          ]
        }
      ]
    },
    {
      "cell_type": "code",
      "source": [
        "dfSto.printSchema()"
      ],
      "metadata": {
        "colab": {
          "base_uri": "https://localhost:8080/"
        },
        "id": "jAjnc78w3B47",
        "outputId": "20c81103-190a-4341-be27-b9bab0bec698"
      },
      "execution_count": 13,
      "outputs": [
        {
          "output_type": "stream",
          "name": "stdout",
          "text": [
            "root\n",
            " |-- storeid: integer (nullable = true)\n",
            " |-- name: string (nullable = true)\n",
            " |-- region: string (nullable = true)\n",
            " |-- address: string (nullable = true)\n",
            " |-- createdat: string (nullable = true)\n",
            "\n"
          ]
        }
      ]
    },
    {
      "cell_type": "markdown",
      "source": [
        "# Transforming and joining product + sales data"
      ],
      "metadata": {
        "id": "xkAkwOOi3Eb3"
      }
    },
    {
      "cell_type": "code",
      "source": [
        "dfProSales = dfPro.join(dfSal, on=\"productID\", how=\"inner\")"
      ],
      "metadata": {
        "id": "b96c4cyc3Jj7"
      },
      "execution_count": 19,
      "outputs": []
    },
    {
      "cell_type": "code",
      "source": [
        "dfProSales = dfProSales.withColumn(\"daysToSell\",F.datediff(F.col(\"saledate\"), F.col(\"createdat\")))"
      ],
      "metadata": {
        "id": "E6SilpJo3NL4"
      },
      "execution_count": 22,
      "outputs": []
    },
    {
      "cell_type": "code",
      "source": [
        "from pyspark.sql import functions as F\n",
        "\n",
        "# Calculate Margin and Margin %\n",
        "dfProSales = dfProSales.withColumn(\"Margin\", F.col(\"price\") - F.col(\"cost\")).withColumn(\"MarginPct\", ((F.col(\"price\") - F.col(\"cost\")) / F.col(\"price\")) * 100)\n",
        "\n",
        "# Now aggregate\n",
        "categoryReport = dfProSales.groupBy(\"category\").agg(\n",
        "    F.round(F.mean(\"MarginPct\"), 2).alias(\"averageMarginPct\"),\n",
        "    F.round(F.mean(\"daysToSell\"), 2).alias(\"averageDaysTakesToSell\"),\n",
        "    F.round(F.mean(\"Margin\"), 2).alias(\"averageMarginINR\"),\n",
        "    F.round(F.mean(\"quantity\"), 2).alias(\"averageQTYperBuy\"),\n",
        "    F.sum(\"quantity\").alias(\"totalQuantitySold\"))\n",
        "categoryReport.show()\n"
      ],
      "metadata": {
        "colab": {
          "base_uri": "https://localhost:8080/"
        },
        "id": "tO24Xner4QKM",
        "outputId": "568797dc-1fcc-4cfe-c034-89ef402430c9"
      },
      "execution_count": 27,
      "outputs": [
        {
          "output_type": "stream",
          "name": "stdout",
          "text": [
            "+-----------+----------------+----------------------+----------------+----------------+-----------------+\n",
            "|   category|averageMarginPct|averageDaysTakesToSell|averageMarginINR|averageQTYperBuy|totalQuantitySold|\n",
            "+-----------+----------------+----------------------+----------------+----------------+-----------------+\n",
            "|    apparel|           44.36|                  NULL|            21.0|            12.4|               62|\n",
            "| home goods|           42.73|                  NULL|            10.5|             7.5|               30|\n",
            "|    grocery|            38.9|                  NULL|            1.78|            28.0|              140|\n",
            "|electronics|            25.4|                  NULL|          154.83|            4.33|               26|\n",
            "+-----------+----------------+----------------------+----------------+----------------+-----------------+\n",
            "\n"
          ]
        }
      ]
    },
    {
      "cell_type": "markdown",
      "source": [
        "# Saving final metrics"
      ],
      "metadata": {
        "id": "4oxUSJOd5HHq"
      }
    },
    {
      "cell_type": "code",
      "source": [
        "from google.colab import drive\n",
        "drive.mount('/content/drive')\n",
        "\n",
        "categoryReport.coalesce(1).write.mode(\"overwrite\").csv(\"/content/drive/MyDrive/categoryReport\", header=True)"
      ],
      "metadata": {
        "colab": {
          "base_uri": "https://localhost:8080/"
        },
        "id": "7Mi5Mmta5Icc",
        "outputId": "949d5c54-4361-430f-c0cd-a7f2f2e21fd3"
      },
      "execution_count": 29,
      "outputs": [
        {
          "output_type": "stream",
          "name": "stdout",
          "text": [
            "Mounted at /content/drive\n"
          ]
        }
      ]
    },
    {
      "cell_type": "markdown",
      "source": [
        "# Databricks SQL cell to find top 3 best-selling products"
      ],
      "metadata": {
        "id": "zV_bGBlS5pjA"
      }
    },
    {
      "cell_type": "code",
      "source": [
        "spark.sql(\"CREATE DATABASE product_sales\")\n",
        "spark.sql(\"USE product_sales\")"
      ],
      "metadata": {
        "colab": {
          "base_uri": "https://localhost:8080/"
        },
        "id": "3rMqlLX75qjU",
        "outputId": "18923be9-07c7-4ad9-bb37-13d9262a3c6a"
      },
      "execution_count": 30,
      "outputs": [
        {
          "output_type": "execute_result",
          "data": {
            "text/plain": [
              "DataFrame[]"
            ]
          },
          "metadata": {},
          "execution_count": 30
        }
      ]
    },
    {
      "cell_type": "code",
      "source": [
        "dfProSales.write.mode(\"overwrite\").saveAsTable(\"product_sales.pro_sales\")"
      ],
      "metadata": {
        "id": "zyS5Kdlq5tiw"
      },
      "execution_count": 31,
      "outputs": []
    },
    {
      "cell_type": "code",
      "source": [
        "prodReport = spark.sql(\"\"\"SELECT productID, name, SUM(quantity) AS SoldQty, SUM(Margin * quantity) AS RevenueGenerated FROM pro_sales\n",
        "GROUP BY productID, name\n",
        "ORDER BY SUM(quantity) DESC\n",
        "LIMIT 3\"\"\")\n",
        "prodReport.show()"
      ],
      "metadata": {
        "colab": {
          "base_uri": "https://localhost:8080/"
        },
        "id": "rHECH1yN5wFg",
        "outputId": "3fd2f425-3b59-4643-87ed-1fb322be10ff"
      },
      "execution_count": 32,
      "outputs": [
        {
          "output_type": "stream",
          "name": "stdout",
          "text": [
            "+---------+---------------+-------+----------------+\n",
            "|productID|           name|SoldQty|RevenueGenerated|\n",
            "+---------+---------------+-------+----------------+\n",
            "|        2|organic bananas|    122|           122.0|\n",
            "|        3|    denim jeans|     36|           720.0|\n",
            "|        5|  led desk lamp|     21|           210.0|\n",
            "+---------+---------------+-------+----------------+\n",
            "\n"
          ]
        }
      ]
    },
    {
      "cell_type": "markdown",
      "source": [
        "# Deliverables\n",
        "###Databricks notebook with ETL logic\n",
        "###Saved output files for dashboard use"
      ],
      "metadata": {
        "id": "J3hqoK5i55Qw"
      }
    },
    {
      "cell_type": "code",
      "source": [
        "# 1. databricks notebook is saved in .ipynb format in week-4 of project in git repo"
      ],
      "metadata": {
        "id": "yCnPRZNm6GB4"
      },
      "execution_count": null,
      "outputs": []
    },
    {
      "cell_type": "code",
      "source": [
        "prodReport.coalesce(1).write.mode(\"overwrite\").csv(\"/content/drive/MyDrive/productMetrics\", header=True)\n",
        "categoryReport.coalesce(1).write.mode(\"overwrite\").csv(\"/content/drive/MyDrive/categoryMetrics\", header=True)"
      ],
      "metadata": {
        "id": "zp6VPm1p6JUT"
      },
      "execution_count": 35,
      "outputs": []
    },
    {
      "cell_type": "code",
      "source": [
        "import shutil\n",
        "import os\n",
        "\n",
        "# For prodReport\n",
        "prod_csv_file = [f for f in os.listdir(\"/content/drive/MyDrive/productMetrics\") if f.startswith(\"part-\")][0]\n",
        "shutil.copy(f\"/content/drive/MyDrive/productMetrics/{prod_csv_file}\", \"/content/drive/MyDrive/prodReport.csv\")\n",
        "\n",
        "# For categoryReport\n",
        "cat_csv_file = [f for f in os.listdir(\"/content/drive/MyDrive/categoryMetrics\") if f.startswith(\"part-\")][0]\n",
        "shutil.copy(f\"/content/drive/MyDrive/categoryMetrics/{cat_csv_file}\", \"/content/drive/MyDrive/categoryReport.csv\")"
      ],
      "metadata": {
        "colab": {
          "base_uri": "https://localhost:8080/",
          "height": 36
        },
        "id": "BrkG_I2M9L6g",
        "outputId": "16daae43-b96b-45ed-f028-ea9859748abb"
      },
      "execution_count": 37,
      "outputs": [
        {
          "output_type": "execute_result",
          "data": {
            "text/plain": [
              "'/content/drive/MyDrive/categoryReport.csv'"
            ],
            "application/vnd.google.colaboratory.intrinsic+json": {
              "type": "string"
            }
          },
          "metadata": {},
          "execution_count": 37
        }
      ]
    },
    {
      "cell_type": "markdown",
      "source": [
        "# Visualization"
      ],
      "metadata": {
        "id": "cvk7yiA4-DT4"
      }
    },
    {
      "cell_type": "code",
      "source": [
        "visual_1 = prodReport.toPandas()\n",
        "visual_2 = categoryReport.toPandas()"
      ],
      "metadata": {
        "id": "Y_kU0B4u-ERH"
      },
      "execution_count": 39,
      "outputs": []
    },
    {
      "cell_type": "code",
      "source": [
        "visual_1.plot.bar(x=\"name\", y=[\"SoldQty\", \"RevenueGenerated\"], figsize=(8, 6))"
      ],
      "metadata": {
        "colab": {
          "base_uri": "https://localhost:8080/",
          "height": 625
        },
        "id": "ggK4WnHk-JAc",
        "outputId": "eec2df74-5428-4aa9-bfd6-c0a39fc874da"
      },
      "execution_count": 40,
      "outputs": [
        {
          "output_type": "execute_result",
          "data": {
            "text/plain": [
              "<Axes: xlabel='name'>"
            ]
          },
          "metadata": {},
          "execution_count": 40
        },
        {
          "output_type": "display_data",
          "data": {
            "text/plain": [
              "<Figure size 800x600 with 1 Axes>"
            ],
            "image/png": "[encoded data removed]"
          },
          "metadata": {}
        }
      ]
    },
    {
      "cell_type": "code",
      "source": [
        "visual_2.plot.bar(x=\"category\", y=[\"averageMarginPct\", \"averageMarginINR\"], figsize=(8, 6))"
      ],
      "metadata": {
        "colab": {
          "base_uri": "https://localhost:8080/",
          "height": 596
        },
        "id": "voZLWS2a-Mmd",
        "outputId": "7231bdc6-8193-4375-d8d0-f25524a2a779"
      },
      "execution_count": 45,
      "outputs": [
        {
          "output_type": "execute_result",
          "data": {
            "text/plain": [
              "<Axes: xlabel='category'>"
            ]
          },
          "metadata": {},
          "execution_count": 45
        },
        {
          "output_type": "display_data",
          "data": {
            "text/plain": [
              "<Figure size 800x600 with 1 Axes>"
            ],
            "image/png": "[encoded data removed]"
          },
          "metadata": {}
        }
      ]
    },
    {
      "cell_type": "code",
      "source": [
        "visual_2.plot.bar(x=\"category\", y=[\"averageDaysTakesToSell\", \"averageQTYperBuy\"], figsize=(8, 6))"
      ],
      "metadata": {
        "colab": {
          "base_uri": "https://localhost:8080/",
          "height": 604
        },
        "id": "0REBqB4f-oRD",
        "outputId": "eb59a294-95a7-4752-92b0-354ceda7315f"
      },
      "execution_count": 46,
      "outputs": [
        {
          "output_type": "execute_result",
          "data": {
            "text/plain": [
              "<Axes: xlabel='category'>"
            ]
          },
          "metadata": {},
          "execution_count": 46
        },
        {
          "output_type": "display_data",
          "data": {
            "text/plain": [
              "<Figure size 800x600 with 1 Axes>"
            ],
            "image/png": "[encoded data removed]"
          },
          "metadata": {}
        }
      ]
    },
    {
      "cell_type": "code",
      "source": [
        "visual_2.set_index(\"category\")[\"totalQuantitySold\"].plot.pie(autopct=\"%1.1f%%\", figsize=(8, 6))"
      ],
      "metadata": {
        "id": "guu1FpOS-9OY",
        "outputId": "808b64a2-988b-4cdf-80db-c4428db7ead4",
        "colab": {
          "base_uri": "https://localhost:8080/",
          "height": 517
        }
      },
      "execution_count": 48,
      "outputs": [
        {
          "output_type": "execute_result",
          "data": {
            "text/plain": [
              "<Axes: ylabel='totalQuantitySold'>"
            ]
          },
          "metadata": {},
          "execution_count": 48
        },
        {
          "output_type": "display_data",
          "data": {
            "text/plain": [
              "<Figure size 800x600 with 1 Axes>"
            ],
            "image/png": "[encoded data removed]"
          },
          "metadata": {}
        }
      ]
    }
  ]
}