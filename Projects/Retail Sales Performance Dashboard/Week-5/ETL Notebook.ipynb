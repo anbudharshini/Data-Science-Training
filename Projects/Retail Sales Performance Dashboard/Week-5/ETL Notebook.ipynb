{
  "nbformat": 4,
  "nbformat_minor": 0,
  "metadata": {
    "colab": {
      "provenance": []
    },
    "kernelspec": {
      "name": "python3",
      "display_name": "Python 3"
    },
    "language_info": {
      "name": "python"
    }
  },
  "cells": [
    {
      "cell_type": "markdown",
      "source": [
        "# **Week -5**"
      ],
      "metadata": {
        "id": "lz9y9V8z50Wf"
      }
    },
    {
      "cell_type": "code",
      "execution_count": null,
      "metadata": {
        "id": "6E-Gjabs5vd4"
      },
      "outputs": [],
      "source": [
        "from pyspark.sql import SparkSession\n",
        "from pyspark.sql import functions as F"
      ]
    },
    {
      "cell_type": "code",
      "source": [
        "spark = SparkSession.builder.appName(\"ETL\").getOrCreate()\n",
        "spark"
      ],
      "metadata": {
        "id": "6x9UCspJ59wb",
        "outputId": "fece3e15-c873-46d3-c076-5e1c82e13615",
        "colab": {
          "base_uri": "https://localhost:8080/",
          "height": 222
        }
      },
      "execution_count": null,
      "outputs": [
        {
          "output_type": "execute_result",
          "data": {
            "text/plain": [
              "<pyspark.sql.session.SparkSession at 0x7b3e302dcb60>"
            ],
            "text/html": [
              "\n",
              "            <div>\n",
              "                <p><b>SparkSession - in-memory</b></p>\n",
              "                \n",
              "        <div>\n",
              "            <p><b>SparkContext</b></p>\n",
              "\n",
              "            <p><a href=\"http://ef94373491c8:4040\">Spark UI</a></p>\n",
              "\n",
              "            <dl>\n",
              "              <dt>Version</dt>\n",
              "                <dd><code>v3.5.1</code></dd>\n",
              "              <dt>Master</dt>\n",
              "                <dd><code>local[*]</code></dd>\n",
              "              <dt>AppName</dt>\n",
              "                <dd><code>ETL</code></dd>\n",
              "            </dl>\n",
              "        </div>\n",
              "        \n",
              "            </div>\n",
              "        "
            ]
          },
          "metadata": {},
          "execution_count": 2
        }
      ]
    },
    {
      "cell_type": "code",
      "source": [
        "from google.colab import files\n",
        "uploaded = files.upload()"
      ],
      "metadata": {
        "colab": {
          "base_uri": "https://localhost:8080/",
          "height": 180
        },
        "id": "uQYJaGO-7Et6",
        "outputId": "16cdbab7-0264-4012-a644-b48fd9256ce5"
      },
      "execution_count": 3,
      "outputs": [
        {
          "output_type": "display_data",
          "data": {
            "text/plain": [
              "<IPython.core.display.HTML object>"
            ],
            "text/html": [
              "\n",
              "     <input type=\"file\" id=\"files-b66969a8-eeb0-4af4-bc54-69268e8ef55d\" name=\"files[]\" multiple disabled\n",
              "        style=\"border:none\" />\n",
              "     <output id=\"result-b66969a8-eeb0-4af4-bc54-69268e8ef55d\">\n",
              "      Upload widget is only available when the cell has been executed in the\n",
              "      current browser session. Please rerun this cell to enable.\n",
              "      </output>\n",
              "      <script>// Copyright 2017 Google LLC\n",
              "//\n",
              "// Licensed under the Apache License, Version 2.0 (the \"License\");\n",
              "// you may not use this file except in compliance with the License.\n",
              "// You may obtain a copy of the License at\n",
              "//\n",
              "//      http://www.apache.org/licenses/LICENSE-2.0\n",
              "//\n",
              "// Unless required by applicable law or agreed to in writing, software\n",
              "// distributed under the License is distributed on an \"AS IS\" BASIS,\n",
              "// WITHOUT WARRANTIES OR CONDITIONS OF ANY KIND, either express or implied.\n",
              "// See the License for the specific language governing permissions and\n",
              "// limitations under the License.\n",
              "\n",
              "/**\n",
              " * @fileoverview Helpers for google.colab Python module.\n",
              " */\n",
              "(function(scope) {\n",
              "function span(text, styleAttributes = {}) {\n",
              "  const element = document.createElement('span');\n",
              "  element.textContent = text;\n",
              "  for (const key of Object.keys(styleAttributes)) {\n",
              "    element.style[key] = styleAttributes[key];\n",
              "  }\n",
              "  return element;\n",
              "}\n",
              "\n",
              "// Max number of bytes which will be uploaded at a time.\n",
              "const MAX_PAYLOAD_SIZE = 100 * 1024;\n",
              "\n",
              "function _uploadFiles(inputId, outputId) {\n",
              "  const steps = uploadFilesStep(inputId, outputId);\n",
              "  const outputElement = document.getElementById(outputId);\n",
              "  // Cache steps on the outputElement to make it available for the next call\n",
              "  // to uploadFilesContinue from Python.\n",
              "  outputElement.steps = steps;\n",
              "\n",
              "  return _uploadFilesContinue(outputId);\n",
              "}\n",
              "\n",
              "// This is roughly an async generator (not supported in the browser yet),\n",
              "// where there are multiple asynchronous steps and the Python side is going\n",
              "// to poll for completion of each step.\n",
              "// This uses a Promise to block the python side on completion of each step,\n",
              "// then passes the result of the previous step as the input to the next step.\n",
              "function _uploadFilesContinue(outputId) {\n",
              "  const outputElement = document.getElementById(outputId);\n",
              "  const steps = outputElement.steps;\n",
              "\n",
              "  const next = steps.next(outputElement.lastPromiseValue);\n",
              "  return Promise.resolve(next.value.promise).then((value) => {\n",
              "    // Cache the last promise value to make it available to the next\n",
              "    // step of the generator.\n",
              "    outputElement.lastPromiseValue = value;\n",
              "    return next.value.response;\n",
              "  });\n",
              "}\n",
              "\n",
              "/**\n",
              " * Generator function which is called between each async step of the upload\n",
              " * process.\n",
              " * @param {string} inputId Element ID of the input file picker element.\n",
              " * @param {string} outputId Element ID of the output display.\n",
              " * @return {!Iterable<!Object>} Iterable of next steps.\n",
              " */\n",
              "function* uploadFilesStep(inputId, outputId) {\n",
              "  const inputElement = document.getElementById(inputId);\n",
              "  inputElement.disabled = false;\n",
              "\n",
              "  const outputElement = document.getElementById(outputId);\n",
              "  outputElement.innerHTML = '';\n",
              "\n",
              "  const pickedPromise = new Promise((resolve) => {\n",
              "    inputElement.addEventListener('change', (e) => {\n",
              "      resolve(e.target.files);\n",
              "    });\n",
              "  });\n",
              "\n",
              "  const cancel = document.createElement('button');\n",
              "  inputElement.parentElement.appendChild(cancel);\n",
              "  cancel.textContent = 'Cancel upload';\n",
              "  const cancelPromise = new Promise((resolve) => {\n",
              "    cancel.onclick = () => {\n",
              "      resolve(null);\n",
              "    };\n",
              "  });\n",
              "\n",
              "  // Wait for the user to pick the files.\n",
              "  const files = yield {\n",
              "    promise: Promise.race([pickedPromise, cancelPromise]),\n",
              "    response: {\n",
              "      action: 'starting',\n",
              "    }\n",
              "  };\n",
              "\n",
              "  cancel.remove();\n",
              "\n",
              "  // Disable the input element since further picks are not allowed.\n",
              "  inputElement.disabled = true;\n",
              "\n",
              "  if (!files) {\n",
              "    return {\n",
              "      response: {\n",
              "        action: 'complete',\n",
              "      }\n",
              "    };\n",
              "  }\n",
              "\n",
              "  for (const file of files) {\n",
              "    const li = document.createElement('li');\n",
              "    li.append(span(file.name, {fontWeight: 'bold'}));\n",
              "    li.append(span(\n",
              "        `(${file.type || 'n/a'}) - ${file.size} bytes, ` +\n",
              "        `last modified: ${\n",
              "            file.lastModifiedDate ? file.lastModifiedDate.toLocaleDateString() :\n",
              "                                    'n/a'} - `));\n",
              "    const percent = span('0% done');\n",
              "    li.appendChild(percent);\n",
              "\n",
              "    outputElement.appendChild(li);\n",
              "\n",
              "    const fileDataPromise = new Promise((resolve) => {\n",
              "      const reader = new FileReader();\n",
              "      reader.onload = (e) => {\n",
              "        resolve(e.target.result);\n",
              "      };\n",
              "      reader.readAsArrayBuffer(file);\n",
              "    });\n",
              "    // Wait for the data to be ready.\n",
              "    let fileData = yield {\n",
              "      promise: fileDataPromise,\n",
              "      response: {\n",
              "        action: 'continue',\n",
              "      }\n",
              "    };\n",
              "\n",
              "    // Use a chunked sending to avoid message size limits. See b/62115660.\n",
              "    let position = 0;\n",
              "    do {\n",
              "      const length = Math.min(fileData.byteLength - position, MAX_PAYLOAD_SIZE);\n",
              "      const chunk = new Uint8Array(fileData, position, length);\n",
              "      position += length;\n",
              "\n",
              "      const base64 = btoa(String.fromCharCode.apply(null, chunk));\n",
              "      yield {\n",
              "        response: {\n",
              "          action: 'append',\n",
              "          file: file.name,\n",
              "          data: base64,\n",
              "        },\n",
              "      };\n",
              "\n",
              "      let percentDone = fileData.byteLength === 0 ?\n",
              "          100 :\n",
              "          Math.round((position / fileData.byteLength) * 100);\n",
              "      percent.textContent = `${percentDone}% done`;\n",
              "\n",
              "    } while (position < fileData.byteLength);\n",
              "  }\n",
              "\n",
              "  // All done.\n",
              "  yield {\n",
              "    response: {\n",
              "      action: 'complete',\n",
              "    }\n",
              "  };\n",
              "}\n",
              "\n",
              "scope.google = scope.google || {};\n",
              "scope.google.colab = scope.google.colab || {};\n",
              "scope.google.colab._files = {\n",
              "  _uploadFiles,\n",
              "  _uploadFilesContinue,\n",
              "};\n",
              "})(self);\n",
              "</script> "
            ]
          },
          "metadata": {}
        },
        {
          "output_type": "stream",
          "name": "stdout",
          "text": [
            "Saving employees.csv to employees.csv\n",
            "Saving products.csv to products.csv\n",
            "Saving sales.csv to sales.csv\n",
            "Saving stores.csv to stores.csv\n"
          ]
        }
      ]
    },
    {
      "cell_type": "markdown",
      "source": [
        "# **Loading data**"
      ],
      "metadata": {
        "id": "MJ68nXDo7MMb"
      }
    },
    {
      "cell_type": "code",
      "source": [
        "dfProd = spark.read.csv(r\"/content/products.csv\", header=True, inferSchema=True)\n",
        "dfEmp = spark.read.csv(r\"/content/employees.csv\", header=True, inferSchema=True)\n",
        "dfSales = spark.read.csv(r\"/content/sales.csv\", header=True, inferSchema=True)\n",
        "dfStores = spark.read.csv(r\"/content/stores.csv\", header=True, inferSchema=True)"
      ],
      "metadata": {
        "id": "eN5dXpq27U6j"
      },
      "execution_count": 4,
      "outputs": []
    },
    {
      "cell_type": "markdown",
      "source": [
        "# **Printing Data**"
      ],
      "metadata": {
        "id": "BHJ1gIK274-b"
      }
    },
    {
      "cell_type": "code",
      "source": [
        "dfProd.show()"
      ],
      "metadata": {
        "colab": {
          "base_uri": "https://localhost:8080/"
        },
        "id": "B60rDjVt78vT",
        "outputId": "092edaa2-6606-466f-caf5-10e0f53771a1"
      },
      "execution_count": 6,
      "outputs": [
        {
          "output_type": "stream",
          "name": "stdout",
          "text": [
            "+---------+--------------------+-----------+------+------+------------------+----------------+\n",
            "|productid|                name|   category| price|  cost|discountpercentage|       createdat|\n",
            "+---------+--------------------+-----------+------+------+------------------+----------------+\n",
            "|        1|    gaming laptop 16|electronics|1500.0|1200.0|                 8|23-07-2025 11:28|\n",
            "|        2|     organic bananas|    grocery|   2.5|   1.5|                 3|23-07-2025 11:28|\n",
            "|        3|         denim jeans|    apparel|  40.0|  20.0|                12|23-07-2025 11:28|\n",
            "|        4|    wireless earbuds|electronics|  80.0|  55.0|                15|23-07-2025 11:28|\n",
            "|        5|       led desk lamp| home goods|  22.0|  12.0|                 0|23-07-2025 11:28|\n",
            "|        6|      instant coffee|    grocery|   5.0|   3.0|                 5|24-07-2025 10:30|\n",
            "|        7| men�s running shoes|    apparel|  65.0|  40.0|                10|24-07-2025 10:32|\n",
            "|        8|       smartphone 5G|electronics| 999.0| 750.0|                 7|24-07-2025 10:35|\n",
            "|        9|  memory foam pillow| home goods|  30.0|  18.0|                 6|24-07-2025 10:40|\n",
            "|       10|   gluten-free bread|    grocery|   4.2|   2.8|                 2|24-07-2025 10:42|\n",
            "|       11|      women�s jacket|    apparel|  90.0|  60.0|                11|25-07-2025 11:10|\n",
            "|       12|   bluetooth speaker|electronics| 120.0|  90.0|                13|25-07-2025 11:15|\n",
            "|       13|   washing detergent|    grocery|   8.5|   5.0|                 1|25-07-2025 11:17|\n",
            "|       14|        reading lamp| home goods|  25.0|  15.0|                 4|25-07-2025 11:20|\n",
            "|       15|       men�s t-shirt|    apparel|  20.0|  10.0|                 9|25-07-2025 11:25|\n",
            "|       16|        laptop stand| home goods|  35.0|  20.0|                 3|26-07-2025 09:00|\n",
            "|       17|noise-canceling h...|electronics| 180.0| 140.0|                10|26-07-2025 09:15|\n",
            "|       18|            avocados|    grocery|   3.2|   2.0|                 2|26-07-2025 09:30|\n",
            "|       19|       women�s jeans|    apparel|  50.0|  30.0|                 5|26-07-2025 09:45|\n",
            "|       20|        bedsheet set| home goods|  60.0|  35.0|                 6|26-07-2025 10:00|\n",
            "+---------+--------------------+-----------+------+------+------------------+----------------+\n",
            "\n"
          ]
        }
      ]
    },
    {
      "cell_type": "code",
      "source": [
        "dfEmp.show()"
      ],
      "metadata": {
        "colab": {
          "base_uri": "https://localhost:8080/"
        },
        "id": "gTqNLtWc8Ogy",
        "outputId": "8f2b48a5-04f2-4edc-a2cd-13bb8cca9d10"
      },
      "execution_count": 7,
      "outputs": [
        {
          "output_type": "stream",
          "name": "stdout",
          "text": [
            "+----------+--------------+-------+---------------+----------------+\n",
            "|employeeid|          name|storeid|           role|        hiredate|\n",
            "+----------+--------------+-------+---------------+----------------+\n",
            "|         1|  michael reed|      1|        cashier|23-07-2025 11:28|\n",
            "|         2|     susan lee|      2|        manager|23-07-2025 11:28|\n",
            "|         3|    david park|      3|sales associate|23-07-2025 11:28|\n",
            "|         4|   emma thomas|      4|     supervisor|23-07-2025 11:28|\n",
            "|         5|   lisa nguyen|      5|    stock clerk|23-07-2025 11:28|\n",
            "|         6|   james smith|      1|       security|24-07-2025 09:15|\n",
            "|         7| sophia turner|      2|        cashier|24-07-2025 10:45|\n",
            "|         8|      ryan kim|      3|        manager|24-07-2025 11:00|\n",
            "|         9|    nina brown|      4|    stock clerk|24-07-2025 08:50|\n",
            "|        10|  alex johnson|      5|     supervisor|24-07-2025 12:05|\n",
            "|        11|   chloe davis|      1|sales associate|25-07-2025 09:22|\n",
            "|        12|  daniel moore|      2|        cashier|25-07-2025 10:40|\n",
            "|        13|  olivia scott|      3|        manager|25-07-2025 11:35|\n",
            "|        14|     brian lee|      4|       security|25-07-2025 07:55|\n",
            "|        15|    ava walker|      5|    stock clerk|25-07-2025 13:10|\n",
            "|        16|     noah hall|      1|     supervisor|26-07-2025 10:00|\n",
            "|        17|isabella young|      2|sales associate|26-07-2025 10:50|\n",
            "|        18|     liam king|      3|        cashier|26-07-2025 09:30|\n",
            "|        19|   grace adams|      4|        manager|26-07-2025 08:45|\n",
            "|        20|   ethan green|      5|       security|26-07-2025 12:15|\n",
            "+----------+--------------+-------+---------------+----------------+\n",
            "\n"
          ]
        }
      ]
    },
    {
      "cell_type": "code",
      "source": [
        "dfSales.show()"
      ],
      "metadata": {
        "colab": {
          "base_uri": "https://localhost:8080/"
        },
        "id": "iNBXwiqc8RsB",
        "outputId": "dd30b774-39fa-43fe-9883-5a3b739ab7a4"
      },
      "execution_count": 8,
      "outputs": [
        {
          "output_type": "stream",
          "name": "stdout",
          "text": [
            "+------+---------+-------+----------+--------+----------------+\n",
            "|saleid|productid|storeid|employeeid|quantity|        saledate|\n",
            "+------+---------+-------+----------+--------+----------------+\n",
            "|     1|        1|      1|         1|       3|23-07-2025 11:28|\n",
            "|     2|        2|      2|         2|     120|23-07-2025 11:28|\n",
            "|     3|        3|      3|         3|      25|23-07-2025 11:28|\n",
            "|     4|        4|      4|         4|       8|23-07-2025 11:28|\n",
            "|     5|        5|      5|         5|      15|23-07-2025 11:28|\n",
            "|     6|        6|      1|         1|       2|24-07-2025 09:10|\n",
            "|     7|        7|      2|         2|       4|24-07-2025 09:20|\n",
            "|     8|        8|      3|         3|       1|24-07-2025 09:30|\n",
            "|     9|        9|      4|         4|       5|24-07-2025 10:00|\n",
            "|    10|       10|      5|         5|       7|24-07-2025 10:15|\n",
            "|    11|       11|      1|         1|      12|25-07-2025 11:00|\n",
            "|    12|       12|      2|         2|       6|25-07-2025 11:20|\n",
            "|    13|       13|      3|         3|       9|25-07-2025 12:00|\n",
            "|    14|       14|      4|         4|       4|25-07-2025 12:30|\n",
            "|    15|       15|      5|         5|      10|25-07-2025 13:00|\n",
            "|    16|        1|      2|         6|       5|26-07-2025 14:00|\n",
            "|    17|        2|      3|         7|       2|26-07-2025 14:20|\n",
            "|    18|        3|      4|         8|      11|26-07-2025 14:45|\n",
            "|    19|        4|      5|         9|       3|26-07-2025 15:00|\n",
            "|    20|        5|      1|        10|       6|26-07-2025 15:30|\n",
            "+------+---------+-------+----------+--------+----------------+\n",
            "\n"
          ]
        }
      ]
    },
    {
      "cell_type": "code",
      "source": [
        "dfStores.show()"
      ],
      "metadata": {
        "colab": {
          "base_uri": "https://localhost:8080/"
        },
        "id": "WQnDfXFv8T8-",
        "outputId": "81f08dfa-387e-4a1e-aaa5-e9ee6dc22390"
      },
      "execution_count": 9,
      "outputs": [
        {
          "output_type": "stream",
          "name": "stdout",
          "text": [
            "+-------+-----------------+----------+--------------------+----------------+\n",
            "|storeid|             name|    region|             address|       createdat|\n",
            "+-------+-----------------+----------+--------------------+----------------+\n",
            "|      1|   city mart - ny| northeast|123 Madison Ave, ...|23-07-2025 11:27|\n",
            "|      2| budget shop - la|west coast|456 Sunset Blvd, ...|23-07-2025 11:27|\n",
            "|      3|fresh bodega - tx|     south|789 Lakeview Dr, ...|23-07-2025 11:27|\n",
            "|      4| super saver - il|   midwest|101 River Rd, Chi...|23-07-2025 11:27|\n",
            "|      5| sunny store - fl| southeast|202 Ocean Dr, Mia...|23-07-2025 11:27|\n",
            "|      6| north value mart| northeast|315 Lexington Ave...|24-07-2025 10:00|\n",
            "|      7|    pacific goods|west coast|789 Bay St, San F...|24-07-2025 10:00|\n",
            "|      8|  heartland deals|   midwest|420 Elm St, Colum...|24-07-2025 10:00|\n",
            "|      9|       delta mart|     south|231 Peach Ave, At...|24-07-2025 10:00|\n",
            "|     10|    tropic market| southeast|890 Palm Blvd, Or...|24-07-2025 10:00|\n",
            "|     11|     metro market| northeast|555 Broadway, Bos...|24-07-2025 10:00|\n",
            "|     12| urban essentials|west coast|321 Vine St, Seat...|24-07-2025 10:00|\n",
            "|     13|       value zone|   midwest|678 Pine Ave, St....|24-07-2025 10:00|\n",
            "|     14|capital groceries|     south|987 Capital Dr, A...|24-07-2025 10:00|\n",
            "|     15|    gulfside mart| southeast|432 Ocean Way, Ta...|24-07-2025 10:00|\n",
            "|     16| eastside express| northeast|210 Hudson St, Ne...|24-07-2025 10:00|\n",
            "|     17|         west hub|west coast|654 Hilltop Rd, P...|24-07-2025 10:00|\n",
            "|     18|    central value|   midwest|312 Maple St, Mil...|24-07-2025 10:00|\n",
            "|     19|southern supplies|     south|403 Riverwalk Blv...|24-07-2025 10:00|\n",
            "|     20|    coastal depot| southeast|222 Beach Rd, Jac...|24-07-2025 10:00|\n",
            "+-------+-----------------+----------+--------------------+----------------+\n",
            "\n"
          ]
        }
      ]
    },
    {
      "cell_type": "markdown",
      "source": [
        "# **Printing the schemas**"
      ],
      "metadata": {
        "id": "IMPXH7cu8WhD"
      }
    },
    {
      "cell_type": "code",
      "source": [
        "dfEmp.printSchema()"
      ],
      "metadata": {
        "colab": {
          "base_uri": "https://localhost:8080/"
        },
        "id": "Q5YOkuTw8dwa",
        "outputId": "07f4631f-e23f-4935-d010-09023c90a629"
      },
      "execution_count": 10,
      "outputs": [
        {
          "output_type": "stream",
          "name": "stdout",
          "text": [
            "root\n",
            " |-- employeeid: integer (nullable = true)\n",
            " |-- name: string (nullable = true)\n",
            " |-- storeid: integer (nullable = true)\n",
            " |-- role: string (nullable = true)\n",
            " |-- hiredate: string (nullable = true)\n",
            "\n"
          ]
        }
      ]
    },
    {
      "cell_type": "code",
      "source": [
        "dfProd.printSchema()"
      ],
      "metadata": {
        "colab": {
          "base_uri": "https://localhost:8080/"
        },
        "id": "axrrxpa88ipH",
        "outputId": "53377b6e-6bb7-42fb-88eb-05cd42426b40"
      },
      "execution_count": 11,
      "outputs": [
        {
          "output_type": "stream",
          "name": "stdout",
          "text": [
            "root\n",
            " |-- productid: integer (nullable = true)\n",
            " |-- name: string (nullable = true)\n",
            " |-- category: string (nullable = true)\n",
            " |-- price: double (nullable = true)\n",
            " |-- cost: double (nullable = true)\n",
            " |-- discountpercentage: integer (nullable = true)\n",
            " |-- createdat: string (nullable = true)\n",
            "\n"
          ]
        }
      ]
    },
    {
      "cell_type": "code",
      "source": [
        "dfSales.printSchema()"
      ],
      "metadata": {
        "colab": {
          "base_uri": "https://localhost:8080/"
        },
        "id": "wHEFPi-O8lEA",
        "outputId": "644ed898-62be-40a6-9dce-3a5ebb41100a"
      },
      "execution_count": 12,
      "outputs": [
        {
          "output_type": "stream",
          "name": "stdout",
          "text": [
            "root\n",
            " |-- saleid: integer (nullable = true)\n",
            " |-- productid: integer (nullable = true)\n",
            " |-- storeid: integer (nullable = true)\n",
            " |-- employeeid: integer (nullable = true)\n",
            " |-- quantity: integer (nullable = true)\n",
            " |-- saledate: string (nullable = true)\n",
            "\n"
          ]
        }
      ]
    },
    {
      "cell_type": "code",
      "source": [
        "dfStores.printSchema()"
      ],
      "metadata": {
        "colab": {
          "base_uri": "https://localhost:8080/"
        },
        "id": "DluW5dJ68m78",
        "outputId": "7677842e-3a71-451d-e70f-cba521a8c468"
      },
      "execution_count": 13,
      "outputs": [
        {
          "output_type": "stream",
          "name": "stdout",
          "text": [
            "root\n",
            " |-- storeid: integer (nullable = true)\n",
            " |-- name: string (nullable = true)\n",
            " |-- region: string (nullable = true)\n",
            " |-- address: string (nullable = true)\n",
            " |-- createdat: string (nullable = true)\n",
            "\n"
          ]
        }
      ]
    },
    {
      "cell_type": "markdown",
      "source": [
        "# **Lowest performing stores**"
      ],
      "metadata": {
        "id": "u833v93i-H8v"
      }
    },
    {
      "cell_type": "code",
      "source": [
        "import pyspark.sql.functions as F\n",
        "\n",
        "dfRevenue = (dfSales\n",
        "             .join(dfProd, on=\"productid\", how=\"inner\")\n",
        "             .join(dfStores, on=\"storeid\", how=\"inner\")\n",
        "             .groupBy(\"storeid\")\n",
        "             .agg(\n",
        "                 F.sum(F.col(\"quantity\") * (F.col(\"price\") - F.col(\"cost\"))).alias(\"RevenuePerShop\")\n",
        "             )\n",
        ")\n",
        "\n",
        "dfRevenue.show()"
      ],
      "metadata": {
        "colab": {
          "base_uri": "https://localhost:8080/"
        },
        "id": "9XPLr8jS8zIv",
        "outputId": "063bcbd5-9813-4a12-8f42-5248923bf96c"
      },
      "execution_count": 17,
      "outputs": [
        {
          "output_type": "stream",
          "name": "stdout",
          "text": [
            "+-------+--------------+\n",
            "|storeid|RevenuePerShop|\n",
            "+-------+--------------+\n",
            "|      1|        1324.0|\n",
            "|      3|         782.5|\n",
            "|      5|         334.8|\n",
            "|      4|         520.0|\n",
            "|      2|        1900.0|\n",
            "+-------+--------------+\n",
            "\n"
          ]
        }
      ]
    },
    {
      "cell_type": "code",
      "source": [
        "dfLowest5 = (dfRevenue\n",
        "             .orderBy(F.col(\"RevenuePerShop\").asc())   # ascending order --> lowest first\n",
        "             .limit(5)\n",
        ")\n",
        "\n",
        "dfLowest5.show()"
      ],
      "metadata": {
        "colab": {
          "base_uri": "https://localhost:8080/"
        },
        "id": "T7N3Mxv098jQ",
        "outputId": "d12fb2b0-693c-476f-e6bd-9ae749f367cd"
      },
      "execution_count": 18,
      "outputs": [
        {
          "output_type": "stream",
          "name": "stdout",
          "text": [
            "+-------+--------------+\n",
            "|storeid|RevenuePerShop|\n",
            "+-------+--------------+\n",
            "|      5|         334.8|\n",
            "|      4|         520.0|\n",
            "|      3|         782.5|\n",
            "|      1|        1324.0|\n",
            "|      2|        1900.0|\n",
            "+-------+--------------+\n",
            "\n"
          ]
        }
      ]
    },
    {
      "cell_type": "markdown",
      "source": [
        "# **Deliverables**"
      ],
      "metadata": {
        "id": "oL4RIVnv_r11"
      }
    },
    {
      "cell_type": "code",
      "source": [
        "dfLowest5.coalesce(1) \\\n",
        "    .write.mode(\"overwrite\").option(\"header\", True) \\\n",
        "    .csv(\"/content/Lowest5Stores\")"
      ],
      "metadata": {
        "id": "xqlEnNUV-9G9"
      },
      "execution_count": 22,
      "outputs": []
    },
    {
      "cell_type": "code",
      "source": [
        "import shutil, glob\n",
        "\n",
        "low_file = glob.glob(\"/content/Lowest5Stores/part-*.csv\")[0]\n",
        "shutil.move(low_file, \"/content/Lowest5Stores.csv\")"
      ],
      "metadata": {
        "colab": {
          "base_uri": "https://localhost:8080/",
          "height": 36
        },
        "id": "pLppU1Gn--dS",
        "outputId": "622e356d-4bf8-4b43-8de7-29c53c112115"
      },
      "execution_count": 23,
      "outputs": [
        {
          "output_type": "execute_result",
          "data": {
            "text/plain": [
              "'/content/Lowest5Stores.csv'"
            ],
            "application/vnd.google.colaboratory.intrinsic+json": {
              "type": "string"
            }
          },
          "metadata": {},
          "execution_count": 23
        }
      ]
    },
    {
      "cell_type": "code",
      "source": [
        "import pandas as pd\n",
        "\n",
        "df = pd.read_csv(\"/content/Lowest5Stores.csv\")\n",
        "excel_path = \"/content/Lowest5Stores.xlsx\"\n",
        "df.to_excel(excel_path, index=False)"
      ],
      "metadata": {
        "id": "NaT8KUnr_CIa"
      },
      "execution_count": 24,
      "outputs": []
    },
    {
      "cell_type": "code",
      "source": [
        "from google.colab import files\n",
        "files.download(\"/content/Lowest5Stores.xlsx\")"
      ],
      "metadata": {
        "colab": {
          "base_uri": "https://localhost:8080/",
          "height": 17
        },
        "id": "ErQJN6ml_FHj",
        "outputId": "6e505a13-bbbd-4846-f6c6-f863545a72b6"
      },
      "execution_count": 25,
      "outputs": [
        {
          "output_type": "display_data",
          "data": {
            "text/plain": [
              "<IPython.core.display.Javascript object>"
            ],
            "application/javascript": [
              "\n",
              "    async function download(id, filename, size) {\n",
              "      if (!google.colab.kernel.accessAllowed) {\n",
              "        return;\n",
              "      }\n",
              "      const div = document.createElement('div');\n",
              "      const label = document.createElement('label');\n",
              "      label.textContent = `Downloading \"${filename}\": `;\n",
              "      div.appendChild(label);\n",
              "      const progress = document.createElement('progress');\n",
              "      progress.max = size;\n",
              "      div.appendChild(progress);\n",
              "      document.body.appendChild(div);\n",
              "\n",
              "      const buffers = [];\n",
              "      let downloaded = 0;\n",
              "\n",
              "      const channel = await google.colab.kernel.comms.open(id);\n",
              "      // Send a message to notify the kernel that we're ready.\n",
              "      channel.send({})\n",
              "\n",
              "      for await (const message of channel.messages) {\n",
              "        // Send a message to notify the kernel that we're ready.\n",
              "        channel.send({})\n",
              "        if (message.buffers) {\n",
              "          for (const buffer of message.buffers) {\n",
              "            buffers.push(buffer);\n",
              "            downloaded += buffer.byteLength;\n",
              "            progress.value = downloaded;\n",
              "          }\n",
              "        }\n",
              "      }\n",
              "      const blob = new Blob(buffers, {type: 'application/binary'});\n",
              "      const a = document.createElement('a');\n",
              "      a.href = window.URL.createObjectURL(blob);\n",
              "      a.download = filename;\n",
              "      div.appendChild(a);\n",
              "      a.click();\n",
              "      div.remove();\n",
              "    }\n",
              "  "
            ]
          },
          "metadata": {}
        },
        {
          "output_type": "display_data",
          "data": {
            "text/plain": [
              "<IPython.core.display.Javascript object>"
            ],
            "application/javascript": [
              "download(\"download_67686fd3-d530-4d4f-bb4b-3cbaf489a304\", \"Lowest5Stores.xlsx\", 5023)"
            ]
          },
          "metadata": {}
        }
      ]
    }
  ]
}